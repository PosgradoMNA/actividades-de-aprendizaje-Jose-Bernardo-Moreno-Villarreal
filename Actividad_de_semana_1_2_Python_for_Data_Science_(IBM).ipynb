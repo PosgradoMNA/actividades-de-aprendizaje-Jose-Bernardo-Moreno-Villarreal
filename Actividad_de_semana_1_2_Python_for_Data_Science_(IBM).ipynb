{
  "nbformat": 4,
  "nbformat_minor": 0,
  "metadata": {
    "colab": {
      "provenance": [],
      "collapsed_sections": [
        "ZbmDY6azRujh",
        "s-OFCaUmSXgp",
        "o4K_SwygUgA4",
        "XUisS6dEa6Yu",
        "Rt1m2zTAelkE",
        "R3bwWFTnhrDI",
        "5MiCkGSylWVR",
        "TQ0okLwXnLCb",
        "Ay5l-Tp6unJY",
        "PNsnBcdI2-Z0",
        "hvnh3fxO7406",
        "H2HynCwE_aPL",
        "MpIsSosdNBqB",
        "u6TvB2R6ONfE",
        "78dMldshR78y",
        "gw-Ai3KnEYuM",
        "X8ZT_CtFC_bm",
        "Cl-LeoQ2LstZ",
        "srDetuE0NEzL"
      ],
      "include_colab_link": true
    },
    "kernelspec": {
      "name": "python3",
      "display_name": "Python 3"
    },
    "language_info": {
      "name": "python"
    }
  },
  "cells": [
    {
      "cell_type": "markdown",
      "metadata": {
        "id": "view-in-github",
        "colab_type": "text"
      },
      "source": [
        "<a href=\"https://colab.research.google.com/github/PosgradoMNA/actividades-de-aprendizaje-Jose-Bernardo-Moreno-Villarreal/blob/main/Actividad_de_semana_1_2_Python_for_Data_Science_(IBM).ipynb\" target=\"_parent\"><img src=\"https://colab.research.google.com/assets/colab-badge.svg\" alt=\"Open In Colab\"/></a>"
      ]
    },
    {
      "cell_type": "markdown",
      "source": [
        "# A01794050 - Moreno Villarreal José Bernardo"
      ],
      "metadata": {
        "id": "Gy2GOTbrOMRZ"
      }
    },
    {
      "cell_type": "markdown",
      "source": [
        "*En cada una de las secciones del curso de IBM agrego un comentario sobre lo aprendido. Teclee los ejercicios para poder correrlos en la plataforma de Colab*"
      ],
      "metadata": {
        "id": "pXP0FzEYQ3ed"
      }
    },
    {
      "cell_type": "markdown",
      "source": [
        "*La primer seccion del curso me mostró comandos básicos de impresión de texto en la pantalla, la asignación de valores a variables y su despliegue, asi como los tipos de datos existentes. \n",
        "\n",
        "Esta parte resulta fundamental ya que el entender el tipo de variable a utilizar no permite razonar y aplicar diferentes operaciones para su procesamiento.*  \n"
      ],
      "metadata": {
        "id": "xOhvkvhpI_SL"
      }
    },
    {
      "cell_type": "markdown",
      "source": [
        "## Module 1 - Python Basics: Your First Program "
      ],
      "metadata": {
        "id": "ZbmDY6azRujh"
      }
    },
    {
      "cell_type": "markdown",
      "source": [
        "Question 1"
      ],
      "metadata": {
        "id": "s5xfbKKeR4yW"
      }
    },
    {
      "cell_type": "code",
      "source": [
        "print(\"Esta es mi primer tarea de Ciencia de datos\")\n",
        "print(\"Mi nombre es Josè Bernardo Moreno Villarreal\")\n",
        "print(\"Mi matrìcula es A017904050\")"
      ],
      "metadata": {
        "id": "mxM_WppZPMFx",
        "colab": {
          "base_uri": "https://localhost:8080/"
        },
        "outputId": "f5249056-28ee-4a6a-dbe2-573ba2dbd72b"
      },
      "execution_count": 3,
      "outputs": [
        {
          "output_type": "stream",
          "name": "stdout",
          "text": [
            "Esta es mi primer tarea de Ciencia de datos\n",
            "Mi nombre es Josè Bernardo Moreno Villarreal\n",
            "Mi matrìcula es A017904050\n"
          ]
        }
      ]
    },
    {
      "cell_type": "markdown",
      "source": [
        "Question 2"
      ],
      "metadata": {
        "id": "QDxahIqqR3Ms"
      }
    },
    {
      "cell_type": "code",
      "source": [
        "# print('Este es mi primer comentario de la clase!')"
      ],
      "metadata": {
        "id": "kVSyb4dPB0kY"
      },
      "execution_count": null,
      "outputs": []
    },
    {
      "cell_type": "markdown",
      "source": [
        "# Module 1 - Python Basics: Types"
      ],
      "metadata": {
        "id": "s-OFCaUmSXgp"
      }
    },
    {
      "cell_type": "markdown",
      "source": [
        "Existen diferentes tipos de datos. Se puede conocer el tipo de dato utilizado mediante el comando Type. \n",
        "\n",
        "Los diferentes tipos de datos mostrados son: \n",
        "\n",
        "integer\n",
        "float \n",
        "bool\n",
        "string "
      ],
      "metadata": {
        "id": "gLSLiKO-Si7H"
      }
    },
    {
      "cell_type": "code",
      "source": [
        "type(int(1.0))\n"
      ],
      "metadata": {
        "id": "izkAvQTaClI0",
        "outputId": "69e1641e-a87c-4c9e-84cd-a4dabab4b57a",
        "colab": {
          "base_uri": "https://localhost:8080/"
        }
      },
      "execution_count": 6,
      "outputs": [
        {
          "output_type": "execute_result",
          "data": {
            "text/plain": [
              "int"
            ]
          },
          "metadata": {},
          "execution_count": 6
        }
      ]
    },
    {
      "cell_type": "code",
      "source": [
        "bool(1)"
      ],
      "metadata": {
        "colab": {
          "base_uri": "https://localhost:8080/"
        },
        "id": "Dfw7F5crUSGF",
        "outputId": "81342cc8-9f87-4003-9647-7f1452ebd4d6"
      },
      "execution_count": null,
      "outputs": [
        {
          "output_type": "execute_result",
          "data": {
            "text/plain": [
              "True"
            ]
          },
          "metadata": {},
          "execution_count": 7
        }
      ]
    },
    {
      "cell_type": "markdown",
      "source": [
        "# Module 1 - Python Basics: Expressions and Variables"
      ],
      "metadata": {
        "id": "o4K_SwygUgA4"
      }
    },
    {
      "cell_type": "markdown",
      "source": [
        "Se pueden realizar operaciones directamente en pantalla o asignar valores a una variable. Se puede sobre escribir la variable o mandar a llamar el valor de la variable. "
      ],
      "metadata": {
        "id": "aG2GfCuZTBcJ"
      }
    },
    {
      "cell_type": "markdown",
      "source": [
        "Ejercicios presentados en el video de explicación:"
      ],
      "metadata": {
        "id": "Kcsq6G1NTjk4"
      }
    },
    {
      "cell_type": "code",
      "source": [
        "50-60"
      ],
      "metadata": {
        "colab": {
          "base_uri": "https://localhost:8080/"
        },
        "id": "p13TT75sU3x0",
        "outputId": "6d358c9d-4f7d-4b09-f484-c3f5cc8577c6"
      },
      "execution_count": null,
      "outputs": [
        {
          "output_type": "execute_result",
          "data": {
            "text/plain": [
              "-10"
            ]
          },
          "metadata": {},
          "execution_count": 8
        }
      ]
    },
    {
      "cell_type": "code",
      "source": [
        "25/6"
      ],
      "metadata": {
        "colab": {
          "base_uri": "https://localhost:8080/"
        },
        "id": "9FB9az67U61t",
        "outputId": "bdabf6c6-dcb9-48d1-8f40-9f4c2206ebfa"
      },
      "execution_count": null,
      "outputs": [
        {
          "output_type": "execute_result",
          "data": {
            "text/plain": [
              "4.166666666666667"
            ]
          },
          "metadata": {},
          "execution_count": 9
        }
      ]
    },
    {
      "cell_type": "code",
      "source": [
        "25//6"
      ],
      "metadata": {
        "colab": {
          "base_uri": "https://localhost:8080/"
        },
        "id": "7E9Vy2JBU-RX",
        "outputId": "b81a570e-e14a-4b08-a890-cb08ed34297c"
      },
      "execution_count": null,
      "outputs": [
        {
          "output_type": "execute_result",
          "data": {
            "text/plain": [
              "4"
            ]
          },
          "metadata": {},
          "execution_count": 10
        }
      ]
    },
    {
      "cell_type": "code",
      "source": [
        "(30+2)*60"
      ],
      "metadata": {
        "colab": {
          "base_uri": "https://localhost:8080/"
        },
        "id": "Yg81MeGfVHNt",
        "outputId": "ff3aa03f-632a-43aa-baf4-245e6d9aab45"
      },
      "execution_count": null,
      "outputs": [
        {
          "output_type": "execute_result",
          "data": {
            "text/plain": [
              "1920"
            ]
          },
          "metadata": {},
          "execution_count": 11
        }
      ]
    },
    {
      "cell_type": "code",
      "source": [
        "my_variable=1\n"
      ],
      "metadata": {
        "id": "P4yAtnk4VPCc"
      },
      "execution_count": null,
      "outputs": []
    },
    {
      "cell_type": "code",
      "source": [
        "my_variable\n"
      ],
      "metadata": {
        "colab": {
          "base_uri": "https://localhost:8080/"
        },
        "id": "CgyzZN2JVUJL",
        "outputId": "d9c37f37-404a-4c1d-c61c-1d4e8240fd03"
      },
      "execution_count": null,
      "outputs": [
        {
          "output_type": "execute_result",
          "data": {
            "text/plain": [
              "1"
            ]
          },
          "metadata": {},
          "execution_count": 13
        }
      ]
    },
    {
      "cell_type": "code",
      "source": [
        "my_variable=10"
      ],
      "metadata": {
        "id": "owdAiGhMVXN2"
      },
      "execution_count": null,
      "outputs": []
    },
    {
      "cell_type": "code",
      "source": [
        "my_variable\n"
      ],
      "metadata": {
        "colab": {
          "base_uri": "https://localhost:8080/"
        },
        "id": "tPEtRdzOVZvV",
        "outputId": "4b76884e-8a93-4fd1-de84-4225970844d5"
      },
      "execution_count": null,
      "outputs": [
        {
          "output_type": "execute_result",
          "data": {
            "text/plain": [
              "10"
            ]
          },
          "metadata": {},
          "execution_count": 15
        }
      ]
    },
    {
      "cell_type": "code",
      "source": [
        "x=34+43+5+9"
      ],
      "metadata": {
        "id": "hfqQbUznVdxn"
      },
      "execution_count": null,
      "outputs": []
    },
    {
      "cell_type": "markdown",
      "source": [
        "# Module 1 - Python Basics: - Write your first Python program"
      ],
      "metadata": {
        "id": "XUisS6dEa6Yu"
      }
    },
    {
      "cell_type": "markdown",
      "source": [
        "Ejercicios presentados en el video:"
      ],
      "metadata": {
        "id": "R1bpmcr5SHlM"
      }
    },
    {
      "cell_type": "code",
      "source": [
        "print('Hello, Python!')"
      ],
      "metadata": {
        "colab": {
          "base_uri": "https://localhost:8080/"
        },
        "id": "by9IeVosbF3M",
        "outputId": "c3c7d008-492e-49d7-92d4-d6ba634b724e"
      },
      "execution_count": null,
      "outputs": [
        {
          "output_type": "stream",
          "name": "stdout",
          "text": [
            "Hello, Python!\n"
          ]
        }
      ]
    },
    {
      "cell_type": "code",
      "source": [
        "import sys \n",
        "print(sys.version)"
      ],
      "metadata": {
        "colab": {
          "base_uri": "https://localhost:8080/"
        },
        "id": "tsSBL7L0bNrx",
        "outputId": "fc312972-74f0-4e32-abfb-346137dd82c9"
      },
      "execution_count": null,
      "outputs": [
        {
          "output_type": "stream",
          "name": "stdout",
          "text": [
            "3.7.14 (default, Sep  8 2022, 00:06:44) \n",
            "[GCC 7.5.0]\n"
          ]
        }
      ]
    },
    {
      "cell_type": "code",
      "source": [
        "#Practice on writing "
      ],
      "metadata": {
        "id": "9vcwD4Aubi4g"
      },
      "execution_count": null,
      "outputs": []
    },
    {
      "cell_type": "code",
      "source": [
        "x=40//10\n",
        "y=5+7\n",
        "z=x*y\n",
        "print(z)"
      ],
      "metadata": {
        "colab": {
          "base_uri": "https://localhost:8080/"
        },
        "id": "34ygi0mXeRxZ",
        "outputId": "4d4b33df-7313-4a00-b3e4-acf9d06c4281"
      },
      "execution_count": null,
      "outputs": [
        {
          "output_type": "stream",
          "name": "stdout",
          "text": [
            "48\n"
          ]
        }
      ]
    },
    {
      "cell_type": "markdown",
      "source": [
        "# Module 1 - Python Basics: - String Operations"
      ],
      "metadata": {
        "id": "Rt1m2zTAelkE"
      }
    },
    {
      "cell_type": "markdown",
      "source": [
        "Question 1"
      ],
      "metadata": {
        "id": "7PWnTqmRfH9S"
      }
    },
    {
      "cell_type": "code",
      "source": [
        "Numbers=\"0123456\"\n",
        "print(Numbers[::2])"
      ],
      "metadata": {
        "colab": {
          "base_uri": "https://localhost:8080/"
        },
        "id": "xFd7246Fezcu",
        "outputId": "b32d75e2-5b77-45b5-b6b4-19153bd29831"
      },
      "execution_count": null,
      "outputs": [
        {
          "output_type": "stream",
          "name": "stdout",
          "text": [
            "0246\n"
          ]
        }
      ]
    },
    {
      "cell_type": "markdown",
      "source": [
        "Question 2"
      ],
      "metadata": {
        "id": "E22TBHDHgLKx"
      }
    },
    {
      "cell_type": "code",
      "source": [
        "\"0123456\".find('1')"
      ],
      "metadata": {
        "colab": {
          "base_uri": "https://localhost:8080/"
        },
        "id": "bKfEnN1ffqAk",
        "outputId": "de0ac41b-b83d-4dc9-b47a-e71e858315dc"
      },
      "execution_count": null,
      "outputs": [
        {
          "output_type": "execute_result",
          "data": {
            "text/plain": [
              "1"
            ]
          },
          "metadata": {},
          "execution_count": 30
        }
      ]
    },
    {
      "cell_type": "code",
      "source": [
        "Name=\"Michael Jackson\" \n",
        "Name[::2]"
      ],
      "metadata": {
        "colab": {
          "base_uri": "https://localhost:8080/",
          "height": 37
        },
        "id": "I0gSlPv3gT77",
        "outputId": "b75f0c0e-cee6-4f10-ab25-52152820beda"
      },
      "execution_count": null,
      "outputs": [
        {
          "output_type": "execute_result",
          "data": {
            "text/plain": [
              "'McalJcsn'"
            ],
            "application/vnd.google.colaboratory.intrinsic+json": {
              "type": "string"
            }
          },
          "metadata": {},
          "execution_count": 31
        }
      ]
    },
    {
      "cell_type": "code",
      "source": [
        "Name[0:5:2]"
      ],
      "metadata": {
        "colab": {
          "base_uri": "https://localhost:8080/",
          "height": 37
        },
        "id": "_3QXaMlUgk1m",
        "outputId": "19fc010c-c124-4ec1-854c-092c667220b9"
      },
      "execution_count": null,
      "outputs": [
        {
          "output_type": "execute_result",
          "data": {
            "text/plain": [
              "'Mca'"
            ],
            "application/vnd.google.colaboratory.intrinsic+json": {
              "type": "string"
            }
          },
          "metadata": {},
          "execution_count": 32
        }
      ]
    },
    {
      "cell_type": "code",
      "source": [
        "Statement= \" is the best\"\n",
        "Name=\"Michael Jackson\"\n",
        "Name=Name+Statement\n",
        "NAME=Name.upper()\n",
        "print(Name)\n",
        "print(NAME)"
      ],
      "metadata": {
        "colab": {
          "base_uri": "https://localhost:8080/"
        },
        "id": "nnk_TgjJgo9-",
        "outputId": "b8b6f3be-79f7-4308-9fd4-0d1f739e23f5"
      },
      "execution_count": null,
      "outputs": [
        {
          "output_type": "stream",
          "name": "stdout",
          "text": [
            "Michael Jackson is the best\n",
            "MICHAEL JACKSON IS THE BEST\n"
          ]
        }
      ]
    },
    {
      "cell_type": "markdown",
      "source": [
        "# Module 1 - Python Basics: - Lab string operators"
      ],
      "metadata": {
        "id": "R3bwWFTnhrDI"
      }
    },
    {
      "cell_type": "markdown",
      "source": [
        "En Python se puede realizar operaciones con datos tipo string. Se pueden segmentar, transformar, buscar algun elemento en el arreglo. Este tipo de operaciones nos puede permitir trabajar con arreglos y organizar la informaciòn de mejor manera. "
      ],
      "metadata": {
        "id": "mdw2bFv2VwM5"
      }
    },
    {
      "cell_type": "code",
      "source": [
        "d=\"ABCDEFG\"\n",
        "print(d[:3])"
      ],
      "metadata": {
        "colab": {
          "base_uri": "https://localhost:8080/"
        },
        "id": "UT6_CRNPkW5X",
        "outputId": "68b462c7-34c6-418e-d94e-15973ec3793d"
      },
      "execution_count": null,
      "outputs": [
        {
          "output_type": "stream",
          "name": "stdout",
          "text": [
            "ABC\n"
          ]
        }
      ]
    },
    {
      "cell_type": "markdown",
      "source": [
        "Se imprime el valor en string cada 2 elementos. "
      ],
      "metadata": {
        "id": "PFhqCiA1WBsk"
      }
    },
    {
      "cell_type": "code",
      "source": [
        "e= \"clocrkr1e1c1t\"\n",
        "print(e[::2])"
      ],
      "metadata": {
        "colab": {
          "base_uri": "https://localhost:8080/"
        },
        "id": "MAjIp0k5kiNp",
        "outputId": "828591c4-2eb9-4c6f-d2ec-a63da69b74cd"
      },
      "execution_count": null,
      "outputs": [
        {
          "output_type": "stream",
          "name": "stdout",
          "text": [
            "correct\n"
          ]
        }
      ]
    },
    {
      "cell_type": "code",
      "source": [
        "f=\"You are wrong\"\n",
        "print(f.upper())"
      ],
      "metadata": {
        "colab": {
          "base_uri": "https://localhost:8080/"
        },
        "id": "G0jputWCkqku",
        "outputId": "e1181578-b963-4f61-f509-c9feb4d190b1"
      },
      "execution_count": null,
      "outputs": [
        {
          "output_type": "stream",
          "name": "stdout",
          "text": [
            "YOU ARE WRONG\n"
          ]
        }
      ]
    },
    {
      "cell_type": "code",
      "source": [
        "g= \"Mary had a little lam, little lamb\"\n",
        "g.find(\"had\")"
      ],
      "metadata": {
        "colab": {
          "base_uri": "https://localhost:8080/"
        },
        "id": "d7Cr6huVkxBu",
        "outputId": "973e82d6-74d4-41d4-bece-38134b4d550d"
      },
      "execution_count": null,
      "outputs": [
        {
          "output_type": "execute_result",
          "data": {
            "text/plain": [
              "5"
            ]
          },
          "metadata": {},
          "execution_count": 45
        }
      ]
    },
    {
      "cell_type": "code",
      "source": [
        "print(g.replace(\"Mary\", \"Bob\"))"
      ],
      "metadata": {
        "colab": {
          "base_uri": "https://localhost:8080/"
        },
        "id": "7Z7EpJDQlF0p",
        "outputId": "abb5691c-19a9-4833-c32d-a801e9eb2f74"
      },
      "execution_count": null,
      "outputs": [
        {
          "output_type": "stream",
          "name": "stdout",
          "text": [
            "Bob had a little lam, little lamb\n"
          ]
        }
      ]
    },
    {
      "cell_type": "markdown",
      "source": [
        "# Review Questions"
      ],
      "metadata": {
        "id": "5MiCkGSylWVR"
      }
    },
    {
      "cell_type": "markdown",
      "source": [
        "1.-What is the result of the following operation in Python \n",
        "3+2*2"
      ],
      "metadata": {
        "id": "OFsfElvLlcVn"
      }
    },
    {
      "cell_type": "code",
      "source": [
        "3+2*2"
      ],
      "metadata": {
        "colab": {
          "base_uri": "https://localhost:8080/"
        },
        "id": "Vl0VmgeEllC_",
        "outputId": "ccf4df25-3872-4471-b38d-3088a24ed7ed"
      },
      "execution_count": null,
      "outputs": [
        {
          "output_type": "execute_result",
          "data": {
            "text/plain": [
              "7"
            ]
          },
          "metadata": {},
          "execution_count": 47
        }
      ]
    },
    {
      "cell_type": "markdown",
      "source": [
        "2.- In Python, if you executed name = \"Lizz\", what would be the output of print(name[0:2])?"
      ],
      "metadata": {
        "id": "u4f-F_aAlpxg"
      }
    },
    {
      "cell_type": "code",
      "source": [
        "name='Lizz'\n",
        "print(name[0:2])"
      ],
      "metadata": {
        "colab": {
          "base_uri": "https://localhost:8080/"
        },
        "id": "JnEHpydJlmii",
        "outputId": "ae3fbd98-f9f3-44ca-9067-c844fa048607"
      },
      "execution_count": null,
      "outputs": [
        {
          "output_type": "stream",
          "name": "stdout",
          "text": [
            "Li\n"
          ]
        }
      ]
    },
    {
      "cell_type": "markdown",
      "source": [
        "3.- In Python, if you executed var = '01234567', what would be the result of print(var[::2])?"
      ],
      "metadata": {
        "id": "HawuEqT-mGfq"
      }
    },
    {
      "cell_type": "code",
      "source": [
        "var='01234567'\n",
        "print(var[::2])"
      ],
      "metadata": {
        "colab": {
          "base_uri": "https://localhost:8080/"
        },
        "id": "TsWRAty9l7qf",
        "outputId": "8d8b15b5-4944-4e28-d5a9-c22582823dc5"
      },
      "execution_count": null,
      "outputs": [
        {
          "output_type": "stream",
          "name": "stdout",
          "text": [
            "0246\n"
          ]
        }
      ]
    },
    {
      "cell_type": "markdown",
      "source": [
        "4.- InPython, what is the result of the following operation '1'+'2'?"
      ],
      "metadata": {
        "id": "ASq8St6kmXCT"
      }
    },
    {
      "cell_type": "code",
      "source": [
        "'1'+'2'"
      ],
      "metadata": {
        "colab": {
          "base_uri": "https://localhost:8080/",
          "height": 37
        },
        "id": "zYBlJYZhmSlB",
        "outputId": "6bf38e71-2acd-4039-f3ea-c4499df16928"
      },
      "execution_count": null,
      "outputs": [
        {
          "output_type": "execute_result",
          "data": {
            "text/plain": [
              "'12'"
            ],
            "application/vnd.google.colaboratory.intrinsic+json": {
              "type": "string"
            }
          },
          "metadata": {},
          "execution_count": 50
        }
      ]
    },
    {
      "cell_type": "markdown",
      "source": [
        "5.-Given myvar = 'hello', how would you convert myvar into uppercase?"
      ],
      "metadata": {
        "id": "DpgT443ImqkU"
      }
    },
    {
      "cell_type": "code",
      "source": [
        "myvar='hello'\n",
        "print(myvar.upper())\n"
      ],
      "metadata": {
        "colab": {
          "base_uri": "https://localhost:8080/"
        },
        "id": "MJe_M7REmeRw",
        "outputId": "094d7b4e-1543-4eb1-9a48-577ee69376fc"
      },
      "execution_count": null,
      "outputs": [
        {
          "output_type": "stream",
          "name": "stdout",
          "text": [
            "HELLO\n"
          ]
        }
      ]
    },
    {
      "cell_type": "markdown",
      "source": [
        "# Module 2 - Python Data Structures: List and Tuples"
      ],
      "metadata": {
        "id": "TQ0okLwXnLCb"
      }
    },
    {
      "cell_type": "markdown",
      "source": [
        "En esta secciòn se mostrò el tipo de datos estructurados, entre ellos las listas y tuples. \n",
        "\n",
        "\n",
        "Lista -> Mutable  \n",
        "\n",
        "Tuple -> No Mutable\n"
      ],
      "metadata": {
        "id": "UsjplR92Wluy"
      }
    },
    {
      "cell_type": "markdown",
      "source": [
        "Tuples: \n",
        "\n",
        "*   An ordered sequence\n",
        "*   Written as comma - sepparated elements within parentheses\n",
        "*   Type of variable is Tupple\n",
        "*   They are inmutable, they can not be modified. \n",
        "\n",
        "List: \n",
        "\n",
        "*  Ordered sequences \n",
        "*  Are mutable\n",
        "*  They are mutable \n",
        "\n"
      ],
      "metadata": {
        "id": "L7vK7v_ancLL"
      }
    },
    {
      "cell_type": "markdown",
      "source": [
        "Question 1: How do you access the last element of the following tuple: A=(0,1,2,3)? Select all possible correct answers."
      ],
      "metadata": {
        "id": "5de_pOebqZqm"
      }
    },
    {
      "cell_type": "code",
      "source": [
        "A=(0,1,2,3)\n",
        "print(A[3])\n",
        "print(A[-1])"
      ],
      "metadata": {
        "colab": {
          "base_uri": "https://localhost:8080/"
        },
        "id": "XZBPlTu-qhCt",
        "outputId": "501cb3a5-f4b3-47b6-8df0-d61d25719288"
      },
      "execution_count": null,
      "outputs": [
        {
          "output_type": "stream",
          "name": "stdout",
          "text": [
            "3\n",
            "3\n"
          ]
        }
      ]
    },
    {
      "cell_type": "markdown",
      "source": [
        "Question 2: Consider the list: B=[\"a\",\"b\",\"c\"].\n",
        "\n",
        "What is the result of the following B[1:]?"
      ],
      "metadata": {
        "id": "2Ktgdxe9rBuk"
      }
    },
    {
      "cell_type": "code",
      "source": [
        "B=[\"a\",\"b\",\"c\"]\n",
        "print(B[1:])"
      ],
      "metadata": {
        "colab": {
          "base_uri": "https://localhost:8080/"
        },
        "id": "NEBh-QgLqr5u",
        "outputId": "aa3896db-ddcd-4bc3-d421-328a30e5bdad"
      },
      "execution_count": null,
      "outputs": [
        {
          "output_type": "stream",
          "name": "stdout",
          "text": [
            "['b', 'c']\n"
          ]
        }
      ]
    },
    {
      "cell_type": "code",
      "source": [
        "A=(0,1,2,3)\n",
        "print(A[:2])\n",
        "B=[\"a\",\"b\",\"c\"]\n",
        "print(B[:2])"
      ],
      "metadata": {
        "colab": {
          "base_uri": "https://localhost:8080/"
        },
        "id": "dKMrbwpsrNB9",
        "outputId": "8a7d5e4e-aba0-45db-a8d0-89489768ac68"
      },
      "execution_count": null,
      "outputs": [
        {
          "output_type": "stream",
          "name": "stdout",
          "text": [
            "(0, 1)\n",
            "['a', 'b']\n"
          ]
        }
      ]
    },
    {
      "cell_type": "code",
      "source": [
        "B[0]=\"A\"\n",
        "print(B)\n"
      ],
      "metadata": {
        "colab": {
          "base_uri": "https://localhost:8080/"
        },
        "id": "3fjC3W2asIjk",
        "outputId": "73e3dcdf-8f33-44b5-9751-9b486df9cb3f"
      },
      "execution_count": null,
      "outputs": [
        {
          "output_type": "stream",
          "name": "stdout",
          "text": [
            "['A', 'b', 'c']\n"
          ]
        }
      ]
    },
    {
      "cell_type": "markdown",
      "source": [
        "# Module 2 - Python Data Structures : Lab  Tuples"
      ],
      "metadata": {
        "id": "Ay5l-Tp6unJY"
      }
    },
    {
      "cell_type": "markdown",
      "source": [
        "En el módulo 2 se muestra la utilizaciòn de Tuples, Listas y sets . "
      ],
      "metadata": {
        "id": "R4daLg54PIrO"
      }
    },
    {
      "cell_type": "code",
      "source": [
        "#Create your first tuple \n",
        "tuple1=(\"disco\",10,1.2)\n",
        "tuple1\n",
        "type(tuple1)"
      ],
      "metadata": {
        "colab": {
          "base_uri": "https://localhost:8080/"
        },
        "id": "vrFJmleMu4fK",
        "outputId": "a0683c58-cdf8-4bcd-cf49-47fbe14dba58"
      },
      "execution_count": null,
      "outputs": [
        {
          "output_type": "execute_result",
          "data": {
            "text/plain": [
              "tuple"
            ]
          },
          "metadata": {},
          "execution_count": 65
        }
      ]
    },
    {
      "cell_type": "code",
      "source": [
        "print(tuple1[0])\n",
        "print(tuple1[1])\n",
        "print(tuple1[2])"
      ],
      "metadata": {
        "colab": {
          "base_uri": "https://localhost:8080/"
        },
        "id": "fgWVPoJMvWd1",
        "outputId": "1e30578d-9d47-4aab-f0ea-00ae13bdfe91"
      },
      "execution_count": null,
      "outputs": [
        {
          "output_type": "stream",
          "name": "stdout",
          "text": [
            "disco\n",
            "10\n",
            "1.2\n"
          ]
        }
      ]
    },
    {
      "cell_type": "code",
      "source": [
        "print(type(tuple1[0]))\n",
        "print(type(tuple1[1]))\n",
        "print(type(tuple1[2]))"
      ],
      "metadata": {
        "colab": {
          "base_uri": "https://localhost:8080/"
        },
        "id": "Vo_IXcR8v8dq",
        "outputId": "fea48f42-7060-40a9-f48c-5b68af8046d1"
      },
      "execution_count": null,
      "outputs": [
        {
          "output_type": "stream",
          "name": "stdout",
          "text": [
            "<class 'str'>\n",
            "<class 'int'>\n",
            "<class 'float'>\n"
          ]
        }
      ]
    },
    {
      "cell_type": "code",
      "source": [
        "print(tuple1[-1])\n",
        "print(tuple1[-2])\n",
        "print(tuple1[-3])\n"
      ],
      "metadata": {
        "colab": {
          "base_uri": "https://localhost:8080/"
        },
        "id": "O_LT_m3JwIXg",
        "outputId": "47cd7a25-71fb-470d-d3ac-267e23946a52"
      },
      "execution_count": null,
      "outputs": [
        {
          "output_type": "stream",
          "name": "stdout",
          "text": [
            "1.2\n",
            "10\n",
            "disco\n"
          ]
        }
      ]
    },
    {
      "cell_type": "code",
      "source": [
        "tuple2= tuple1+(\"hard rock\",10)\n",
        "tuple2"
      ],
      "metadata": {
        "colab": {
          "base_uri": "https://localhost:8080/"
        },
        "id": "jaAoONyew0Ol",
        "outputId": "61372a18-1bed-4013-fffa-22f267b27924"
      },
      "execution_count": null,
      "outputs": [
        {
          "output_type": "execute_result",
          "data": {
            "text/plain": [
              "('disco', 10, 1.2, 'hard rock', 10)"
            ]
          },
          "metadata": {},
          "execution_count": 79
        }
      ]
    },
    {
      "cell_type": "code",
      "source": [
        "tuple2[0:3]"
      ],
      "metadata": {
        "colab": {
          "base_uri": "https://localhost:8080/"
        },
        "id": "FcarOCptxEDp",
        "outputId": "7acd033d-a9f7-4bb0-8aa0-ec21ea489715"
      },
      "execution_count": null,
      "outputs": [
        {
          "output_type": "execute_result",
          "data": {
            "text/plain": [
              "('disco', 10, 1.2)"
            ]
          },
          "metadata": {},
          "execution_count": 80
        }
      ]
    },
    {
      "cell_type": "code",
      "source": [
        "tuple2[3:5]"
      ],
      "metadata": {
        "colab": {
          "base_uri": "https://localhost:8080/"
        },
        "id": "UFlBNPbAxLja",
        "outputId": "508b546a-8b1d-4a28-86f1-65964d6f2878"
      },
      "execution_count": null,
      "outputs": [
        {
          "output_type": "execute_result",
          "data": {
            "text/plain": [
              "('hard rock', 10)"
            ]
          },
          "metadata": {},
          "execution_count": 81
        }
      ]
    },
    {
      "cell_type": "code",
      "source": [
        "len(tuple2)"
      ],
      "metadata": {
        "colab": {
          "base_uri": "https://localhost:8080/"
        },
        "id": "qnt6YddWxQ3o",
        "outputId": "0ca8eaec-aa84-4485-b4c8-f191deb4412e"
      },
      "execution_count": null,
      "outputs": [
        {
          "output_type": "execute_result",
          "data": {
            "text/plain": [
              "5"
            ]
          },
          "metadata": {},
          "execution_count": 82
        }
      ]
    },
    {
      "cell_type": "code",
      "source": [
        "ratings=(0,9,6,5,10,8,9,6,2)\n",
        "RatingsSorted= sorted(ratings)\n",
        "RatingsSorted"
      ],
      "metadata": {
        "colab": {
          "base_uri": "https://localhost:8080/"
        },
        "id": "PR4ym9FfxVBM",
        "outputId": "093e826f-2089-4db0-a91f-05f609ac9925"
      },
      "execution_count": null,
      "outputs": [
        {
          "output_type": "execute_result",
          "data": {
            "text/plain": [
              "[0, 2, 5, 6, 6, 8, 9, 9, 10]"
            ]
          },
          "metadata": {},
          "execution_count": 84
        }
      ]
    },
    {
      "cell_type": "code",
      "source": [
        "NestedT= (1,2,(\"pop\",\"rock\"),(3,4),(\"disco\",(1,2)))\n",
        "print(\"Element 0 of Tuple\", NestedT[0])\n",
        "print(\"Element 1 of Tuple\", NestedT[1])\n",
        "print(\"Element 2 of Tuple\", NestedT[2])\n",
        "print(\"Element 3 of Tuple\", NestedT[3])\n",
        "print(\"Element 4 of Tuple\", NestedT[4])"
      ],
      "metadata": {
        "colab": {
          "base_uri": "https://localhost:8080/"
        },
        "id": "SYTMnO1Hx1RT",
        "outputId": "41ef0937-9ead-4b30-c33e-d37744a9d687"
      },
      "execution_count": null,
      "outputs": [
        {
          "output_type": "stream",
          "name": "stdout",
          "text": [
            "Element 0 of Tuple 1\n",
            "Element 1 of Tuple 2\n",
            "Element 2 of Tuple ('pop', 'rock')\n",
            "Element 3 of Tuple (3, 4)\n",
            "Element 4 of Tuple ('disco', (1, 2))\n"
          ]
        }
      ]
    },
    {
      "cell_type": "code",
      "source": [
        "print(\"Element 2,0 of Tuple\", NestedT[2][0])\n",
        "print(\"Element 2,1 of Tuple\", NestedT[2][1])\n",
        "print(\"Element 3,0 of Tuple\", NestedT[3][0])\n",
        "print(\"Element 3,1 of Tuple\", NestedT[3][1])\n",
        "print(\"Element 4,0 of Tuple\", NestedT[4][0])\n",
        "print(\"Element 4,1 of Tuple\", NestedT[4][1])"
      ],
      "metadata": {
        "colab": {
          "base_uri": "https://localhost:8080/"
        },
        "id": "Iv-s5LP-yyuK",
        "outputId": "8c0ac716-2ba7-48a2-e856-18d1f94403f3"
      },
      "execution_count": null,
      "outputs": [
        {
          "output_type": "stream",
          "name": "stdout",
          "text": [
            "Element 2,0 of Tuple pop\n",
            "Element 2,1 of Tuple rock\n",
            "Element 3,0 of Tuple 3\n",
            "Element 3,1 of Tuple 4\n",
            "Element 4,0 of Tuple disco\n",
            "Element 4,1 of Tuple (1, 2)\n"
          ]
        }
      ]
    },
    {
      "cell_type": "code",
      "source": [
        "NestedT[2][1][0]"
      ],
      "metadata": {
        "colab": {
          "base_uri": "https://localhost:8080/",
          "height": 37
        },
        "id": "w1vHh1v5zV14",
        "outputId": "3d1d2af9-d749-4944-b9d1-3246aa908e00"
      },
      "execution_count": null,
      "outputs": [
        {
          "output_type": "execute_result",
          "data": {
            "text/plain": [
              "'r'"
            ],
            "application/vnd.google.colaboratory.intrinsic+json": {
              "type": "string"
            }
          },
          "metadata": {},
          "execution_count": 89
        }
      ]
    },
    {
      "cell_type": "code",
      "source": [
        "NestedT[2][1][1]"
      ],
      "metadata": {
        "colab": {
          "base_uri": "https://localhost:8080/",
          "height": 37
        },
        "id": "C0DXQg3ozobO",
        "outputId": "497dba64-f0fd-40cf-f4c8-6ad5992061b4"
      },
      "execution_count": null,
      "outputs": [
        {
          "output_type": "execute_result",
          "data": {
            "text/plain": [
              "'o'"
            ],
            "application/vnd.google.colaboratory.intrinsic+json": {
              "type": "string"
            }
          },
          "metadata": {},
          "execution_count": 90
        }
      ]
    },
    {
      "cell_type": "code",
      "source": [
        "NestedT[4][1][0]"
      ],
      "metadata": {
        "colab": {
          "base_uri": "https://localhost:8080/"
        },
        "id": "ysmdFGC6zvwA",
        "outputId": "7b2837e8-4c2a-47ba-cf19-2d4ffabf9dcf"
      },
      "execution_count": null,
      "outputs": [
        {
          "output_type": "execute_result",
          "data": {
            "text/plain": [
              "1"
            ]
          },
          "metadata": {},
          "execution_count": 96
        }
      ]
    },
    {
      "cell_type": "code",
      "source": [
        "NestedT[4][1][1]"
      ],
      "metadata": {
        "colab": {
          "base_uri": "https://localhost:8080/"
        },
        "id": "NjZJIykf0NTJ",
        "outputId": "baf4b352-2d42-4d73-9fd2-43335e8276c8"
      },
      "execution_count": null,
      "outputs": [
        {
          "output_type": "execute_result",
          "data": {
            "text/plain": [
              "2"
            ]
          },
          "metadata": {},
          "execution_count": 97
        }
      ]
    },
    {
      "cell_type": "code",
      "source": [
        "#Sample Tuple \n",
        "geneeres_tuple = (\"pop\",\"rock\",\"soul\",\"hard rock\",\"soft rock\", \"R&B\",\"progressive rock\", \"disco\")\n",
        "len(geneeres_tuple)\n",
        "print(geneeres_tuple[3])\n",
        "print(geneeres_tuple[3:6])\n",
        "print(geneeres_tuple[:2])\n",
        "print(geneeres_tuple.index(\"disco\"))\n",
        "sortedList= sorted(geneeres_tuple)\n",
        "print(sortedList)"
      ],
      "metadata": {
        "id": "yWrpvt8E0WO-",
        "colab": {
          "base_uri": "https://localhost:8080/"
        },
        "outputId": "46e56297-ae9d-4782-eb47-4bec2126a199"
      },
      "execution_count": null,
      "outputs": [
        {
          "output_type": "stream",
          "name": "stdout",
          "text": [
            "hard rock\n",
            "('hard rock', 'soft rock', 'R&B')\n",
            "('pop', 'rock')\n",
            "7\n",
            "['R&B', 'disco', 'hard rock', 'pop', 'progressive rock', 'rock', 'soft rock', 'soul']\n"
          ]
        }
      ]
    },
    {
      "cell_type": "markdown",
      "source": [
        "# Module 2 - Python Data Structures: Lab - Lists\n"
      ],
      "metadata": {
        "id": "PNsnBcdI2-Z0"
      }
    },
    {
      "cell_type": "code",
      "source": [
        "L=[\"Michael Jackson\",10.1, 1982]\n",
        "print(\"The same element using positive: \",L[0],\" and negative index: \", L[-3])\n",
        "print(\"The same element using positive: \",L[1],\" and negative index: \", L[-2])\n",
        "print(\"The same element using positive: \",L[2],\" and negative index: \", L[-1])"
      ],
      "metadata": {
        "colab": {
          "base_uri": "https://localhost:8080/"
        },
        "id": "_r48dPQa3IYW",
        "outputId": "f03fe133-8937-412e-dfc6-fd5e9d1c3e4d"
      },
      "execution_count": null,
      "outputs": [
        {
          "output_type": "stream",
          "name": "stdout",
          "text": [
            "The same element using positive:  Michael Jackson  and negative index:  Michael Jackson\n",
            "The same element using positive:  10.1  and negative index:  10.1\n",
            "The same element using positive:  1982  and negative index:  1982\n"
          ]
        }
      ]
    },
    {
      "cell_type": "code",
      "source": [
        "L=[\"Michael Jackson\",10.1, 1982,[1,2],(\"A\",1)]\n",
        "L[3:5]"
      ],
      "metadata": {
        "colab": {
          "base_uri": "https://localhost:8080/"
        },
        "id": "v4UUN4uX36gY",
        "outputId": "e02207c4-f203-4e05-848c-61302dabe12a"
      },
      "execution_count": null,
      "outputs": [
        {
          "output_type": "execute_result",
          "data": {
            "text/plain": [
              "[[1, 2], ('A', 1)]"
            ]
          },
          "metadata": {},
          "execution_count": 115
        }
      ]
    },
    {
      "cell_type": "code",
      "source": [
        "L.extend([\"pop\",10])\n",
        "print(L)"
      ],
      "metadata": {
        "colab": {
          "base_uri": "https://localhost:8080/"
        },
        "id": "vRdRQVMW4NG1",
        "outputId": "ef638c05-ba7c-4147-cd46-d1d9901e1d2a"
      },
      "execution_count": null,
      "outputs": [
        {
          "output_type": "stream",
          "name": "stdout",
          "text": [
            "['Michael Jackson', 10.1, 1982, [1, 2], ('A', 1), 'pop', 10, 'pop', 10, 'pop', 10]\n"
          ]
        }
      ]
    },
    {
      "cell_type": "code",
      "source": [
        "L=[\"Michael Jackson\",10.1, 1982]\n",
        "L.append([\"pop\",10])\n",
        "print(L)"
      ],
      "metadata": {
        "colab": {
          "base_uri": "https://localhost:8080/"
        },
        "id": "95SXRUyc4eQX",
        "outputId": "e61962ec-6d7e-4294-b763-f6a397e5d7ea"
      },
      "execution_count": null,
      "outputs": [
        {
          "output_type": "stream",
          "name": "stdout",
          "text": [
            "['Michael Jackson', 10.1, 1982, ['pop', 10]]\n"
          ]
        }
      ]
    },
    {
      "cell_type": "code",
      "source": [
        "L=[\"Michael Jackson\",10.1, 1982]\n",
        "L.extend([\"pop\",10])\n",
        "print(L)"
      ],
      "metadata": {
        "colab": {
          "base_uri": "https://localhost:8080/"
        },
        "id": "RgoHBiWp46ow",
        "outputId": "9f102bc3-4e3d-40bd-a1a5-8dcfb39334d5"
      },
      "execution_count": null,
      "outputs": [
        {
          "output_type": "stream",
          "name": "stdout",
          "text": [
            "['Michael Jackson', 10.1, 1982, 'pop', 10]\n"
          ]
        }
      ]
    },
    {
      "cell_type": "code",
      "source": [
        "A= [\"disco\",10,1.2]\n",
        "print( \"Before change: \",A)\n",
        "A[0]=\"hard Rock\"; \n",
        "print(\"After change: \", A)"
      ],
      "metadata": {
        "colab": {
          "base_uri": "https://localhost:8080/"
        },
        "id": "1NUNvs225H5E",
        "outputId": "bfe90654-2f7f-448d-d712-a8587637bbba"
      },
      "execution_count": null,
      "outputs": [
        {
          "output_type": "stream",
          "name": "stdout",
          "text": [
            "Before change:  ['disco', 10, 1.2]\n",
            "After change:  ['hard Rock', 10, 1.2]\n"
          ]
        }
      ]
    },
    {
      "cell_type": "code",
      "source": [
        "\n",
        "print( \"Before change: \",A)\n",
        "del(A[0]); \n",
        "print(\"After change: \", A)"
      ],
      "metadata": {
        "colab": {
          "base_uri": "https://localhost:8080/"
        },
        "id": "J_G0VcMX5Yym",
        "outputId": "28f3414f-1ebc-462c-88a2-f7270fa8a4b1"
      },
      "execution_count": null,
      "outputs": [
        {
          "output_type": "stream",
          "name": "stdout",
          "text": [
            "Before change:  ['hard Rock', 10, 1.2]\n",
            "After change:  [10, 1.2]\n"
          ]
        }
      ]
    },
    {
      "cell_type": "code",
      "source": [
        "\"hard rock\".split()\n"
      ],
      "metadata": {
        "colab": {
          "base_uri": "https://localhost:8080/"
        },
        "id": "TGCinv_55k51",
        "outputId": "5bc6b208-c913-4017-e4bb-31e60c4281ba"
      },
      "execution_count": null,
      "outputs": [
        {
          "output_type": "execute_result",
          "data": {
            "text/plain": [
              "['hard', 'rock']"
            ]
          },
          "metadata": {},
          "execution_count": 126
        }
      ]
    },
    {
      "cell_type": "code",
      "source": [
        "\"A,B,C,D\".split(\",\")"
      ],
      "metadata": {
        "colab": {
          "base_uri": "https://localhost:8080/"
        },
        "id": "zrODll5Y5vxB",
        "outputId": "711936e5-90c6-4341-c21d-8c022a6c0e66"
      },
      "execution_count": null,
      "outputs": [
        {
          "output_type": "execute_result",
          "data": {
            "text/plain": [
              "['A', 'B', 'C', 'D']"
            ]
          },
          "metadata": {},
          "execution_count": 127
        }
      ]
    },
    {
      "cell_type": "code",
      "source": [
        "A=[\"hard rock\",10,1.2]\n",
        "B=A\n",
        "print(\"A:\",A)\n",
        "print(\"B:\",B)"
      ],
      "metadata": {
        "colab": {
          "base_uri": "https://localhost:8080/"
        },
        "id": "Mpm9LiUT50e0",
        "outputId": "d77b2ef3-88ff-472b-fe3c-872138c1444a"
      },
      "execution_count": null,
      "outputs": [
        {
          "output_type": "stream",
          "name": "stdout",
          "text": [
            "A: ['hard rock', 10, 1.2]\n",
            "B: ['hard rock', 10, 1.2]\n"
          ]
        }
      ]
    },
    {
      "cell_type": "code",
      "source": [
        "print(\"B[0]: \", B[0])\n",
        "A[0]=\"Banana\"\n",
        "print(\"B[0]: \", B[0])\n",
        "print(\"A[0]: \", A[0])"
      ],
      "metadata": {
        "colab": {
          "base_uri": "https://localhost:8080/"
        },
        "id": "70DkmMji6RB6",
        "outputId": "4e187715-1f45-4d18-db97-fce85431ba9a"
      },
      "execution_count": null,
      "outputs": [
        {
          "output_type": "stream",
          "name": "stdout",
          "text": [
            "B[0]:  Banana\n",
            "B[0]:  Banana\n",
            "A[0]:  Banana\n"
          ]
        }
      ]
    },
    {
      "cell_type": "code",
      "source": [
        "B=A[:]\n",
        "B"
      ],
      "metadata": {
        "colab": {
          "base_uri": "https://localhost:8080/"
        },
        "id": "5edheGwU6lEx",
        "outputId": "a1b59373-d9a0-4f5b-aa57-652aaa265a84"
      },
      "execution_count": null,
      "outputs": [
        {
          "output_type": "execute_result",
          "data": {
            "text/plain": [
              "['Banana', 10, 1.2]"
            ]
          },
          "metadata": {},
          "execution_count": 135
        }
      ]
    },
    {
      "cell_type": "code",
      "source": [
        "print(\"B[0]: \", B[0])\n",
        "A[0]=\"Hard Rock\"\n",
        "print(\"B[0]: \", B[0])\n",
        "print(\"A[0]: \", A[0])"
      ],
      "metadata": {
        "colab": {
          "base_uri": "https://localhost:8080/"
        },
        "id": "eiADMaGW6rT4",
        "outputId": "98db2d57-f38d-4092-87a2-5153bd3e6373"
      },
      "execution_count": null,
      "outputs": [
        {
          "output_type": "stream",
          "name": "stdout",
          "text": [
            "B[0]:  Banana\n",
            "B[0]:  Banana\n",
            "A[0]:  Hard Rock\n"
          ]
        }
      ]
    },
    {
      "cell_type": "markdown",
      "source": [
        "QUIZZ"
      ],
      "metadata": {
        "id": "hLpVy9Ws47jJ"
      }
    },
    {
      "cell_type": "code",
      "source": [
        "List=(1,\"hello\",[1,2,3],True)\n",
        "print(List[1])\n",
        "print(List[:3])"
      ],
      "metadata": {
        "colab": {
          "base_uri": "https://localhost:8080/"
        },
        "id": "i_bnVG9j7E2f",
        "outputId": "61aa5e30-1ef5-4795-fc74-7b8cade7a312"
      },
      "execution_count": null,
      "outputs": [
        {
          "output_type": "stream",
          "name": "stdout",
          "text": [
            "hello\n",
            "(1, 'hello', [1, 2, 3])\n"
          ]
        }
      ]
    },
    {
      "cell_type": "code",
      "source": [
        "A=[1,\"A\"]\n",
        "B=[2,1,\"d\"]\n",
        "A+B"
      ],
      "metadata": {
        "colab": {
          "base_uri": "https://localhost:8080/"
        },
        "id": "7p27USs67g2n",
        "outputId": "cc75ebed-bd5d-45e3-8e76-e2d24fc7bb60"
      },
      "execution_count": null,
      "outputs": [
        {
          "output_type": "execute_result",
          "data": {
            "text/plain": [
              "[1, 'A', 2, 1, 'd']"
            ]
          },
          "metadata": {},
          "execution_count": 147
        }
      ]
    },
    {
      "cell_type": "markdown",
      "source": [
        "# Module 2 - Python Data Structures: Sets\n"
      ],
      "metadata": {
        "id": "hvnh3fxO7406"
      }
    },
    {
      "cell_type": "markdown",
      "source": [
        "\n",
        "\n",
        "*   Sets are type of collection\n",
        "*   They are unordered\n",
        "*   Only have unique Elements\n",
        "\n"
      ],
      "metadata": {
        "id": "L5xqgNyf8GVt"
      }
    },
    {
      "cell_type": "markdown",
      "source": [
        "Question 1: What is the result of the following lines of code:\n",
        "\n",
        "S={'A','B','C'}\n",
        "\n",
        "U={'A','Z','C'}\n",
        "\n",
        "U.union(S)"
      ],
      "metadata": {
        "id": "O5670Ge_9b4O"
      }
    },
    {
      "cell_type": "code",
      "source": [
        "S={'A','B','C'}\n",
        "\n",
        "U={'A','Z','C'}\n",
        "\n",
        "U.union(S)"
      ],
      "metadata": {
        "colab": {
          "base_uri": "https://localhost:8080/"
        },
        "id": "9S1dhi6i9fm4",
        "outputId": "14e38bd6-dcad-40c4-9198-c4ce6683f7bc"
      },
      "execution_count": null,
      "outputs": [
        {
          "output_type": "execute_result",
          "data": {
            "text/plain": [
              "{'A', 'B', 'C', 'Z'}"
            ]
          },
          "metadata": {},
          "execution_count": 148
        }
      ]
    },
    {
      "cell_type": "markdown",
      "source": [
        "Question 2: What is the intersection of set S and U?\n",
        "\n",
        "S={'A','B','C'}\n",
        "\n",
        "U={'A','Z','C'}"
      ],
      "metadata": {
        "id": "ao9f5vu89ob5"
      }
    },
    {
      "cell_type": "code",
      "source": [
        "S={'A','B','C'}\n",
        "U={'A','Z','C'}\n",
        "K= S&U\n",
        "print(K)"
      ],
      "metadata": {
        "colab": {
          "base_uri": "https://localhost:8080/"
        },
        "id": "o49LtlFG8BCL",
        "outputId": "f808d087-cb32-447d-e14c-8375f86a9ea4"
      },
      "execution_count": null,
      "outputs": [
        {
          "output_type": "stream",
          "name": "stdout",
          "text": [
            "{'C', 'A'}\n"
          ]
        }
      ]
    },
    {
      "cell_type": "code",
      "source": [
        "set([\"A\",\"B\",\"C\",\"A\",\"B\",\"C\"])"
      ],
      "metadata": {
        "colab": {
          "base_uri": "https://localhost:8080/"
        },
        "id": "OoYMSpHC-d60",
        "outputId": "0e00b3f8-e51e-46ba-e182-2a6b3b27f8df"
      },
      "execution_count": null,
      "outputs": [
        {
          "output_type": "execute_result",
          "data": {
            "text/plain": [
              "{'A', 'B', 'C'}"
            ]
          },
          "metadata": {},
          "execution_count": 152
        }
      ]
    },
    {
      "cell_type": "code",
      "source": [
        "S=set([\"A\",\"B\",\"C\",\"A\",\"B\",\"C\"])\n",
        "S.add(\"D\")\n",
        "print(S)"
      ],
      "metadata": {
        "colab": {
          "base_uri": "https://localhost:8080/"
        },
        "id": "h_gQpPpq-zZU",
        "outputId": "08e4f070-5609-429a-f3cb-48e16d409d67"
      },
      "execution_count": null,
      "outputs": [
        {
          "output_type": "stream",
          "name": "stdout",
          "text": [
            "{'C', 'D', 'A', 'B'}\n"
          ]
        }
      ]
    },
    {
      "cell_type": "code",
      "source": [
        "#Intersection of a set \n",
        "A={1,2,3,4,5}\n",
        "B={1,3,9,12}\n",
        "print(A.intersection(B) )\n",
        "print(A&B)"
      ],
      "metadata": {
        "colab": {
          "base_uri": "https://localhost:8080/"
        },
        "id": "zyqjy-h5-__h",
        "outputId": "35fec6e9-c5ee-40f2-e20b-a3af2e5b26c5"
      },
      "execution_count": null,
      "outputs": [
        {
          "output_type": "stream",
          "name": "stdout",
          "text": [
            "{1, 3}\n",
            "{1, 3}\n"
          ]
        }
      ]
    },
    {
      "cell_type": "markdown",
      "source": [
        "# Module 2 - Python Data Structures: Lab - Sets"
      ],
      "metadata": {
        "id": "H2HynCwE_aPL"
      }
    },
    {
      "cell_type": "code",
      "source": [
        "set1={\"pop\",\"rock\",\"soul\", \"hard rock\", \"rock\", \"R&B\", \"rock\", \"disco\"}"
      ],
      "metadata": {
        "id": "WYTMIHKD_goI"
      },
      "execution_count": null,
      "outputs": []
    },
    {
      "cell_type": "code",
      "source": [
        "album_list= [\"Michael Jackson\",\"Thriller\",1982,\"00:42:19\",\"Pop,Rock, R&B\", 46.0, 65,\"30-Nov-82\", None,10.0]\n",
        "album_set= set(album_list)\n",
        "album_set"
      ],
      "metadata": {
        "colab": {
          "base_uri": "https://localhost:8080/"
        },
        "id": "Bdq3ORMCH1hi",
        "outputId": "0c9b7349-67f1-4511-9468-eb119f5a4e57"
      },
      "execution_count": null,
      "outputs": [
        {
          "output_type": "execute_result",
          "data": {
            "text/plain": [
              "{'00:42:19',\n",
              " 10.0,\n",
              " 1982,\n",
              " '30-Nov-82',\n",
              " 46.0,\n",
              " 65,\n",
              " 'Michael Jackson',\n",
              " None,\n",
              " 'Pop,Rock, R&B',\n",
              " 'Thriller'}"
            ]
          },
          "metadata": {},
          "execution_count": 164
        }
      ]
    },
    {
      "cell_type": "code",
      "source": [
        "music_genres = set ([\"pop\",\"pop\",\"rock\", \"folk\", \"folck rock\", \"hard rock\",\"soul\",\"progressive rock\",\"soft rock\", \"R&B\",\"disco\"])"
      ],
      "metadata": {
        "id": "NAU35UORIX38"
      },
      "execution_count": null,
      "outputs": []
    },
    {
      "cell_type": "code",
      "source": [
        "A= set([\"Thriller\",\"Back in Black\", \"AC/DC\"])"
      ],
      "metadata": {
        "id": "NkknIMwbI0su"
      },
      "execution_count": null,
      "outputs": []
    },
    {
      "cell_type": "code",
      "source": [
        "A.add(\"NSYNC\")\n",
        "A"
      ],
      "metadata": {
        "colab": {
          "base_uri": "https://localhost:8080/"
        },
        "id": "Kdalr3GBJARd",
        "outputId": "14b8b350-4a97-4a79-fe35-14eb25c36d68"
      },
      "execution_count": null,
      "outputs": [
        {
          "output_type": "execute_result",
          "data": {
            "text/plain": [
              "{'AC/DC', 'Back in Black', 'NSYNC', 'Thriller'}"
            ]
          },
          "metadata": {},
          "execution_count": 168
        }
      ]
    },
    {
      "cell_type": "code",
      "source": [
        "A.add(\"NSYNC\")\n",
        "A"
      ],
      "metadata": {
        "colab": {
          "base_uri": "https://localhost:8080/"
        },
        "id": "1-RCB3X4JFx-",
        "outputId": "4439ec65-076d-4894-f23e-95a3fc199a05"
      },
      "execution_count": null,
      "outputs": [
        {
          "output_type": "execute_result",
          "data": {
            "text/plain": [
              "{'AC/DC', 'Back in Black', 'NSYNC', 'Thriller'}"
            ]
          },
          "metadata": {},
          "execution_count": 169
        }
      ]
    },
    {
      "cell_type": "code",
      "source": [
        "\"AC/DC\" in A\n",
        "\n"
      ],
      "metadata": {
        "colab": {
          "base_uri": "https://localhost:8080/"
        },
        "id": "AIMNeF_SJKbb",
        "outputId": "c5523dae-c42c-4aad-fffe-22d2e6368966"
      },
      "execution_count": null,
      "outputs": [
        {
          "output_type": "execute_result",
          "data": {
            "text/plain": [
              "True"
            ]
          },
          "metadata": {},
          "execution_count": 178
        }
      ]
    },
    {
      "cell_type": "code",
      "source": [
        "album_set1 = set ([\"Thriller\", \"AC/DC\", \"Back in Black\"])\n",
        "album_set2 = set ([\"Ac/DC\",\"Back in Black\", \"The Dark Side of the Moon\"])\n",
        "\n",
        "album_set1, album_set2"
      ],
      "metadata": {
        "colab": {
          "base_uri": "https://localhost:8080/"
        },
        "id": "YIvCow9tJ4K4",
        "outputId": "31997650-e410-43d6-f045-42ef149c66a1"
      },
      "execution_count": null,
      "outputs": [
        {
          "output_type": "execute_result",
          "data": {
            "text/plain": [
              "({'AC/DC', 'Back in Black', 'Thriller'},\n",
              " {'Ac/DC', 'Back in Black', 'The Dark Side of the Moon'})"
            ]
          },
          "metadata": {},
          "execution_count": 181
        }
      ]
    },
    {
      "cell_type": "code",
      "source": [
        "intersection = album_set1 & album_set2\n",
        "intersection "
      ],
      "metadata": {
        "colab": {
          "base_uri": "https://localhost:8080/"
        },
        "id": "1Mt6fTEIKWcy",
        "outputId": "ceba942e-8f8b-49a3-df1e-da50a18becdc"
      },
      "execution_count": null,
      "outputs": [
        {
          "output_type": "execute_result",
          "data": {
            "text/plain": [
              "{'Back in Black'}"
            ]
          },
          "metadata": {},
          "execution_count": 184
        }
      ]
    },
    {
      "cell_type": "code",
      "source": [
        "album_set1.difference(album_set2)"
      ],
      "metadata": {
        "colab": {
          "base_uri": "https://localhost:8080/"
        },
        "id": "sjnmdzCaKicr",
        "outputId": "afc01abc-11e3-4017-e063-57aa7057bf1d"
      },
      "execution_count": null,
      "outputs": [
        {
          "output_type": "execute_result",
          "data": {
            "text/plain": [
              "{'AC/DC', 'Thriller'}"
            ]
          },
          "metadata": {},
          "execution_count": 185
        }
      ]
    },
    {
      "cell_type": "code",
      "source": [
        "album_set2.difference(album_set1)"
      ],
      "metadata": {
        "colab": {
          "base_uri": "https://localhost:8080/"
        },
        "id": "SjKRa1S0KpNN",
        "outputId": "ea0e4d97-0c2c-431f-d03e-a63f912044af"
      },
      "execution_count": null,
      "outputs": [
        {
          "output_type": "execute_result",
          "data": {
            "text/plain": [
              "{'Ac/DC', 'The Dark Side of the Moon'}"
            ]
          },
          "metadata": {},
          "execution_count": 186
        }
      ]
    },
    {
      "cell_type": "code",
      "source": [
        "album_set1.intersection(album_set2)"
      ],
      "metadata": {
        "colab": {
          "base_uri": "https://localhost:8080/"
        },
        "id": "fmIUHGEmKzLP",
        "outputId": "16309b8e-879d-4864-e306-4f2d254cf764"
      },
      "execution_count": null,
      "outputs": [
        {
          "output_type": "execute_result",
          "data": {
            "text/plain": [
              "{'Back in Black'}"
            ]
          },
          "metadata": {},
          "execution_count": 187
        }
      ]
    },
    {
      "cell_type": "code",
      "source": [
        "album_set1.union(album_set2)"
      ],
      "metadata": {
        "colab": {
          "base_uri": "https://localhost:8080/"
        },
        "id": "YacChuneK7YP",
        "outputId": "5feef453-f03f-4961-96ed-ab71c737682c"
      },
      "execution_count": null,
      "outputs": [
        {
          "output_type": "execute_result",
          "data": {
            "text/plain": [
              "{'AC/DC', 'Ac/DC', 'Back in Black', 'The Dark Side of the Moon', 'Thriller'}"
            ]
          },
          "metadata": {},
          "execution_count": 188
        }
      ]
    },
    {
      "cell_type": "code",
      "source": [
        "set(album_set1).issuperset(album_set2)"
      ],
      "metadata": {
        "colab": {
          "base_uri": "https://localhost:8080/"
        },
        "id": "qZ33Aki-LBUu",
        "outputId": "06e67802-4c7e-4cec-d109-5de4ebf0cdb6"
      },
      "execution_count": null,
      "outputs": [
        {
          "output_type": "execute_result",
          "data": {
            "text/plain": [
              "False"
            ]
          },
          "metadata": {},
          "execution_count": 189
        }
      ]
    },
    {
      "cell_type": "code",
      "source": [
        "set(album_set1).issubset(album_set2)"
      ],
      "metadata": {
        "colab": {
          "base_uri": "https://localhost:8080/"
        },
        "id": "gkpCmBFRLKCz",
        "outputId": "a57ca5f1-3176-40d4-b17c-28c024816a39"
      },
      "execution_count": null,
      "outputs": [
        {
          "output_type": "execute_result",
          "data": {
            "text/plain": [
              "False"
            ]
          },
          "metadata": {},
          "execution_count": 190
        }
      ]
    },
    {
      "cell_type": "code",
      "source": [
        "set({\"Back in Black\",\"AC/DC\"}).issubset(album_set1)"
      ],
      "metadata": {
        "colab": {
          "base_uri": "https://localhost:8080/"
        },
        "id": "Q5AO3O3pLUA2",
        "outputId": "e084014e-ceaa-407c-e658-68631dab4af2"
      },
      "execution_count": null,
      "outputs": [
        {
          "output_type": "execute_result",
          "data": {
            "text/plain": [
              "True"
            ]
          },
          "metadata": {},
          "execution_count": 192
        }
      ]
    },
    {
      "cell_type": "markdown",
      "source": [
        "Quiz on Sets"
      ],
      "metadata": {
        "id": "nEH9lyV2LljX"
      }
    },
    {
      "cell_type": "code",
      "source": [
        "set([\"rap\",\"house\",\"electronic music\", \"rap\"])"
      ],
      "metadata": {
        "colab": {
          "base_uri": "https://localhost:8080/"
        },
        "id": "rxlxc-n6Lk_j",
        "outputId": "cfc1eb43-015b-4154-e4ea-d225eac6afbf"
      },
      "execution_count": null,
      "outputs": [
        {
          "output_type": "execute_result",
          "data": {
            "text/plain": [
              "{'electronic music', 'house', 'rap'}"
            ]
          },
          "metadata": {},
          "execution_count": 193
        }
      ]
    },
    {
      "cell_type": "code",
      "source": [
        "A=[1,2,2,1]\n",
        "B= set([1,2,2,1])\n",
        "sum(A)==sum(B)"
      ],
      "metadata": {
        "colab": {
          "base_uri": "https://localhost:8080/"
        },
        "id": "-8l2NCmGLpZ_",
        "outputId": "d4a878f4-cf04-49f3-e039-a911c097ae84"
      },
      "execution_count": null,
      "outputs": [
        {
          "output_type": "execute_result",
          "data": {
            "text/plain": [
              "False"
            ]
          },
          "metadata": {},
          "execution_count": 195
        }
      ]
    },
    {
      "cell_type": "code",
      "source": [
        "album_set1 = set([\"Thriller\", \"AC/DC\", \"Back in Black\"])\n",
        "album_set2 = set ([\"AC/DC\", \"Back in Black\", \"The Dark Side of the moon\"])\n",
        "album_set3 = album_set1.union(album_set2)\n",
        "album_set3"
      ],
      "metadata": {
        "colab": {
          "base_uri": "https://localhost:8080/"
        },
        "id": "ZXDf2BGzMLn7",
        "outputId": "3d0b2e2c-e3e1-480b-ce14-d06f298353de"
      },
      "execution_count": null,
      "outputs": [
        {
          "output_type": "execute_result",
          "data": {
            "text/plain": [
              "{'AC/DC', 'Back in Black', 'The Dark Side of the moon', 'Thriller'}"
            ]
          },
          "metadata": {},
          "execution_count": 201
        }
      ]
    },
    {
      "cell_type": "code",
      "source": [
        "album_set1.issubset(album_set3)"
      ],
      "metadata": {
        "colab": {
          "base_uri": "https://localhost:8080/"
        },
        "id": "6KvyctLIMz6Q",
        "outputId": "f9aadc48-504e-4857-dc44-108ff4c2502b"
      },
      "execution_count": null,
      "outputs": [
        {
          "output_type": "execute_result",
          "data": {
            "text/plain": [
              "True"
            ]
          },
          "metadata": {},
          "execution_count": 202
        }
      ]
    },
    {
      "cell_type": "markdown",
      "source": [
        "# Module 2 - Phyton Data Structures: Dictionaries "
      ],
      "metadata": {
        "id": "MpIsSosdNBqB"
      }
    },
    {
      "cell_type": "markdown",
      "source": [
        "Los diccionarios funcionan como identificadores y localizadores de informaciòn. De manera general, al momento de llamar el elemento \"key\" nos va a regresar el valor asociado, de esta manera funciona como un diccionario, al buscar una palabra o elemento nos dara un significado o valor."
      ],
      "metadata": {
        "id": "xY59XPpkYs1w"
      }
    },
    {
      "cell_type": "markdown",
      "source": [
        "Question 1 : Consider the following dictionary:\n",
        "\n",
        "D = {'a':0,'b':1,'c':2}\n",
        "\n",
        "What is the result of the following: D.values()"
      ],
      "metadata": {
        "id": "ZhpTla5YNmLv"
      }
    },
    {
      "cell_type": "code",
      "source": [
        "D = {'a':0,'b':1,'c':2}\n",
        "D.values()\n"
      ],
      "metadata": {
        "colab": {
          "base_uri": "https://localhost:8080/"
        },
        "id": "cTY4-kpJNuLZ",
        "outputId": "f3eb46cf-d107-4c52-8d87-3059dc1fa8b4"
      },
      "execution_count": null,
      "outputs": [
        {
          "output_type": "execute_result",
          "data": {
            "text/plain": [
              "dict_values([0, 1, 2])"
            ]
          },
          "metadata": {},
          "execution_count": 205
        }
      ]
    },
    {
      "cell_type": "markdown",
      "source": [
        "Question 2: Consider the following dictionary:\n",
        "\n",
        "D = {'a':0,'b':1,'c':2}\n",
        "What is the output of the following D['b']?"
      ],
      "metadata": {
        "id": "vN7MrxKQN5Cu"
      }
    },
    {
      "cell_type": "code",
      "source": [
        "D = {'a':0,'b':1,'c':2}\n",
        "D[\"b\"]"
      ],
      "metadata": {
        "colab": {
          "base_uri": "https://localhost:8080/"
        },
        "id": "kdkZbw5SN82C",
        "outputId": "909cdcc5-1c2a-4c41-cc15-c37a1f9fcb04"
      },
      "execution_count": null,
      "outputs": [
        {
          "output_type": "execute_result",
          "data": {
            "text/plain": [
              "1"
            ]
          },
          "metadata": {},
          "execution_count": 206
        }
      ]
    },
    {
      "cell_type": "markdown",
      "source": [
        "# Module 2 - Phyton Data Structures: Lab - Dictionaries "
      ],
      "metadata": {
        "id": "u6TvB2R6ONfE"
      }
    },
    {
      "cell_type": "code",
      "source": [
        "Dict = {\"key1\": 1, \"key 2\": \"2\", \"key3\": [3,3,3],\"key4\":(4,4,4), \"key5\":5,(0,1):6}"
      ],
      "metadata": {
        "id": "FLlOLeYTOW-W"
      },
      "execution_count": null,
      "outputs": []
    },
    {
      "cell_type": "code",
      "source": [
        "Dict[\"key1\"]"
      ],
      "metadata": {
        "colab": {
          "base_uri": "https://localhost:8080/"
        },
        "id": "RsIxYSzYO09v",
        "outputId": "7ab256c1-cc91-48b4-990b-8dfe99b8711c"
      },
      "execution_count": null,
      "outputs": [
        {
          "output_type": "execute_result",
          "data": {
            "text/plain": [
              "1"
            ]
          },
          "metadata": {},
          "execution_count": 208
        }
      ]
    },
    {
      "cell_type": "code",
      "source": [
        "Dict[(0,1)]"
      ],
      "metadata": {
        "colab": {
          "base_uri": "https://localhost:8080/"
        },
        "id": "aUmTvL0MO6O7",
        "outputId": "12f3ca73-4af1-44a5-efc2-4ed78b713d8f"
      },
      "execution_count": null,
      "outputs": [
        {
          "output_type": "execute_result",
          "data": {
            "text/plain": [
              "6"
            ]
          },
          "metadata": {},
          "execution_count": 209
        }
      ]
    },
    {
      "cell_type": "code",
      "source": [
        "release_year_dict={\"Thriller\":1982, \"Back in Black\": 1980, \"The Dark Side of the Moon\": 1973, \"The Bodyguard\": 1992, \"Bat out the hell\": 1977}\n",
        "release_year_dict"
      ],
      "metadata": {
        "colab": {
          "base_uri": "https://localhost:8080/"
        },
        "id": "0gF6eSJxPHmN",
        "outputId": "884fef59-6e35-4a47-fcae-d8d024765fca"
      },
      "execution_count": null,
      "outputs": [
        {
          "output_type": "execute_result",
          "data": {
            "text/plain": [
              "{'Thriller': 1982,\n",
              " 'Back in Black': 1980,\n",
              " 'The Dark Side of the Moon': 1973,\n",
              " 'The Bodyguard': 1992,\n",
              " 'Bat out the hell': 1977}"
            ]
          },
          "metadata": {},
          "execution_count": 211
        }
      ]
    },
    {
      "cell_type": "code",
      "source": [
        "release_year_dict[\"Thriller\"]"
      ],
      "metadata": {
        "colab": {
          "base_uri": "https://localhost:8080/"
        },
        "id": "3ouF93QlPiA0",
        "outputId": "1d3c1a42-7051-4c5e-b816-afd74e94fb13"
      },
      "execution_count": null,
      "outputs": [
        {
          "output_type": "execute_result",
          "data": {
            "text/plain": [
              "1982"
            ]
          },
          "metadata": {},
          "execution_count": 212
        }
      ]
    },
    {
      "cell_type": "code",
      "source": [
        "release_year_dict.keys()"
      ],
      "metadata": {
        "colab": {
          "base_uri": "https://localhost:8080/"
        },
        "id": "g-dy3xczPtO_",
        "outputId": "107dbf5f-6e63-44b4-a051-17234057696b"
      },
      "execution_count": null,
      "outputs": [
        {
          "output_type": "execute_result",
          "data": {
            "text/plain": [
              "dict_keys(['Thriller', 'Back in Black', 'The Dark Side of the Moon', 'The Bodyguard', 'Bat out the hell'])"
            ]
          },
          "metadata": {},
          "execution_count": 213
        }
      ]
    },
    {
      "cell_type": "code",
      "source": [
        "release_year_dict.values()"
      ],
      "metadata": {
        "colab": {
          "base_uri": "https://localhost:8080/"
        },
        "id": "hpCW_w0MPzH5",
        "outputId": "c399fcac-5b55-4a18-9b7d-05d541f8e685"
      },
      "execution_count": null,
      "outputs": [
        {
          "output_type": "execute_result",
          "data": {
            "text/plain": [
              "dict_values([1982, 1980, 1973, 1992, 1977])"
            ]
          },
          "metadata": {},
          "execution_count": 214
        }
      ]
    },
    {
      "cell_type": "code",
      "source": [
        "release_year_dict[\"Graduation\"]= \"2007\"\n",
        "release_year_dict"
      ],
      "metadata": {
        "colab": {
          "base_uri": "https://localhost:8080/"
        },
        "id": "gsx7isyZP5La",
        "outputId": "4e01ae45-4701-4cb0-d5d1-a161535636c6"
      },
      "execution_count": null,
      "outputs": [
        {
          "output_type": "execute_result",
          "data": {
            "text/plain": [
              "{'Thriller': 1982,\n",
              " 'Back in Black': 1980,\n",
              " 'The Dark Side of the Moon': 1973,\n",
              " 'The Bodyguard': 1992,\n",
              " 'Bat out the hell': 1977,\n",
              " 'Graduation': '2007'}"
            ]
          },
          "metadata": {},
          "execution_count": 216
        }
      ]
    },
    {
      "cell_type": "code",
      "source": [
        "\"The Bodyguard\" in release_year_dict"
      ],
      "metadata": {
        "colab": {
          "base_uri": "https://localhost:8080/"
        },
        "id": "YBJ27pkrQESe",
        "outputId": "a3cac5a5-8d2a-47c9-8a27-96aa31977afa"
      },
      "execution_count": null,
      "outputs": [
        {
          "output_type": "execute_result",
          "data": {
            "text/plain": [
              "True"
            ]
          },
          "metadata": {},
          "execution_count": 221
        }
      ]
    },
    {
      "cell_type": "markdown",
      "source": [
        "QUIZ"
      ],
      "metadata": {
        "id": "YkksLkDsQpqY"
      }
    },
    {
      "cell_type": "code",
      "source": [
        "soundtrack_dic = {\"The Bodyguard\": 1992, \"Saturday Night Fever\": \"1977\"}\n",
        "soundtrack_dic"
      ],
      "metadata": {
        "colab": {
          "base_uri": "https://localhost:8080/"
        },
        "id": "eyPcFJf0QsOI",
        "outputId": "20984fb1-6fb8-4c63-90cf-d5aeb56c5954"
      },
      "execution_count": null,
      "outputs": [
        {
          "output_type": "execute_result",
          "data": {
            "text/plain": [
              "{'The Bodyguard': 1992, 'Saturday Night Fever': '1977'}"
            ]
          },
          "metadata": {},
          "execution_count": 223
        }
      ]
    },
    {
      "cell_type": "code",
      "source": [
        "soundtrack_dic.keys()"
      ],
      "metadata": {
        "colab": {
          "base_uri": "https://localhost:8080/"
        },
        "id": "0x0dYHTkQ8XI",
        "outputId": "90d45bd7-527f-4fc2-a17e-5f1901dc480b"
      },
      "execution_count": null,
      "outputs": [
        {
          "output_type": "execute_result",
          "data": {
            "text/plain": [
              "dict_keys(['The Bodyguard', 'Saturday Night Fever'])"
            ]
          },
          "metadata": {},
          "execution_count": 224
        }
      ]
    },
    {
      "cell_type": "code",
      "source": [
        "soundtrack_dic.values()"
      ],
      "metadata": {
        "colab": {
          "base_uri": "https://localhost:8080/"
        },
        "id": "rsknVanrRBtu",
        "outputId": "a8235ec5-61d3-4594-ccc5-5e26a24353f0"
      },
      "execution_count": null,
      "outputs": [
        {
          "output_type": "execute_result",
          "data": {
            "text/plain": [
              "dict_values([1992, '1977'])"
            ]
          },
          "metadata": {},
          "execution_count": 225
        }
      ]
    },
    {
      "cell_type": "code",
      "source": [
        "album_sales_dict ={\"Back in Black\":50, \"The Bodyguard\":50, \"Thriller\":65}"
      ],
      "metadata": {
        "id": "PQW5Iy3iRJ9R"
      },
      "execution_count": null,
      "outputs": []
    },
    {
      "cell_type": "code",
      "source": [
        "album_sales_dict[\"Thriller\"]"
      ],
      "metadata": {
        "colab": {
          "base_uri": "https://localhost:8080/"
        },
        "id": "Ib1-iPlfRd-R",
        "outputId": "93cfb252-6735-4058-d3ad-20bb92bb0b4c"
      },
      "execution_count": null,
      "outputs": [
        {
          "output_type": "execute_result",
          "data": {
            "text/plain": [
              "65"
            ]
          },
          "metadata": {},
          "execution_count": 227
        }
      ]
    },
    {
      "cell_type": "markdown",
      "source": [
        "# Review Questions"
      ],
      "metadata": {
        "id": "78dMldshR78y"
      }
    },
    {
      "cell_type": "markdown",
      "source": [
        "1.- What is the syntax used to obtain the first element of the tuple:\n",
        "\n",
        "A = ('a','b','c')"
      ],
      "metadata": {
        "id": "TZLgyLPtSEl0"
      }
    },
    {
      "cell_type": "code",
      "source": [
        "A = ('a','b','c')\n",
        "A[0]\n"
      ],
      "metadata": {
        "colab": {
          "base_uri": "https://localhost:8080/",
          "height": 37
        },
        "id": "Z79-SxJBSIip",
        "outputId": "87e19415-5d4e-4ad6-f1f7-b62ecfe7e924"
      },
      "execution_count": null,
      "outputs": [
        {
          "output_type": "execute_result",
          "data": {
            "text/plain": [
              "'a'"
            ],
            "application/vnd.google.colaboratory.intrinsic+json": {
              "type": "string"
            }
          },
          "metadata": {},
          "execution_count": 228
        }
      ]
    },
    {
      "cell_type": "markdown",
      "source": [
        "4.- Consider the following Python dictionary:\n",
        "\n",
        "Dict={\"A\":1,\"B\":\"2\",\"C\":[3,3,3],\"D\":(4,4,4),'E':5,'F':6}\n",
        "\n",
        "What is the result of the following operation: Dict[\"D\"]?"
      ],
      "metadata": {
        "id": "NNRCyRpbSXcX"
      }
    },
    {
      "cell_type": "code",
      "source": [
        "Dict={\"A\":1,\"B\":\"2\",\"C\":[3,3,3],\"D\":(4,4,4),'E':5,'F':6}\n",
        "Dict[\"D\"]"
      ],
      "metadata": {
        "colab": {
          "base_uri": "https://localhost:8080/"
        },
        "id": "xsGatuitSh4c",
        "outputId": "5b7af21b-3ca5-401b-bbaf-dd7f510e4c6f"
      },
      "execution_count": null,
      "outputs": [
        {
          "output_type": "execute_result",
          "data": {
            "text/plain": [
              "(4, 4, 4)"
            ]
          },
          "metadata": {},
          "execution_count": 229
        }
      ]
    },
    {
      "cell_type": "markdown",
      "source": [
        "# Module 3 - Python Programming Fundamentals: Conditions and Branching "
      ],
      "metadata": {
        "id": "j-SkM1E5-H9-"
      }
    },
    {
      "cell_type": "markdown",
      "source": [
        "Question 1: Select the values of i that produces a True for the following:\n",
        "\n",
        "i!=0"
      ],
      "metadata": {
        "id": "JEs7qP2lC80D"
      }
    },
    {
      "cell_type": "code",
      "source": [
        "i=1\n",
        "print(i!=0)\n",
        "i=0\n",
        "print(i!=0)\n",
        "i=-1\n",
        "print(i!=0)\n",
        "i=100000000\n",
        "print(i!=0)\n"
      ],
      "metadata": {
        "colab": {
          "base_uri": "https://localhost:8080/"
        },
        "id": "c2xcZAPODDGx",
        "outputId": "2cbdac1e-7dd0-44b2-d44b-44c1dbd0f773"
      },
      "execution_count": null,
      "outputs": [
        {
          "output_type": "stream",
          "name": "stdout",
          "text": [
            "True\n",
            "False\n",
            "True\n",
            "True\n"
          ]
        }
      ]
    },
    {
      "cell_type": "markdown",
      "source": [
        "Question 2: What is the output of the following:\n",
        "\n",
        "x='a'\n",
        "\n",
        "if(x!='a'):\n",
        "\n",
        "print(\"This is not a.\")\n",
        "\n",
        "else:\n",
        "\n",
        "print(\"This is a.\")"
      ],
      "metadata": {
        "id": "zrnbecONDVGj"
      }
    },
    {
      "cell_type": "code",
      "source": [
        "x='a'\n",
        "\n",
        "if(x!='a'):  print(\"This is not a.\")\n",
        "\n",
        "else:  print(\"This is a.\")"
      ],
      "metadata": {
        "colab": {
          "base_uri": "https://localhost:8080/"
        },
        "id": "avAlFbmzDMxJ",
        "outputId": "8d981186-e5c2-49c1-a4c8-c041c3e09b08"
      },
      "execution_count": null,
      "outputs": [
        {
          "output_type": "stream",
          "name": "stdout",
          "text": [
            "This is a.\n"
          ]
        }
      ]
    },
    {
      "cell_type": "markdown",
      "source": [
        "En el módulo 3 podemos ver diferentes sentencias y funciones. Este tipo de codigo nos permite eficientar el codigo mediante la automatizaciòn de procesos. "
      ],
      "metadata": {
        "id": "qLlMNdENZL7i"
      }
    },
    {
      "cell_type": "markdown",
      "source": [
        "# Module 3 - Python Programming Fundamentals: Lab-Conditions and Branching"
      ],
      "metadata": {
        "id": "gw-Ai3KnEYuM"
      }
    },
    {
      "cell_type": "markdown",
      "source": [
        "Write an if statement to determine if an album had a rating greater than 8. Test it using the rating for the album \"Back in Black\" that had a rating of 8.5. If statement is true print \"This album is amazing\". "
      ],
      "metadata": {
        "id": "kAL69IKCE55g"
      }
    },
    {
      "cell_type": "code",
      "source": [
        "BackInBlack_rating= 8.5\n",
        "Rating=8 \n",
        "\n",
        "if (BackInBlack_rating> Rating): print (\"This album is amazing\")"
      ],
      "metadata": {
        "colab": {
          "base_uri": "https://localhost:8080/"
        },
        "id": "nzmVUmoFDl8y",
        "outputId": "4eaa2752-b272-4bcc-e402-47bc5f9ae5ad"
      },
      "execution_count": null,
      "outputs": [
        {
          "output_type": "stream",
          "name": "stdout",
          "text": [
            "This album is amazing\n"
          ]
        }
      ]
    },
    {
      "cell_type": "markdown",
      "source": [
        "Write an if-else statement that performs the following. If the rating is larger then eight print “this album is amazing”. If the rating is less than or equal to 8 print “this album is ok”."
      ],
      "metadata": {
        "id": "yu_wmNyoFlrH"
      }
    },
    {
      "cell_type": "code",
      "source": [
        "BackInBlack_rating= 8.5\n",
        "Rating=8 \n",
        "\n",
        "if (BackInBlack_rating> Rating): print (\"This album is amazing\")\n",
        "else: print(\"This album is ok\")"
      ],
      "metadata": {
        "id": "XinTDnLyFfFs"
      },
      "execution_count": null,
      "outputs": []
    },
    {
      "cell_type": "markdown",
      "source": [
        "Write an if statement to determine if an album came out before 1980 or in the years: 1991 or 1993. If the condition is true print out the year the album came out."
      ],
      "metadata": {
        "id": "hAPVZX1pGAaN"
      }
    },
    {
      "cell_type": "code",
      "source": [
        "album_year= 1979\n",
        "Rating=8 \n",
        "\n",
        "if album_year < 1980 or album_year == 1991 or album_year == 1993:\n",
        "    print(\"This album came out in year\", album_year)"
      ],
      "metadata": {
        "colab": {
          "base_uri": "https://localhost:8080/"
        },
        "id": "9-9TLT8VDIsT",
        "outputId": "32d75078-e6ce-4e79-9b93-4b3a4e730f3a"
      },
      "execution_count": null,
      "outputs": [
        {
          "output_type": "stream",
          "name": "stdout",
          "text": [
            "This album came out in year 1979\n"
          ]
        }
      ]
    },
    {
      "cell_type": "markdown",
      "source": [
        "# Module 3 - Python Programming Fundamentals: Loops"
      ],
      "metadata": {
        "id": "X8ZT_CtFC_bm"
      }
    },
    {
      "cell_type": "markdown",
      "source": [
        "Question 1: What is the output of the following lines of code:\n",
        "\n",
        "A=[3,4,5]\n",
        "\n",
        "for a in A:\n",
        "\n",
        "print(a)"
      ],
      "metadata": {
        "id": "iV_ouxzIKAbs"
      }
    },
    {
      "cell_type": "code",
      "source": [
        "A=[3,4,5]\n",
        "\n",
        "for a in A: print(a)"
      ],
      "metadata": {
        "colab": {
          "base_uri": "https://localhost:8080/"
        },
        "id": "dgjqRB-pKDlk",
        "outputId": "4e61866d-415e-4932-a5ef-9b1ddd81dbd1"
      },
      "execution_count": null,
      "outputs": [
        {
          "output_type": "stream",
          "name": "stdout",
          "text": [
            "3\n",
            "4\n",
            "5\n"
          ]
        }
      ]
    },
    {
      "cell_type": "markdown",
      "source": [
        "Question 2: What is the output of the following lines of code:\n",
        "\n",
        "x=3\n",
        "\n",
        "y=1\n",
        "\n",
        "while(y!=x):\n",
        "\n",
        "print(y)\n",
        "\n",
        "y=y+1"
      ],
      "metadata": {
        "id": "3q2ySF8ZKK0j"
      }
    },
    {
      "cell_type": "code",
      "source": [
        "x=3\n",
        "\n",
        "y=1\n",
        "\n",
        "while(y!=x): \n",
        "  print(y)\n",
        "  y=y+1"
      ],
      "metadata": {
        "colab": {
          "base_uri": "https://localhost:8080/"
        },
        "id": "94TwLMuAKNpx",
        "outputId": "658b5f74-3501-4a7e-cc90-14212adf149c"
      },
      "execution_count": null,
      "outputs": [
        {
          "output_type": "stream",
          "name": "stdout",
          "text": [
            "1\n",
            "2\n"
          ]
        }
      ]
    },
    {
      "cell_type": "markdown",
      "source": [
        "# Module 3 - Python Programming Fundamentals:Lab Loops\n",
        "\n",
        "---\n",
        "\n"
      ],
      "metadata": {
        "id": "Cl-LeoQ2LstZ"
      }
    },
    {
      "cell_type": "markdown",
      "source": [
        "Write a for loop the prints out all the element between -5 and 5 using the range function."
      ],
      "metadata": {
        "id": "1xeHqpL_MRvv"
      }
    },
    {
      "cell_type": "code",
      "source": [
        "for a in range (-4,5): print(a)"
      ],
      "metadata": {
        "colab": {
          "base_uri": "https://localhost:8080/"
        },
        "id": "I3PavQZeMTt6",
        "outputId": "8630e69a-3814-472d-a737-29757275c0b7"
      },
      "execution_count": null,
      "outputs": [
        {
          "output_type": "stream",
          "name": "stdout",
          "text": [
            "-4\n",
            "-3\n",
            "-2\n",
            "-1\n",
            "0\n",
            "1\n",
            "2\n",
            "3\n",
            "4\n"
          ]
        }
      ]
    },
    {
      "cell_type": "markdown",
      "source": [
        "Print the elements of the following list: Genres=[ 'rock', 'R&B', 'Soundtrack', 'R&B', 'soul', 'pop'] Make sure you follow Python conventions."
      ],
      "metadata": {
        "id": "ap6BwTEgMlum"
      }
    },
    {
      "cell_type": "code",
      "source": [
        "Generos = ['rock', 'R&B', 'Soundtrack', 'R&B', 'soul', 'pop']\n",
        "for Generos in Generos:\n",
        "    print(Generos)"
      ],
      "metadata": {
        "colab": {
          "base_uri": "https://localhost:8080/"
        },
        "id": "CNMU8SU0MbH0",
        "outputId": "704cfbd9-fc96-496f-e8b3-99d12d6e8253"
      },
      "execution_count": null,
      "outputs": [
        {
          "output_type": "stream",
          "name": "stdout",
          "text": [
            "rock\n",
            "R&B\n",
            "Soundtrack\n",
            "R&B\n",
            "soul\n",
            "pop\n"
          ]
        }
      ]
    },
    {
      "cell_type": "markdown",
      "source": [
        "Write a for loop that prints out the following list: <code>squares=\\['red', 'yellow', 'green', 'purple', 'blue']</code>\n"
      ],
      "metadata": {
        "id": "43Q07SJ1M0tg"
      }
    },
    {
      "cell_type": "code",
      "source": [
        "squares=['red', 'yellow', 'green', 'purple', 'blue']\n",
        "for squares in squares: print(squares)"
      ],
      "metadata": {
        "colab": {
          "base_uri": "https://localhost:8080/"
        },
        "id": "B2ODVIvSM5DK",
        "outputId": "f572c490-54ca-4ac3-aeed-cea05497a7ce"
      },
      "execution_count": null,
      "outputs": [
        {
          "output_type": "stream",
          "name": "stdout",
          "text": [
            "red\n",
            "yellow\n",
            "green\n",
            "purple\n",
            "blue\n"
          ]
        }
      ]
    },
    {
      "cell_type": "markdown",
      "source": [
        "Write a while loop to display the values of the Rating of an album playlist stored in the list <code>PlayListRatings</code>. If the score is less than 6, exit the loop. The list <code>PlayListRatings</code> is given by: <code>PlayListRatings = \\[10, 9.5, 10, 8, 7.5, 5, 10, 10]</code>\n"
      ],
      "metadata": {
        "id": "Spp6_2EqNEnF"
      }
    },
    {
      "cell_type": "code",
      "source": [
        "PlayListRatings = [10, 9.5, 10, 8, 7.5, 5, 10, 10]\n",
        "element =0; \n",
        "Rating = PlayListRatings[element]\n",
        "while (element< len(PlayListRatings) and Rating>= 6):\n",
        "  print(PlayListRatings[element])\n",
        "  element= element +1 \n"
      ],
      "metadata": {
        "colab": {
          "base_uri": "https://localhost:8080/"
        },
        "id": "nJlpDy6CNAmQ",
        "outputId": "6ff01e57-a019-4a01-9fc3-09451c1471d3"
      },
      "execution_count": null,
      "outputs": [
        {
          "output_type": "stream",
          "name": "stdout",
          "text": [
            "10\n",
            "9.5\n",
            "10\n",
            "8\n",
            "7.5\n",
            "5\n",
            "10\n",
            "10\n"
          ]
        }
      ]
    },
    {
      "cell_type": "markdown",
      "source": [
        "Write a while loop to copy the strings 'orange' of the list squares to the list new_squares. Stop and exit the loop if the value on the list is not 'orange':"
      ],
      "metadata": {
        "id": "OyTqa3OZPKTQ"
      }
    },
    {
      "cell_type": "code",
      "source": [
        "squares = ['orange', 'orange', 'purple', 'blue ', 'orange']\n",
        "new_squares = []\n",
        "element = 0\n",
        "\n",
        "\n",
        "while (element< len(squares) and (squares[element]=='orange') ): \n",
        "  new_squares.append(squares[element])\n",
        "  print(new_squares)\n",
        "  element= element +1 \n"
      ],
      "metadata": {
        "colab": {
          "base_uri": "https://localhost:8080/"
        },
        "id": "UtyfH1REOhIE",
        "outputId": "76a65b95-9701-477a-f9e1-7977f9b356f6"
      },
      "execution_count": null,
      "outputs": [
        {
          "output_type": "stream",
          "name": "stdout",
          "text": [
            "['orange']\n",
            "['orange', 'orange']\n"
          ]
        }
      ]
    },
    {
      "cell_type": "markdown",
      "source": [],
      "metadata": {
        "id": "dr12OQpnRVvm"
      }
    },
    {
      "cell_type": "code",
      "source": [],
      "metadata": {
        "id": "Eyu_w0znP8Ly"
      },
      "execution_count": null,
      "outputs": []
    },
    {
      "cell_type": "code",
      "source": [],
      "metadata": {
        "id": "jXrLRWL9OdlH"
      },
      "execution_count": null,
      "outputs": []
    },
    {
      "cell_type": "code",
      "source": [],
      "metadata": {
        "id": "8kxVOm78OSrr"
      },
      "execution_count": null,
      "outputs": []
    },
    {
      "cell_type": "markdown",
      "source": [
        "# Module 3 - Python Programming Fundamentals: Functions \n"
      ],
      "metadata": {
        "id": "srDetuE0NEzL"
      }
    },
    {
      "cell_type": "markdown",
      "source": [
        "Question 1: What is the value of c after the following block of code is run ?\n",
        "\n",
        "a=1\n",
        "\n",
        "def add(b):\n",
        "\n",
        "return a+b\n",
        "\n",
        "c=add(10)"
      ],
      "metadata": {
        "id": "PSyXc7r1RhYU"
      }
    },
    {
      "cell_type": "code",
      "source": [
        "a=1\n",
        "\n",
        "def add(b): return a+b\n",
        "\n",
        "c=add(10)\n",
        "print(c)"
      ],
      "metadata": {
        "colab": {
          "base_uri": "https://localhost:8080/"
        },
        "id": "dJMat5ziRkhx",
        "outputId": "af51bd49-6c0c-46f3-abc9-b7e94f07ac9a"
      },
      "execution_count": null,
      "outputs": [
        {
          "output_type": "stream",
          "name": "stdout",
          "text": [
            "11\n"
          ]
        }
      ]
    },
    {
      "cell_type": "markdown",
      "source": [
        "Question 2: What is the value of c after the following block of code is run with proper numerical input?\n",
        "\n",
        "def f(*x):\n",
        "\n",
        "return sum(x)"
      ],
      "metadata": {
        "id": "5pzLl7VUR4m2"
      }
    },
    {
      "cell_type": "code",
      "source": [
        "def f(*x): return sum(x)"
      ],
      "metadata": {
        "id": "5eUbbROjRscC"
      },
      "execution_count": null,
      "outputs": []
    },
    {
      "cell_type": "code",
      "source": [
        "def division(A,B) : return(A/B)\n",
        "division(8,4)"
      ],
      "metadata": {
        "colab": {
          "base_uri": "https://localhost:8080/"
        },
        "id": "VwY7SrOmaMV5",
        "outputId": "10a964d8-d058-4767-88ab-4e677ebfb94e"
      },
      "execution_count": 12,
      "outputs": [
        {
          "output_type": "execute_result",
          "data": {
            "text/plain": [
              "2.0"
            ]
          },
          "metadata": {},
          "execution_count": 12
        }
      ]
    },
    {
      "cell_type": "code",
      "source": [
        "def suma(A,B): return(A+B)\n",
        "suma(5,2)"
      ],
      "metadata": {
        "colab": {
          "base_uri": "https://localhost:8080/"
        },
        "id": "sasvHehOaoqA",
        "outputId": "a16d39f3-b1cd-46a0-ebd1-9ff6693ae4df"
      },
      "execution_count": 13,
      "outputs": [
        {
          "output_type": "execute_result",
          "data": {
            "text/plain": [
              "7"
            ]
          },
          "metadata": {},
          "execution_count": 13
        }
      ]
    },
    {
      "cell_type": "markdown",
      "source": [
        "# Module 3 - Python Programming Fundamentals: Objects and Classes"
      ],
      "metadata": {
        "id": "0naloFg5a3f8"
      }
    },
    {
      "cell_type": "code",
      "source": [
        "make=\"Honda\"\n",
        "\n",
        "model=\"Accord\"\n",
        "\n",
        "color=\"blue\""
      ],
      "metadata": {
        "id": "RjWq-1ptbGbu"
      },
      "execution_count": 14,
      "outputs": []
    },
    {
      "cell_type": "markdown",
      "source": [
        "# Review Questions"
      ],
      "metadata": {
        "id": "YZNBZe5ObozB"
      }
    },
    {
      "cell_type": "code",
      "source": [
        "x=1\n",
        "\n",
        "if(x!=1): print('Hello')\n",
        "\n",
        "else: print('Hi')\n",
        "\n",
        "print('Mike')"
      ],
      "metadata": {
        "colab": {
          "base_uri": "https://localhost:8080/"
        },
        "id": "CQdc0oHfbyjy",
        "outputId": "82dff08c-6bd6-43d8-da82-e16bf9343562"
      },
      "execution_count": 16,
      "outputs": [
        {
          "output_type": "stream",
          "name": "stdout",
          "text": [
            "Hi\n",
            "Mike\n"
          ]
        }
      ]
    },
    {
      "cell_type": "code",
      "source": [
        "A = ['1','2','3']\n",
        "\n",
        "for a in A:print(2*a)"
      ],
      "metadata": {
        "colab": {
          "base_uri": "https://localhost:8080/"
        },
        "id": "U8dfAWH8cFNf",
        "outputId": "e8e908c6-bdea-41be-b199-83d7a18e4bdf"
      },
      "execution_count": 17,
      "outputs": [
        {
          "output_type": "stream",
          "name": "stdout",
          "text": [
            "11\n",
            "22\n",
            "33\n"
          ]
        }
      ]
    },
    {
      "cell_type": "code",
      "source": [
        "def Delta(x):\n",
        "    if x==0: y=1\n",
        "    else: y=0\n",
        "    return(y)\n",
        "\n",
        "Delta(0)"
      ],
      "metadata": {
        "colab": {
          "base_uri": "https://localhost:8080/"
        },
        "id": "U2D2CjJ0cM2J",
        "outputId": "29426a86-0052-4101-9c47-1fd35c4a908f"
      },
      "execution_count": 21,
      "outputs": [
        {
          "output_type": "execute_result",
          "data": {
            "text/plain": [
              "1"
            ]
          },
          "metadata": {},
          "execution_count": 21
        }
      ]
    },
    {
      "cell_type": "code",
      "source": [
        "B="
      ],
      "metadata": {
        "id": "kQ1WuRYic1U3"
      },
      "execution_count": null,
      "outputs": []
    }
  ]
}