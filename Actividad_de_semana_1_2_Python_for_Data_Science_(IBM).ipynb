{
  "nbformat": 4,
  "nbformat_minor": 0,
  "metadata": {
    "colab": {
      "provenance": [],
      "collapsed_sections": [
        "ZbmDY6azRujh",
        "s-OFCaUmSXgp",
        "o4K_SwygUgA4",
        "XUisS6dEa6Yu",
        "Rt1m2zTAelkE",
        "R3bwWFTnhrDI",
        "5MiCkGSylWVR",
        "TQ0okLwXnLCb",
        "Ay5l-Tp6unJY",
        "PNsnBcdI2-Z0"
      ],
      "include_colab_link": true
    },
    "kernelspec": {
      "name": "python3",
      "display_name": "Python 3"
    },
    "language_info": {
      "name": "python"
    }
  },
  "cells": [
    {
      "cell_type": "markdown",
      "metadata": {
        "id": "view-in-github",
        "colab_type": "text"
      },
      "source": [
        "<a href=\"https://colab.research.google.com/github/PosgradoMNA/actividades-de-aprendizaje-Jose-Bernardo-Moreno-Villarreal/blob/main/Actividad_de_semana_1_2_Python_for_Data_Science_(IBM).ipynb\" target=\"_parent\"><img src=\"https://colab.research.google.com/assets/colab-badge.svg\" alt=\"Open In Colab\"/></a>"
      ]
    },
    {
      "cell_type": "markdown",
      "source": [
        "## Module 1 - Python Basics: Your First Program "
      ],
      "metadata": {
        "id": "ZbmDY6azRujh"
      }
    },
    {
      "cell_type": "markdown",
      "source": [
        "Question 1"
      ],
      "metadata": {
        "id": "s5xfbKKeR4yW"
      }
    },
    {
      "cell_type": "code",
      "source": [
        "print(\"Hello\\nWorld!\")"
      ],
      "metadata": {
        "id": "mxM_WppZPMFx",
        "colab": {
          "base_uri": "https://localhost:8080/"
        },
        "outputId": "8becad14-7eaa-4fe5-84d3-a8c3aa8cd66c"
      },
      "execution_count": null,
      "outputs": [
        {
          "output_type": "stream",
          "name": "stdout",
          "text": [
            "Hello\n",
            "World!\n"
          ]
        }
      ]
    },
    {
      "cell_type": "markdown",
      "source": [
        "Question 2"
      ],
      "metadata": {
        "id": "QDxahIqqR3Ms"
      }
    },
    {
      "cell_type": "code",
      "source": [
        "# print('Hello World!')"
      ],
      "metadata": {
        "id": "kVSyb4dPB0kY"
      },
      "execution_count": null,
      "outputs": []
    },
    {
      "cell_type": "markdown",
      "source": [
        "# Module 1 - Python Basics: Types"
      ],
      "metadata": {
        "id": "s-OFCaUmSXgp"
      }
    },
    {
      "cell_type": "code",
      "source": [
        "type(int(1.0))"
      ],
      "metadata": {
        "id": "izkAvQTaClI0",
        "outputId": "1a5cac31-3c41-49d6-87a1-6319428adc97",
        "colab": {
          "base_uri": "https://localhost:8080/"
        }
      },
      "execution_count": null,
      "outputs": [
        {
          "output_type": "execute_result",
          "data": {
            "text/plain": [
              "int"
            ]
          },
          "metadata": {},
          "execution_count": 6
        }
      ]
    },
    {
      "cell_type": "code",
      "source": [
        "bool(1)"
      ],
      "metadata": {
        "colab": {
          "base_uri": "https://localhost:8080/"
        },
        "id": "Dfw7F5crUSGF",
        "outputId": "81342cc8-9f87-4003-9647-7f1452ebd4d6"
      },
      "execution_count": null,
      "outputs": [
        {
          "output_type": "execute_result",
          "data": {
            "text/plain": [
              "True"
            ]
          },
          "metadata": {},
          "execution_count": 7
        }
      ]
    },
    {
      "cell_type": "markdown",
      "source": [
        "# Module 1 - Python Basics: Expressions and Variables"
      ],
      "metadata": {
        "id": "o4K_SwygUgA4"
      }
    },
    {
      "cell_type": "markdown",
      "source": [],
      "metadata": {
        "id": "Kcsq6G1NTjk4"
      }
    },
    {
      "cell_type": "code",
      "source": [
        "50-60"
      ],
      "metadata": {
        "colab": {
          "base_uri": "https://localhost:8080/"
        },
        "id": "p13TT75sU3x0",
        "outputId": "6d358c9d-4f7d-4b09-f484-c3f5cc8577c6"
      },
      "execution_count": null,
      "outputs": [
        {
          "output_type": "execute_result",
          "data": {
            "text/plain": [
              "-10"
            ]
          },
          "metadata": {},
          "execution_count": 8
        }
      ]
    },
    {
      "cell_type": "code",
      "source": [
        "25/6"
      ],
      "metadata": {
        "colab": {
          "base_uri": "https://localhost:8080/"
        },
        "id": "9FB9az67U61t",
        "outputId": "bdabf6c6-dcb9-48d1-8f40-9f4c2206ebfa"
      },
      "execution_count": null,
      "outputs": [
        {
          "output_type": "execute_result",
          "data": {
            "text/plain": [
              "4.166666666666667"
            ]
          },
          "metadata": {},
          "execution_count": 9
        }
      ]
    },
    {
      "cell_type": "code",
      "source": [
        "25//6"
      ],
      "metadata": {
        "colab": {
          "base_uri": "https://localhost:8080/"
        },
        "id": "7E9Vy2JBU-RX",
        "outputId": "b81a570e-e14a-4b08-a890-cb08ed34297c"
      },
      "execution_count": null,
      "outputs": [
        {
          "output_type": "execute_result",
          "data": {
            "text/plain": [
              "4"
            ]
          },
          "metadata": {},
          "execution_count": 10
        }
      ]
    },
    {
      "cell_type": "code",
      "source": [
        "(30+2)*60"
      ],
      "metadata": {
        "colab": {
          "base_uri": "https://localhost:8080/"
        },
        "id": "Yg81MeGfVHNt",
        "outputId": "ff3aa03f-632a-43aa-baf4-245e6d9aab45"
      },
      "execution_count": null,
      "outputs": [
        {
          "output_type": "execute_result",
          "data": {
            "text/plain": [
              "1920"
            ]
          },
          "metadata": {},
          "execution_count": 11
        }
      ]
    },
    {
      "cell_type": "code",
      "source": [
        "my_variable=1\n"
      ],
      "metadata": {
        "id": "P4yAtnk4VPCc"
      },
      "execution_count": null,
      "outputs": []
    },
    {
      "cell_type": "code",
      "source": [
        "my_variable\n"
      ],
      "metadata": {
        "colab": {
          "base_uri": "https://localhost:8080/"
        },
        "id": "CgyzZN2JVUJL",
        "outputId": "d9c37f37-404a-4c1d-c61c-1d4e8240fd03"
      },
      "execution_count": null,
      "outputs": [
        {
          "output_type": "execute_result",
          "data": {
            "text/plain": [
              "1"
            ]
          },
          "metadata": {},
          "execution_count": 13
        }
      ]
    },
    {
      "cell_type": "code",
      "source": [
        "my_variable=10"
      ],
      "metadata": {
        "id": "owdAiGhMVXN2"
      },
      "execution_count": null,
      "outputs": []
    },
    {
      "cell_type": "code",
      "source": [
        "my_variable\n"
      ],
      "metadata": {
        "colab": {
          "base_uri": "https://localhost:8080/"
        },
        "id": "tPEtRdzOVZvV",
        "outputId": "4b76884e-8a93-4fd1-de84-4225970844d5"
      },
      "execution_count": null,
      "outputs": [
        {
          "output_type": "execute_result",
          "data": {
            "text/plain": [
              "10"
            ]
          },
          "metadata": {},
          "execution_count": 15
        }
      ]
    },
    {
      "cell_type": "code",
      "source": [
        "x=34+43+5+9"
      ],
      "metadata": {
        "id": "hfqQbUznVdxn"
      },
      "execution_count": null,
      "outputs": []
    },
    {
      "cell_type": "markdown",
      "source": [
        "# Module 1 - Python Basics: - Write your first Python program"
      ],
      "metadata": {
        "id": "XUisS6dEa6Yu"
      }
    },
    {
      "cell_type": "code",
      "source": [
        "print('Hello, Python!')"
      ],
      "metadata": {
        "colab": {
          "base_uri": "https://localhost:8080/"
        },
        "id": "by9IeVosbF3M",
        "outputId": "c3c7d008-492e-49d7-92d4-d6ba634b724e"
      },
      "execution_count": null,
      "outputs": [
        {
          "output_type": "stream",
          "name": "stdout",
          "text": [
            "Hello, Python!\n"
          ]
        }
      ]
    },
    {
      "cell_type": "code",
      "source": [
        "import sys \n",
        "print(sys.version)"
      ],
      "metadata": {
        "colab": {
          "base_uri": "https://localhost:8080/"
        },
        "id": "tsSBL7L0bNrx",
        "outputId": "fc312972-74f0-4e32-abfb-346137dd82c9"
      },
      "execution_count": null,
      "outputs": [
        {
          "output_type": "stream",
          "name": "stdout",
          "text": [
            "3.7.14 (default, Sep  8 2022, 00:06:44) \n",
            "[GCC 7.5.0]\n"
          ]
        }
      ]
    },
    {
      "cell_type": "code",
      "source": [
        "#Practice on writing "
      ],
      "metadata": {
        "id": "9vcwD4Aubi4g"
      },
      "execution_count": null,
      "outputs": []
    },
    {
      "cell_type": "code",
      "source": [
        "x=40//10\n",
        "y=5+7\n",
        "z=x*y\n",
        "print(z)"
      ],
      "metadata": {
        "colab": {
          "base_uri": "https://localhost:8080/"
        },
        "id": "34ygi0mXeRxZ",
        "outputId": "4d4b33df-7313-4a00-b3e4-acf9d06c4281"
      },
      "execution_count": null,
      "outputs": [
        {
          "output_type": "stream",
          "name": "stdout",
          "text": [
            "48\n"
          ]
        }
      ]
    },
    {
      "cell_type": "markdown",
      "source": [
        "# Module 1 - Python Basics: - String Operations"
      ],
      "metadata": {
        "id": "Rt1m2zTAelkE"
      }
    },
    {
      "cell_type": "markdown",
      "source": [
        "Question 1"
      ],
      "metadata": {
        "id": "7PWnTqmRfH9S"
      }
    },
    {
      "cell_type": "code",
      "source": [
        "Numbers=\"0123456\"\n",
        "print(Numbers[::2])"
      ],
      "metadata": {
        "colab": {
          "base_uri": "https://localhost:8080/"
        },
        "id": "xFd7246Fezcu",
        "outputId": "b32d75e2-5b77-45b5-b6b4-19153bd29831"
      },
      "execution_count": null,
      "outputs": [
        {
          "output_type": "stream",
          "name": "stdout",
          "text": [
            "0246\n"
          ]
        }
      ]
    },
    {
      "cell_type": "markdown",
      "source": [
        "Question 2"
      ],
      "metadata": {
        "id": "E22TBHDHgLKx"
      }
    },
    {
      "cell_type": "code",
      "source": [
        "\"0123456\".find('1')"
      ],
      "metadata": {
        "colab": {
          "base_uri": "https://localhost:8080/"
        },
        "id": "bKfEnN1ffqAk",
        "outputId": "de0ac41b-b83d-4dc9-b47a-e71e858315dc"
      },
      "execution_count": null,
      "outputs": [
        {
          "output_type": "execute_result",
          "data": {
            "text/plain": [
              "1"
            ]
          },
          "metadata": {},
          "execution_count": 30
        }
      ]
    },
    {
      "cell_type": "code",
      "source": [
        "Name=\"Michael Jackson\" \n",
        "Name[::2]"
      ],
      "metadata": {
        "colab": {
          "base_uri": "https://localhost:8080/",
          "height": 37
        },
        "id": "I0gSlPv3gT77",
        "outputId": "b75f0c0e-cee6-4f10-ab25-52152820beda"
      },
      "execution_count": null,
      "outputs": [
        {
          "output_type": "execute_result",
          "data": {
            "text/plain": [
              "'McalJcsn'"
            ],
            "application/vnd.google.colaboratory.intrinsic+json": {
              "type": "string"
            }
          },
          "metadata": {},
          "execution_count": 31
        }
      ]
    },
    {
      "cell_type": "code",
      "source": [
        "Name[0:5:2]"
      ],
      "metadata": {
        "colab": {
          "base_uri": "https://localhost:8080/",
          "height": 37
        },
        "id": "_3QXaMlUgk1m",
        "outputId": "19fc010c-c124-4ec1-854c-092c667220b9"
      },
      "execution_count": null,
      "outputs": [
        {
          "output_type": "execute_result",
          "data": {
            "text/plain": [
              "'Mca'"
            ],
            "application/vnd.google.colaboratory.intrinsic+json": {
              "type": "string"
            }
          },
          "metadata": {},
          "execution_count": 32
        }
      ]
    },
    {
      "cell_type": "code",
      "source": [
        "Statement= \" is the best\"\n",
        "Name=\"Michael Jackson\"\n",
        "Name=Name+Statement\n",
        "NAME=Name.upper()\n",
        "print(Name)\n",
        "print(NAME)"
      ],
      "metadata": {
        "colab": {
          "base_uri": "https://localhost:8080/"
        },
        "id": "nnk_TgjJgo9-",
        "outputId": "b8b6f3be-79f7-4308-9fd4-0d1f739e23f5"
      },
      "execution_count": null,
      "outputs": [
        {
          "output_type": "stream",
          "name": "stdout",
          "text": [
            "Michael Jackson is the best\n",
            "MICHAEL JACKSON IS THE BEST\n"
          ]
        }
      ]
    },
    {
      "cell_type": "code",
      "source": [],
      "metadata": {
        "id": "FJdbIJ1ChBDU"
      },
      "execution_count": null,
      "outputs": []
    },
    {
      "cell_type": "markdown",
      "source": [
        "# Module 1 - Python Basics: - Lab string operators"
      ],
      "metadata": {
        "id": "R3bwWFTnhrDI"
      }
    },
    {
      "cell_type": "code",
      "source": [
        "d=\"ABCDEFG\"\n",
        "print(d[:3])"
      ],
      "metadata": {
        "colab": {
          "base_uri": "https://localhost:8080/"
        },
        "id": "UT6_CRNPkW5X",
        "outputId": "68b462c7-34c6-418e-d94e-15973ec3793d"
      },
      "execution_count": null,
      "outputs": [
        {
          "output_type": "stream",
          "name": "stdout",
          "text": [
            "ABC\n"
          ]
        }
      ]
    },
    {
      "cell_type": "code",
      "source": [
        "e= \"clocrkr1e1c1t\"\n",
        "print(e[::2])"
      ],
      "metadata": {
        "colab": {
          "base_uri": "https://localhost:8080/"
        },
        "id": "MAjIp0k5kiNp",
        "outputId": "828591c4-2eb9-4c6f-d2ec-a63da69b74cd"
      },
      "execution_count": null,
      "outputs": [
        {
          "output_type": "stream",
          "name": "stdout",
          "text": [
            "correct\n"
          ]
        }
      ]
    },
    {
      "cell_type": "code",
      "source": [
        "f=\"You are wrong\"\n",
        "print(f.upper())"
      ],
      "metadata": {
        "colab": {
          "base_uri": "https://localhost:8080/"
        },
        "id": "G0jputWCkqku",
        "outputId": "e1181578-b963-4f61-f509-c9feb4d190b1"
      },
      "execution_count": null,
      "outputs": [
        {
          "output_type": "stream",
          "name": "stdout",
          "text": [
            "YOU ARE WRONG\n"
          ]
        }
      ]
    },
    {
      "cell_type": "code",
      "source": [
        "g= \"Mary had a little lam, little lamb\"\n",
        "g.find(\"had\")"
      ],
      "metadata": {
        "colab": {
          "base_uri": "https://localhost:8080/"
        },
        "id": "d7Cr6huVkxBu",
        "outputId": "973e82d6-74d4-41d4-bece-38134b4d550d"
      },
      "execution_count": null,
      "outputs": [
        {
          "output_type": "execute_result",
          "data": {
            "text/plain": [
              "5"
            ]
          },
          "metadata": {},
          "execution_count": 45
        }
      ]
    },
    {
      "cell_type": "code",
      "source": [
        "print(g.replace(\"Mary\", \"Bob\"))"
      ],
      "metadata": {
        "colab": {
          "base_uri": "https://localhost:8080/"
        },
        "id": "7Z7EpJDQlF0p",
        "outputId": "abb5691c-19a9-4833-c32d-a801e9eb2f74"
      },
      "execution_count": null,
      "outputs": [
        {
          "output_type": "stream",
          "name": "stdout",
          "text": [
            "Bob had a little lam, little lamb\n"
          ]
        }
      ]
    },
    {
      "cell_type": "code",
      "source": [],
      "metadata": {
        "id": "eD2-9_3ZlM9r"
      },
      "execution_count": null,
      "outputs": []
    },
    {
      "cell_type": "markdown",
      "source": [
        "# Review Questions"
      ],
      "metadata": {
        "id": "5MiCkGSylWVR"
      }
    },
    {
      "cell_type": "markdown",
      "source": [
        "1.-What is the result of the following operation in Python \n",
        "3+2*2"
      ],
      "metadata": {
        "id": "OFsfElvLlcVn"
      }
    },
    {
      "cell_type": "code",
      "source": [
        "3+2*2"
      ],
      "metadata": {
        "colab": {
          "base_uri": "https://localhost:8080/"
        },
        "id": "Vl0VmgeEllC_",
        "outputId": "ccf4df25-3872-4471-b38d-3088a24ed7ed"
      },
      "execution_count": null,
      "outputs": [
        {
          "output_type": "execute_result",
          "data": {
            "text/plain": [
              "7"
            ]
          },
          "metadata": {},
          "execution_count": 47
        }
      ]
    },
    {
      "cell_type": "markdown",
      "source": [
        "2.- In Python, if you executed name = \"Lizz\", what would be the output of print(name[0:2])?"
      ],
      "metadata": {
        "id": "u4f-F_aAlpxg"
      }
    },
    {
      "cell_type": "code",
      "source": [
        "name='Lizz'\n",
        "print(name[0:2])"
      ],
      "metadata": {
        "colab": {
          "base_uri": "https://localhost:8080/"
        },
        "id": "JnEHpydJlmii",
        "outputId": "ae3fbd98-f9f3-44ca-9067-c844fa048607"
      },
      "execution_count": null,
      "outputs": [
        {
          "output_type": "stream",
          "name": "stdout",
          "text": [
            "Li\n"
          ]
        }
      ]
    },
    {
      "cell_type": "markdown",
      "source": [
        "3.- In Python, if you executed var = '01234567', what would be the result of print(var[::2])?"
      ],
      "metadata": {
        "id": "HawuEqT-mGfq"
      }
    },
    {
      "cell_type": "code",
      "source": [
        "var='01234567'\n",
        "print(var[::2])"
      ],
      "metadata": {
        "colab": {
          "base_uri": "https://localhost:8080/"
        },
        "id": "TsWRAty9l7qf",
        "outputId": "8d8b15b5-4944-4e28-d5a9-c22582823dc5"
      },
      "execution_count": null,
      "outputs": [
        {
          "output_type": "stream",
          "name": "stdout",
          "text": [
            "0246\n"
          ]
        }
      ]
    },
    {
      "cell_type": "markdown",
      "source": [
        "4.- InPython, what is the result of the following operation '1'+'2'?"
      ],
      "metadata": {
        "id": "ASq8St6kmXCT"
      }
    },
    {
      "cell_type": "code",
      "source": [
        "'1'+'2'"
      ],
      "metadata": {
        "colab": {
          "base_uri": "https://localhost:8080/",
          "height": 37
        },
        "id": "zYBlJYZhmSlB",
        "outputId": "6bf38e71-2acd-4039-f3ea-c4499df16928"
      },
      "execution_count": null,
      "outputs": [
        {
          "output_type": "execute_result",
          "data": {
            "text/plain": [
              "'12'"
            ],
            "application/vnd.google.colaboratory.intrinsic+json": {
              "type": "string"
            }
          },
          "metadata": {},
          "execution_count": 50
        }
      ]
    },
    {
      "cell_type": "markdown",
      "source": [
        "5.-Given myvar = 'hello', how would you convert myvar into uppercase?"
      ],
      "metadata": {
        "id": "DpgT443ImqkU"
      }
    },
    {
      "cell_type": "code",
      "source": [
        "myvar='hello'\n",
        "print(myvar.upper())\n"
      ],
      "metadata": {
        "colab": {
          "base_uri": "https://localhost:8080/"
        },
        "id": "MJe_M7REmeRw",
        "outputId": "094d7b4e-1543-4eb1-9a48-577ee69376fc"
      },
      "execution_count": null,
      "outputs": [
        {
          "output_type": "stream",
          "name": "stdout",
          "text": [
            "HELLO\n"
          ]
        }
      ]
    },
    {
      "cell_type": "markdown",
      "source": [
        "# Module 2 - Python Data Structures: List and Tuples"
      ],
      "metadata": {
        "id": "TQ0okLwXnLCb"
      }
    },
    {
      "cell_type": "markdown",
      "source": [
        "Tuples: \n",
        "\n",
        "*   An ordered sequence\n",
        "*   Written as comma - sepparated elements within parentheses\n",
        "*   Type of variable is Tupple\n",
        "*   They are inmutable, they can not be modified. \n",
        "\n",
        "List: \n",
        "\n",
        "*  Ordered sequences \n",
        "*  Are mutable\n",
        "*  They are mutable \n",
        "\n"
      ],
      "metadata": {
        "id": "L7vK7v_ancLL"
      }
    },
    {
      "cell_type": "markdown",
      "source": [
        "Question 1: How do you access the last element of the following tuple: A=(0,1,2,3)? Select all possible correct answers."
      ],
      "metadata": {
        "id": "5de_pOebqZqm"
      }
    },
    {
      "cell_type": "code",
      "source": [
        "A=(0,1,2,3)\n",
        "print(A[3])\n",
        "print(A[-1])"
      ],
      "metadata": {
        "colab": {
          "base_uri": "https://localhost:8080/"
        },
        "id": "XZBPlTu-qhCt",
        "outputId": "501cb3a5-f4b3-47b6-8df0-d61d25719288"
      },
      "execution_count": null,
      "outputs": [
        {
          "output_type": "stream",
          "name": "stdout",
          "text": [
            "3\n",
            "3\n"
          ]
        }
      ]
    },
    {
      "cell_type": "markdown",
      "source": [
        "Question 2: Consider the list: B=[\"a\",\"b\",\"c\"].\n",
        "\n",
        "What is the result of the following B[1:]?"
      ],
      "metadata": {
        "id": "2Ktgdxe9rBuk"
      }
    },
    {
      "cell_type": "code",
      "source": [
        "B=[\"a\",\"b\",\"c\"]\n",
        "print(B[1:])"
      ],
      "metadata": {
        "colab": {
          "base_uri": "https://localhost:8080/"
        },
        "id": "NEBh-QgLqr5u",
        "outputId": "aa3896db-ddcd-4bc3-d421-328a30e5bdad"
      },
      "execution_count": null,
      "outputs": [
        {
          "output_type": "stream",
          "name": "stdout",
          "text": [
            "['b', 'c']\n"
          ]
        }
      ]
    },
    {
      "cell_type": "code",
      "source": [
        "A=(0,1,2,3)\n",
        "print(A[:2])\n",
        "B=[\"a\",\"b\",\"c\"]\n",
        "print(B[:2])"
      ],
      "metadata": {
        "colab": {
          "base_uri": "https://localhost:8080/"
        },
        "id": "dKMrbwpsrNB9",
        "outputId": "8a7d5e4e-aba0-45db-a8d0-89489768ac68"
      },
      "execution_count": null,
      "outputs": [
        {
          "output_type": "stream",
          "name": "stdout",
          "text": [
            "(0, 1)\n",
            "['a', 'b']\n"
          ]
        }
      ]
    },
    {
      "cell_type": "code",
      "source": [
        "B[0]=\"A\"\n",
        "print(B)\n"
      ],
      "metadata": {
        "colab": {
          "base_uri": "https://localhost:8080/"
        },
        "id": "3fjC3W2asIjk",
        "outputId": "73e3dcdf-8f33-44b5-9751-9b486df9cb3f"
      },
      "execution_count": null,
      "outputs": [
        {
          "output_type": "stream",
          "name": "stdout",
          "text": [
            "['A', 'b', 'c']\n"
          ]
        }
      ]
    },
    {
      "cell_type": "markdown",
      "source": [
        "# Module 2 - Python Data Structures : Lab  Tuples"
      ],
      "metadata": {
        "id": "Ay5l-Tp6unJY"
      }
    },
    {
      "cell_type": "code",
      "source": [
        "#Create your first tuple \n",
        "tuple1=(\"disco\",10,1.2)\n",
        "tuple1\n",
        "type(tuple1)"
      ],
      "metadata": {
        "colab": {
          "base_uri": "https://localhost:8080/"
        },
        "id": "vrFJmleMu4fK",
        "outputId": "a0683c58-cdf8-4bcd-cf49-47fbe14dba58"
      },
      "execution_count": null,
      "outputs": [
        {
          "output_type": "execute_result",
          "data": {
            "text/plain": [
              "tuple"
            ]
          },
          "metadata": {},
          "execution_count": 65
        }
      ]
    },
    {
      "cell_type": "code",
      "source": [
        "print(tuple1[0])\n",
        "print(tuple1[1])\n",
        "print(tuple1[2])"
      ],
      "metadata": {
        "colab": {
          "base_uri": "https://localhost:8080/"
        },
        "id": "fgWVPoJMvWd1",
        "outputId": "1e30578d-9d47-4aab-f0ea-00ae13bdfe91"
      },
      "execution_count": null,
      "outputs": [
        {
          "output_type": "stream",
          "name": "stdout",
          "text": [
            "disco\n",
            "10\n",
            "1.2\n"
          ]
        }
      ]
    },
    {
      "cell_type": "code",
      "source": [
        "print(type(tuple1[0]))\n",
        "print(type(tuple1[1]))\n",
        "print(type(tuple1[2]))"
      ],
      "metadata": {
        "colab": {
          "base_uri": "https://localhost:8080/"
        },
        "id": "Vo_IXcR8v8dq",
        "outputId": "fea48f42-7060-40a9-f48c-5b68af8046d1"
      },
      "execution_count": null,
      "outputs": [
        {
          "output_type": "stream",
          "name": "stdout",
          "text": [
            "<class 'str'>\n",
            "<class 'int'>\n",
            "<class 'float'>\n"
          ]
        }
      ]
    },
    {
      "cell_type": "code",
      "source": [
        "print(tuple1[-1])\n",
        "print(tuple1[-2])\n",
        "print(tuple1[-3])\n"
      ],
      "metadata": {
        "colab": {
          "base_uri": "https://localhost:8080/"
        },
        "id": "O_LT_m3JwIXg",
        "outputId": "47cd7a25-71fb-470d-d3ac-267e23946a52"
      },
      "execution_count": null,
      "outputs": [
        {
          "output_type": "stream",
          "name": "stdout",
          "text": [
            "1.2\n",
            "10\n",
            "disco\n"
          ]
        }
      ]
    },
    {
      "cell_type": "code",
      "source": [
        "tuple2= tuple1+(\"hard rock\",10)\n",
        "tuple2"
      ],
      "metadata": {
        "colab": {
          "base_uri": "https://localhost:8080/"
        },
        "id": "jaAoONyew0Ol",
        "outputId": "61372a18-1bed-4013-fffa-22f267b27924"
      },
      "execution_count": null,
      "outputs": [
        {
          "output_type": "execute_result",
          "data": {
            "text/plain": [
              "('disco', 10, 1.2, 'hard rock', 10)"
            ]
          },
          "metadata": {},
          "execution_count": 79
        }
      ]
    },
    {
      "cell_type": "code",
      "source": [
        "tuple2[0:3]"
      ],
      "metadata": {
        "colab": {
          "base_uri": "https://localhost:8080/"
        },
        "id": "FcarOCptxEDp",
        "outputId": "7acd033d-a9f7-4bb0-8aa0-ec21ea489715"
      },
      "execution_count": null,
      "outputs": [
        {
          "output_type": "execute_result",
          "data": {
            "text/plain": [
              "('disco', 10, 1.2)"
            ]
          },
          "metadata": {},
          "execution_count": 80
        }
      ]
    },
    {
      "cell_type": "code",
      "source": [
        "tuple2[3:5]"
      ],
      "metadata": {
        "colab": {
          "base_uri": "https://localhost:8080/"
        },
        "id": "UFlBNPbAxLja",
        "outputId": "508b546a-8b1d-4a28-86f1-65964d6f2878"
      },
      "execution_count": null,
      "outputs": [
        {
          "output_type": "execute_result",
          "data": {
            "text/plain": [
              "('hard rock', 10)"
            ]
          },
          "metadata": {},
          "execution_count": 81
        }
      ]
    },
    {
      "cell_type": "code",
      "source": [
        "len(tuple2)"
      ],
      "metadata": {
        "colab": {
          "base_uri": "https://localhost:8080/"
        },
        "id": "qnt6YddWxQ3o",
        "outputId": "0ca8eaec-aa84-4485-b4c8-f191deb4412e"
      },
      "execution_count": null,
      "outputs": [
        {
          "output_type": "execute_result",
          "data": {
            "text/plain": [
              "5"
            ]
          },
          "metadata": {},
          "execution_count": 82
        }
      ]
    },
    {
      "cell_type": "code",
      "source": [
        "ratings=(0,9,6,5,10,8,9,6,2)\n",
        "RatingsSorted= sorted(ratings)\n",
        "RatingsSorted"
      ],
      "metadata": {
        "colab": {
          "base_uri": "https://localhost:8080/"
        },
        "id": "PR4ym9FfxVBM",
        "outputId": "093e826f-2089-4db0-a91f-05f609ac9925"
      },
      "execution_count": null,
      "outputs": [
        {
          "output_type": "execute_result",
          "data": {
            "text/plain": [
              "[0, 2, 5, 6, 6, 8, 9, 9, 10]"
            ]
          },
          "metadata": {},
          "execution_count": 84
        }
      ]
    },
    {
      "cell_type": "code",
      "source": [
        "NestedT= (1,2,(\"pop\",\"rock\"),(3,4),(\"disco\",(1,2)))\n",
        "print(\"Element 0 of Tuple\", NestedT[0])\n",
        "print(\"Element 1 of Tuple\", NestedT[1])\n",
        "print(\"Element 2 of Tuple\", NestedT[2])\n",
        "print(\"Element 3 of Tuple\", NestedT[3])\n",
        "print(\"Element 4 of Tuple\", NestedT[4])"
      ],
      "metadata": {
        "colab": {
          "base_uri": "https://localhost:8080/"
        },
        "id": "SYTMnO1Hx1RT",
        "outputId": "41ef0937-9ead-4b30-c33e-d37744a9d687"
      },
      "execution_count": null,
      "outputs": [
        {
          "output_type": "stream",
          "name": "stdout",
          "text": [
            "Element 0 of Tuple 1\n",
            "Element 1 of Tuple 2\n",
            "Element 2 of Tuple ('pop', 'rock')\n",
            "Element 3 of Tuple (3, 4)\n",
            "Element 4 of Tuple ('disco', (1, 2))\n"
          ]
        }
      ]
    },
    {
      "cell_type": "code",
      "source": [
        "print(\"Element 2,0 of Tuple\", NestedT[2][0])\n",
        "print(\"Element 2,1 of Tuple\", NestedT[2][1])\n",
        "print(\"Element 3,0 of Tuple\", NestedT[3][0])\n",
        "print(\"Element 3,1 of Tuple\", NestedT[3][1])\n",
        "print(\"Element 4,0 of Tuple\", NestedT[4][0])\n",
        "print(\"Element 4,1 of Tuple\", NestedT[4][1])"
      ],
      "metadata": {
        "colab": {
          "base_uri": "https://localhost:8080/"
        },
        "id": "Iv-s5LP-yyuK",
        "outputId": "8c0ac716-2ba7-48a2-e856-18d1f94403f3"
      },
      "execution_count": null,
      "outputs": [
        {
          "output_type": "stream",
          "name": "stdout",
          "text": [
            "Element 2,0 of Tuple pop\n",
            "Element 2,1 of Tuple rock\n",
            "Element 3,0 of Tuple 3\n",
            "Element 3,1 of Tuple 4\n",
            "Element 4,0 of Tuple disco\n",
            "Element 4,1 of Tuple (1, 2)\n"
          ]
        }
      ]
    },
    {
      "cell_type": "code",
      "source": [
        "NestedT[2][1][0]"
      ],
      "metadata": {
        "colab": {
          "base_uri": "https://localhost:8080/",
          "height": 37
        },
        "id": "w1vHh1v5zV14",
        "outputId": "3d1d2af9-d749-4944-b9d1-3246aa908e00"
      },
      "execution_count": null,
      "outputs": [
        {
          "output_type": "execute_result",
          "data": {
            "text/plain": [
              "'r'"
            ],
            "application/vnd.google.colaboratory.intrinsic+json": {
              "type": "string"
            }
          },
          "metadata": {},
          "execution_count": 89
        }
      ]
    },
    {
      "cell_type": "code",
      "source": [
        "NestedT[2][1][1]"
      ],
      "metadata": {
        "colab": {
          "base_uri": "https://localhost:8080/",
          "height": 37
        },
        "id": "C0DXQg3ozobO",
        "outputId": "497dba64-f0fd-40cf-f4c8-6ad5992061b4"
      },
      "execution_count": null,
      "outputs": [
        {
          "output_type": "execute_result",
          "data": {
            "text/plain": [
              "'o'"
            ],
            "application/vnd.google.colaboratory.intrinsic+json": {
              "type": "string"
            }
          },
          "metadata": {},
          "execution_count": 90
        }
      ]
    },
    {
      "cell_type": "code",
      "source": [
        "NestedT[4][1][0]"
      ],
      "metadata": {
        "colab": {
          "base_uri": "https://localhost:8080/"
        },
        "id": "ysmdFGC6zvwA",
        "outputId": "7b2837e8-4c2a-47ba-cf19-2d4ffabf9dcf"
      },
      "execution_count": null,
      "outputs": [
        {
          "output_type": "execute_result",
          "data": {
            "text/plain": [
              "1"
            ]
          },
          "metadata": {},
          "execution_count": 96
        }
      ]
    },
    {
      "cell_type": "code",
      "source": [
        "NestedT[4][1][1]"
      ],
      "metadata": {
        "colab": {
          "base_uri": "https://localhost:8080/"
        },
        "id": "NjZJIykf0NTJ",
        "outputId": "baf4b352-2d42-4d73-9fd2-43335e8276c8"
      },
      "execution_count": null,
      "outputs": [
        {
          "output_type": "execute_result",
          "data": {
            "text/plain": [
              "2"
            ]
          },
          "metadata": {},
          "execution_count": 97
        }
      ]
    },
    {
      "cell_type": "code",
      "source": [
        "#Sample Tuple \n",
        "geneeres_tuple = (\"pop\",\"rock\",\"soul\",\"hard rock\",\"soft rock\", \"R&B\",\"progressive rock\", \"disco\")\n",
        "len(geneeres_tuple)\n",
        "print(geneeres_tuple[3])\n",
        "print(geneeres_tuple[3:6])\n",
        "print(geneeres_tuple[:2])\n",
        "print(geneeres_tuple.index(\"disco\"))\n",
        "sortedList= sorted(geneeres_tuple)\n",
        "print(sortedList)"
      ],
      "metadata": {
        "id": "yWrpvt8E0WO-",
        "colab": {
          "base_uri": "https://localhost:8080/"
        },
        "outputId": "46e56297-ae9d-4782-eb47-4bec2126a199"
      },
      "execution_count": 108,
      "outputs": [
        {
          "output_type": "stream",
          "name": "stdout",
          "text": [
            "hard rock\n",
            "('hard rock', 'soft rock', 'R&B')\n",
            "('pop', 'rock')\n",
            "7\n",
            "['R&B', 'disco', 'hard rock', 'pop', 'progressive rock', 'rock', 'soft rock', 'soul']\n"
          ]
        }
      ]
    },
    {
      "cell_type": "markdown",
      "source": [
        "# Module 2 - Python Data Structures: Lab - Lists\n"
      ],
      "metadata": {
        "id": "PNsnBcdI2-Z0"
      }
    },
    {
      "cell_type": "code",
      "source": [
        "L=[\"Michael Jackson\",10.1, 1982]\n",
        "print(\"The same element using positive: \",L[0],\" and negative index: \", L[-3])\n",
        "print(\"The same element using positive: \",L[1],\" and negative index: \", L[-2])\n",
        "print(\"The same element using positive: \",L[2],\" and negative index: \", L[-1])"
      ],
      "metadata": {
        "colab": {
          "base_uri": "https://localhost:8080/"
        },
        "id": "_r48dPQa3IYW",
        "outputId": "f03fe133-8937-412e-dfc6-fd5e9d1c3e4d"
      },
      "execution_count": 112,
      "outputs": [
        {
          "output_type": "stream",
          "name": "stdout",
          "text": [
            "The same element using positive:  Michael Jackson  and negative index:  Michael Jackson\n",
            "The same element using positive:  10.1  and negative index:  10.1\n",
            "The same element using positive:  1982  and negative index:  1982\n"
          ]
        }
      ]
    },
    {
      "cell_type": "code",
      "source": [
        "L=[\"Michael Jackson\",10.1, 1982,[1,2],(\"A\",1)]\n",
        "L[3:5]"
      ],
      "metadata": {
        "colab": {
          "base_uri": "https://localhost:8080/"
        },
        "id": "v4UUN4uX36gY",
        "outputId": "e02207c4-f203-4e05-848c-61302dabe12a"
      },
      "execution_count": 115,
      "outputs": [
        {
          "output_type": "execute_result",
          "data": {
            "text/plain": [
              "[[1, 2], ('A', 1)]"
            ]
          },
          "metadata": {},
          "execution_count": 115
        }
      ]
    },
    {
      "cell_type": "code",
      "source": [
        "L.extend([\"pop\",10])\n",
        "print(L)"
      ],
      "metadata": {
        "colab": {
          "base_uri": "https://localhost:8080/"
        },
        "id": "vRdRQVMW4NG1",
        "outputId": "ef638c05-ba7c-4147-cd46-d1d9901e1d2a"
      },
      "execution_count": 118,
      "outputs": [
        {
          "output_type": "stream",
          "name": "stdout",
          "text": [
            "['Michael Jackson', 10.1, 1982, [1, 2], ('A', 1), 'pop', 10, 'pop', 10, 'pop', 10]\n"
          ]
        }
      ]
    },
    {
      "cell_type": "code",
      "source": [
        "L=[\"Michael Jackson\",10.1, 1982]\n",
        "L.append([\"pop\",10])\n",
        "print(L)"
      ],
      "metadata": {
        "colab": {
          "base_uri": "https://localhost:8080/"
        },
        "id": "95SXRUyc4eQX",
        "outputId": "e61962ec-6d7e-4294-b763-f6a397e5d7ea"
      },
      "execution_count": 120,
      "outputs": [
        {
          "output_type": "stream",
          "name": "stdout",
          "text": [
            "['Michael Jackson', 10.1, 1982, ['pop', 10]]\n"
          ]
        }
      ]
    },
    {
      "cell_type": "code",
      "source": [
        "L=[\"Michael Jackson\",10.1, 1982]\n",
        "L.extend([\"pop\",10])\n",
        "print(L)"
      ],
      "metadata": {
        "colab": {
          "base_uri": "https://localhost:8080/"
        },
        "id": "RgoHBiWp46ow",
        "outputId": "9f102bc3-4e3d-40bd-a1a5-8dcfb39334d5"
      },
      "execution_count": 121,
      "outputs": [
        {
          "output_type": "stream",
          "name": "stdout",
          "text": [
            "['Michael Jackson', 10.1, 1982, 'pop', 10]\n"
          ]
        }
      ]
    },
    {
      "cell_type": "code",
      "source": [
        "A= [\"disco\",10,1.2]\n",
        "print( \"Before change: \",A)\n",
        "A[0]=\"hard Rock\"; \n",
        "print(\"After change: \", A)"
      ],
      "metadata": {
        "colab": {
          "base_uri": "https://localhost:8080/"
        },
        "id": "1NUNvs225H5E",
        "outputId": "bfe90654-2f7f-448d-d712-a8587637bbba"
      },
      "execution_count": 122,
      "outputs": [
        {
          "output_type": "stream",
          "name": "stdout",
          "text": [
            "Before change:  ['disco', 10, 1.2]\n",
            "After change:  ['hard Rock', 10, 1.2]\n"
          ]
        }
      ]
    },
    {
      "cell_type": "code",
      "source": [
        "\n",
        "print( \"Before change: \",A)\n",
        "del(A[0]); \n",
        "print(\"After change: \", A)"
      ],
      "metadata": {
        "colab": {
          "base_uri": "https://localhost:8080/"
        },
        "id": "J_G0VcMX5Yym",
        "outputId": "28f3414f-1ebc-462c-88a2-f7270fa8a4b1"
      },
      "execution_count": 123,
      "outputs": [
        {
          "output_type": "stream",
          "name": "stdout",
          "text": [
            "Before change:  ['hard Rock', 10, 1.2]\n",
            "After change:  [10, 1.2]\n"
          ]
        }
      ]
    },
    {
      "cell_type": "code",
      "source": [
        "\"hard rock\".split()\n"
      ],
      "metadata": {
        "colab": {
          "base_uri": "https://localhost:8080/"
        },
        "id": "TGCinv_55k51",
        "outputId": "5bc6b208-c913-4017-e4bb-31e60c4281ba"
      },
      "execution_count": 126,
      "outputs": [
        {
          "output_type": "execute_result",
          "data": {
            "text/plain": [
              "['hard', 'rock']"
            ]
          },
          "metadata": {},
          "execution_count": 126
        }
      ]
    },
    {
      "cell_type": "code",
      "source": [
        "\"A,B,C,D\".split(\",\")"
      ],
      "metadata": {
        "colab": {
          "base_uri": "https://localhost:8080/"
        },
        "id": "zrODll5Y5vxB",
        "outputId": "711936e5-90c6-4341-c21d-8c022a6c0e66"
      },
      "execution_count": 127,
      "outputs": [
        {
          "output_type": "execute_result",
          "data": {
            "text/plain": [
              "['A', 'B', 'C', 'D']"
            ]
          },
          "metadata": {},
          "execution_count": 127
        }
      ]
    },
    {
      "cell_type": "code",
      "source": [
        "A=[\"hard rock\",10,1.2]\n",
        "B=A\n",
        "print(\"A:\",A)\n",
        "print(\"B:\",B)"
      ],
      "metadata": {
        "colab": {
          "base_uri": "https://localhost:8080/"
        },
        "id": "Mpm9LiUT50e0",
        "outputId": "d77b2ef3-88ff-472b-fe3c-872138c1444a"
      },
      "execution_count": 130,
      "outputs": [
        {
          "output_type": "stream",
          "name": "stdout",
          "text": [
            "A: ['hard rock', 10, 1.2]\n",
            "B: ['hard rock', 10, 1.2]\n"
          ]
        }
      ]
    },
    {
      "cell_type": "code",
      "source": [
        "print(\"B[0]: \", B[0])\n",
        "A[0]=\"Banana\"\n",
        "print(\"B[0]: \", B[0])\n",
        "print(\"A[0]: \", A[0])"
      ],
      "metadata": {
        "colab": {
          "base_uri": "https://localhost:8080/"
        },
        "id": "70DkmMji6RB6",
        "outputId": "4e187715-1f45-4d18-db97-fce85431ba9a"
      },
      "execution_count": 140,
      "outputs": [
        {
          "output_type": "stream",
          "name": "stdout",
          "text": [
            "B[0]:  Banana\n",
            "B[0]:  Banana\n",
            "A[0]:  Banana\n"
          ]
        }
      ]
    },
    {
      "cell_type": "code",
      "source": [
        "B=A[:]\n",
        "B"
      ],
      "metadata": {
        "colab": {
          "base_uri": "https://localhost:8080/"
        },
        "id": "5edheGwU6lEx",
        "outputId": "a1b59373-d9a0-4f5b-aa57-652aaa265a84"
      },
      "execution_count": 135,
      "outputs": [
        {
          "output_type": "execute_result",
          "data": {
            "text/plain": [
              "['Banana', 10, 1.2]"
            ]
          },
          "metadata": {},
          "execution_count": 135
        }
      ]
    },
    {
      "cell_type": "code",
      "source": [
        "print(\"B[0]: \", B[0])\n",
        "A[0]=\"Hard Rock\"\n",
        "print(\"B[0]: \", B[0])\n",
        "print(\"A[0]: \", A[0])"
      ],
      "metadata": {
        "colab": {
          "base_uri": "https://localhost:8080/"
        },
        "id": "eiADMaGW6rT4",
        "outputId": "98db2d57-f38d-4092-87a2-5153bd3e6373"
      },
      "execution_count": 138,
      "outputs": [
        {
          "output_type": "stream",
          "name": "stdout",
          "text": [
            "B[0]:  Banana\n",
            "B[0]:  Banana\n",
            "A[0]:  Hard Rock\n"
          ]
        }
      ]
    },
    {
      "cell_type": "markdown",
      "source": [
        "QUIZZ"
      ],
      "metadata": {
        "id": "hLpVy9Ws47jJ"
      }
    },
    {
      "cell_type": "code",
      "source": [
        "List=(1,\"hello\",[1,2,3],True)\n",
        "print(List[1])\n",
        "print(List[:3])"
      ],
      "metadata": {
        "colab": {
          "base_uri": "https://localhost:8080/"
        },
        "id": "i_bnVG9j7E2f",
        "outputId": "61aa5e30-1ef5-4795-fc74-7b8cade7a312"
      },
      "execution_count": 144,
      "outputs": [
        {
          "output_type": "stream",
          "name": "stdout",
          "text": [
            "hello\n",
            "(1, 'hello', [1, 2, 3])\n"
          ]
        }
      ]
    },
    {
      "cell_type": "code",
      "source": [
        "A=[1,\"A\"]\n",
        "B=[2,1,\"d\"]\n",
        "A+B"
      ],
      "metadata": {
        "colab": {
          "base_uri": "https://localhost:8080/"
        },
        "id": "7p27USs67g2n",
        "outputId": "cc75ebed-bd5d-45e3-8e76-e2d24fc7bb60"
      },
      "execution_count": 147,
      "outputs": [
        {
          "output_type": "execute_result",
          "data": {
            "text/plain": [
              "[1, 'A', 2, 1, 'd']"
            ]
          },
          "metadata": {},
          "execution_count": 147
        }
      ]
    },
    {
      "cell_type": "markdown",
      "source": [
        "# Module 2 - Python Data Structures: Sets\n"
      ],
      "metadata": {
        "id": "hvnh3fxO7406"
      }
    },
    {
      "cell_type": "markdown",
      "source": [
        "\n",
        "\n",
        "*   Sets are type of collection\n",
        "*   They are unordered\n",
        "*   Only have unique Elements\n",
        "\n"
      ],
      "metadata": {
        "id": "L5xqgNyf8GVt"
      }
    },
    {
      "cell_type": "markdown",
      "source": [
        "Question 1: What is the result of the following lines of code:\n",
        "\n",
        "S={'A','B','C'}\n",
        "\n",
        "U={'A','Z','C'}\n",
        "\n",
        "U.union(S)"
      ],
      "metadata": {
        "id": "O5670Ge_9b4O"
      }
    },
    {
      "cell_type": "code",
      "source": [
        "S={'A','B','C'}\n",
        "\n",
        "U={'A','Z','C'}\n",
        "\n",
        "U.union(S)"
      ],
      "metadata": {
        "colab": {
          "base_uri": "https://localhost:8080/"
        },
        "id": "9S1dhi6i9fm4",
        "outputId": "14e38bd6-dcad-40c4-9198-c4ce6683f7bc"
      },
      "execution_count": 148,
      "outputs": [
        {
          "output_type": "execute_result",
          "data": {
            "text/plain": [
              "{'A', 'B', 'C', 'Z'}"
            ]
          },
          "metadata": {},
          "execution_count": 148
        }
      ]
    },
    {
      "cell_type": "markdown",
      "source": [
        "Question 2: What is the intersection of set S and U?\n",
        "\n",
        "S={'A','B','C'}\n",
        "\n",
        "U={'A','Z','C'}"
      ],
      "metadata": {
        "id": "ao9f5vu89ob5"
      }
    },
    {
      "cell_type": "code",
      "source": [
        "S={'A','B','C'}\n",
        "U={'A','Z','C'}\n",
        "K= S&U\n",
        "print(K)"
      ],
      "metadata": {
        "colab": {
          "base_uri": "https://localhost:8080/"
        },
        "id": "o49LtlFG8BCL",
        "outputId": "f808d087-cb32-447d-e14c-8375f86a9ea4"
      },
      "execution_count": 151,
      "outputs": [
        {
          "output_type": "stream",
          "name": "stdout",
          "text": [
            "{'C', 'A'}\n"
          ]
        }
      ]
    }
  ]
}