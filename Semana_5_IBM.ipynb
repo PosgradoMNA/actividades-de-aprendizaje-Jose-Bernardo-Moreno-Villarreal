{
  "nbformat": 4,
  "nbformat_minor": 0,
  "metadata": {
    "colab": {
      "provenance": [],
      "collapsed_sections": [
        "ZbmDY6azRujh",
        "s-OFCaUmSXgp",
        "o4K_SwygUgA4",
        "XUisS6dEa6Yu",
        "Rt1m2zTAelkE",
        "R3bwWFTnhrDI",
        "5MiCkGSylWVR",
        "TQ0okLwXnLCb",
        "Ay5l-Tp6unJY",
        "PNsnBcdI2-Z0",
        "hvnh3fxO7406",
        "H2HynCwE_aPL",
        "MpIsSosdNBqB",
        "u6TvB2R6ONfE",
        "78dMldshR78y",
        "gw-Ai3KnEYuM",
        "X8ZT_CtFC_bm",
        "Cl-LeoQ2LstZ",
        "srDetuE0NEzL"
      ],
      "include_colab_link": true
    },
    "kernelspec": {
      "name": "python3",
      "display_name": "Python 3"
    },
    "language_info": {
      "name": "python"
    }
  },
  "cells": [
    {
      "cell_type": "markdown",
      "metadata": {
        "id": "view-in-github",
        "colab_type": "text"
      },
      "source": [
        "<a href=\"https://colab.research.google.com/github/PosgradoMNA/actividades-de-aprendizaje-Jose-Bernardo-Moreno-Villarreal/blob/main/Semana_5_IBM.ipynb\" target=\"_parent\"><img src=\"https://colab.research.google.com/assets/colab-badge.svg\" alt=\"Open In Colab\"/></a>"
      ]
    },
    {
      "cell_type": "markdown",
      "source": [
        "# A01794050 - Moreno Villarreal José Bernardo"
      ],
      "metadata": {
        "id": "Gy2GOTbrOMRZ"
      }
    },
    {
      "cell_type": "markdown",
      "source": [
        "*En cada una de las secciones del curso de IBM agrego un comentario sobre lo aprendido. *"
      ],
      "metadata": {
        "id": "pXP0FzEYQ3ed"
      }
    },
    {
      "cell_type": "markdown",
      "source": [
        "*En el módulo 2 de Análisis con Phyton se muestra la importancia y algunas técnicas del pre procesamiento de datos. Se observa como manejar valores faltantes, dar formato a los datos, normalización de datos, entre otros.*\n",
        "\n"
      ],
      "metadata": {
        "id": "xOhvkvhpI_SL"
      }
    },
    {
      "cell_type": "markdown",
      "source": [
        "#Modulo 2 .-  Dealing with missing values in Python\n"
      ],
      "metadata": {
        "id": "vLBR5dnUeKFX"
      }
    },
    {
      "cell_type": "markdown",
      "source": [
        "Usualmente un valor falnte puede aparecer como \"?\", Na. Usualmente representado en Phyton como NaN\n",
        "\n",
        "Formas de tratar datos faltantes: \n",
        "\n",
        "* Revisar la fuente de los datos \n",
        "* Retirar los datos faltantes \n",
        "  * -variable \n",
        "  * -entrada\n",
        "* Remplazar los valores faltantes\n",
        "  * -promedio \n",
        "  * -frecuencia"
      ],
      "metadata": {
        "id": "2dCsxCVcH8Vy"
      }
    },
    {
      "cell_type": "code",
      "source": [
        "import pandas as pd \n",
        "path='https://cf-courses-data.s3.us.cloud-object-storage.appdomain.cloud/IBMDeveloperSkillsNetwork-DA0101EN-SkillsNetwork/labs/Data%20files/auto.csv'\n",
        "df= pd.read_csv(path,header=None)"
      ],
      "metadata": {
        "id": "MJrgHI9aIzko"
      },
      "execution_count": 1,
      "outputs": []
    },
    {
      "cell_type": "code",
      "source": [
        "df.shape"
      ],
      "metadata": {
        "colab": {
          "base_uri": "https://localhost:8080/"
        },
        "id": "UmFhK651Jhrw",
        "outputId": "b94edff6-ed41-4267-fc8b-ce93efed304f"
      },
      "execution_count": 3,
      "outputs": [
        {
          "output_type": "execute_result",
          "data": {
            "text/plain": [
              "(205, 26)"
            ]
          },
          "metadata": {},
          "execution_count": 3
        }
      ]
    },
    {
      "cell_type": "markdown",
      "source": [
        "El comando dropna ayuda a retirar los NaN. Para modificar el dataframe es importante colocar el mètodo inplace=True"
      ],
      "metadata": {
        "id": "MYR-FFfNKNWO"
      }
    },
    {
      "cell_type": "code",
      "source": [
        "df.dropna(axis=0,inplace=True)\n"
      ],
      "metadata": {
        "id": "FOFNsveRJbN9"
      },
      "execution_count": 8,
      "outputs": []
    },
    {
      "cell_type": "markdown",
      "source": [
        "#Modulo 2 - Data Formatting in Phyton"
      ],
      "metadata": {
        "id": "jImpzLMFKhZR"
      }
    },
    {
      "cell_type": "markdown",
      "source": [
        "Dar formato a los datos significa traer los datos a una representación estándard para que el usuario haga comparaciones significantes. \n",
        "\n",
        "Se requiere que la información sea entendible.\n"
      ],
      "metadata": {
        "id": "8T45l7FsNSCI"
      }
    },
    {
      "cell_type": "markdown",
      "source": [
        "Para identificar el tipo de datos se utlizs dtypes"
      ],
      "metadata": {
        "id": "DgxkTel9OI2Z"
      }
    },
    {
      "cell_type": "code",
      "source": [
        "df.dtypes\n"
      ],
      "metadata": {
        "colab": {
          "base_uri": "https://localhost:8080/"
        },
        "id": "R5rzNw-zON9y",
        "outputId": "222f9056-a7d5-42e9-be66-6edf61d73c8e"
      },
      "execution_count": 10,
      "outputs": [
        {
          "output_type": "execute_result",
          "data": {
            "text/plain": [
              "0       int64\n",
              "1      object\n",
              "2      object\n",
              "3      object\n",
              "4      object\n",
              "5      object\n",
              "6      object\n",
              "7      object\n",
              "8      object\n",
              "9     float64\n",
              "10    float64\n",
              "11    float64\n",
              "12    float64\n",
              "13      int64\n",
              "14     object\n",
              "15     object\n",
              "16      int64\n",
              "17     object\n",
              "18     object\n",
              "19     object\n",
              "20    float64\n",
              "21     object\n",
              "22     object\n",
              "23      int64\n",
              "24      int64\n",
              "25     object\n",
              "dtype: object"
            ]
          },
          "metadata": {},
          "execution_count": 10
        }
      ]
    },
    {
      "cell_type": "markdown",
      "source": [
        "Se puede utilizar el metodo astype() para cambiar el tipo de dato"
      ],
      "metadata": {
        "id": "ylX9z2wiOYQO"
      }
    },
    {
      "cell_type": "code",
      "source": [
        "df[:0]= df[:0].astype(\"float\")"
      ],
      "metadata": {
        "id": "bJQpvwf0OPyq"
      },
      "execution_count": 18,
      "outputs": []
    },
    {
      "cell_type": "markdown",
      "source": [
        "#Módulo 2 - Data Normalization"
      ],
      "metadata": {
        "id": "NIc95hPdPJ3h"
      }
    },
    {
      "cell_type": "markdown",
      "source": [
        "Se requiere utilizar normalizaciòn cuando se desea que los rangos entre variables sean consistentes. \n",
        "\n",
        "Mètodos para normalizar \n",
        "\n",
        "* Simple feature scaling \n",
        "* Min-Max (range) \n",
        "* Z-score (standard score)\n",
        "\n"
      ],
      "metadata": {
        "id": "4TMkudBkPTA2"
      }
    },
    {
      "cell_type": "code",
      "source": [],
      "metadata": {
        "id": "PeuMHwkUREcq"
      },
      "execution_count": null,
      "outputs": []
    },
    {
      "cell_type": "markdown",
      "source": [
        "#Módulo 2 - Binning in Phyton"
      ],
      "metadata": {
        "id": "-Xpmt3F8QSiX"
      }
    },
    {
      "cell_type": "markdown",
      "source": [
        "* Agrupar datos \n",
        "* Convertir datos numéricos en variables categóricas \n",
        "* Permite entender de mejor manera la distribución de los datos \n",
        "* Se utliza la función cut\n"
      ],
      "metadata": {
        "id": "y_ORfJgBQtMX"
      }
    },
    {
      "cell_type": "markdown",
      "source": [
        "#Módulo 2 - Turning categorical variables into quantitative variables"
      ],
      "metadata": {
        "id": "Y1Gr8ohpRK1t"
      }
    },
    {
      "cell_type": "markdown",
      "source": [
        "* Asignar variable entre 0 y 1 para cada categoría \n",
        "* Se utiliza el comando get_dummies()"
      ],
      "metadata": {
        "id": "0EeI1D5jRR8X"
      }
    },
    {
      "cell_type": "markdown",
      "source": [
        "#Módulo 2 - LAB"
      ],
      "metadata": {
        "id": "12c6AOAwRs-o"
      }
    }
  ]
}