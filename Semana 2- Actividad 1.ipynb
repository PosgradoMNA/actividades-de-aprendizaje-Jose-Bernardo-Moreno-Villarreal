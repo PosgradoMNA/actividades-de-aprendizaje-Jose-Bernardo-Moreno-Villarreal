{
  "nbformat": 4,
  "nbformat_minor": 0,
  "metadata": {
    "colab": {
      "provenance": [],
      "collapsed_sections": [
        "ZbmDY6azRujh",
        "s-OFCaUmSXgp",
        "o4K_SwygUgA4",
        "XUisS6dEa6Yu",
        "Rt1m2zTAelkE",
        "R3bwWFTnhrDI",
        "5MiCkGSylWVR",
        "TQ0okLwXnLCb",
        "Ay5l-Tp6unJY",
        "PNsnBcdI2-Z0",
        "hvnh3fxO7406",
        "H2HynCwE_aPL",
        "MpIsSosdNBqB",
        "u6TvB2R6ONfE",
        "78dMldshR78y",
        "gw-Ai3KnEYuM",
        "X8ZT_CtFC_bm",
        "Cl-LeoQ2LstZ",
        "srDetuE0NEzL"
      ],
      "include_colab_link": true
    },
    "kernelspec": {
      "name": "python3",
      "display_name": "Python 3"
    },
    "language_info": {
      "name": "python"
    }
  },
  "cells": [
    {
      "cell_type": "markdown",
      "metadata": {
        "id": "view-in-github",
        "colab_type": "text"
      },
      "source": [
        "<a href=\"https://colab.research.google.com/github/PosgradoMNA/actividades-de-aprendizaje-Jose-Bernardo-Moreno-Villarreal/blob/main/Semana%202-%20Actividad%201.ipynb\" target=\"_parent\"><img src=\"https://colab.research.google.com/assets/colab-badge.svg\" alt=\"Open In Colab\"/></a>"
      ]
    },
    {
      "cell_type": "markdown",
      "source": [
        "# A01794050 - Moreno Villarreal José Bernardo"
      ],
      "metadata": {
        "id": "Gy2GOTbrOMRZ"
      }
    },
    {
      "cell_type": "markdown",
      "source": [
        "*En cada una de las secciones del curso de IBM agrego un comentario sobre lo aprendido. *"
      ],
      "metadata": {
        "id": "pXP0FzEYQ3ed"
      }
    },
    {
      "cell_type": "markdown",
      "source": [
        "*La primer seccion del curso me mostró comandos básicos de impresión de texto en la pantalla, la asignación de valores a variables y su despliegue, asi como los tipos de datos existentes. \n",
        "\n",
        "Esta parte resulta fundamental ya que el entender el tipo de variable a utilizar no permite razonar y aplicar diferentes operaciones para su procesamiento.*  \n"
      ],
      "metadata": {
        "id": "xOhvkvhpI_SL"
      }
    },
    {
      "cell_type": "markdown",
      "source": [
        "# Module 4 - Working with Data in Course"
      ],
      "metadata": {
        "id": "Q_Dvk8V1okt4"
      }
    },
    {
      "cell_type": "markdown",
      "source": [
        "Se requiere utilizar la funcion \"Open\", asignarla a un objeto tipo archivo. \n",
        "\n",
        "Argumentos: \n",
        "\n",
        "\n",
        "\n",
        "*   Dirección/localización del archivo\n",
        "*   Modo (w--> escribir, r --> leer)\n",
        "\n"
      ],
      "metadata": {
        "id": "FuJXLvWPosrH"
      }
    },
    {
      "cell_type": "markdown",
      "source": [
        "##Module 4: Reading Files with Open "
      ],
      "metadata": {
        "id": "UN6u4pXNoIqf"
      }
    },
    {
      "cell_type": "code",
      "source": [
        "File1=open(\"/content/sample_data/california_housing_train.csv\",\"r\")"
      ],
      "metadata": {
        "id": "TKxRdfu3pSpt"
      },
      "execution_count": 2,
      "outputs": []
    },
    {
      "cell_type": "markdown",
      "source": [
        "Obtener el nombre del archivo"
      ],
      "metadata": {
        "id": "SmAFdmlepq9o"
      }
    },
    {
      "cell_type": "code",
      "source": [
        "File1.name\n"
      ],
      "metadata": {
        "colab": {
          "base_uri": "https://localhost:8080/",
          "height": 35
        },
        "id": "xR4jbzL3ptEr",
        "outputId": "0b034957-5dd6-4c59-b7cf-8785061b2970"
      },
      "execution_count": 3,
      "outputs": [
        {
          "output_type": "execute_result",
          "data": {
            "text/plain": [
              "'/content/sample_data/california_housing_train.csv'"
            ],
            "application/vnd.google.colaboratory.intrinsic+json": {
              "type": "string"
            }
          },
          "metadata": {},
          "execution_count": 3
        }
      ]
    },
    {
      "cell_type": "markdown",
      "source": [
        "Obtener modo de archivo"
      ],
      "metadata": {
        "id": "YTNQczp4qDfA"
      }
    },
    {
      "cell_type": "code",
      "source": [
        "File1.mode"
      ],
      "metadata": {
        "colab": {
          "base_uri": "https://localhost:8080/",
          "height": 35
        },
        "id": "BRIRPx3yqFH1",
        "outputId": "fd306e75-223e-4e8e-c7a3-0039d94fa2b6"
      },
      "execution_count": 4,
      "outputs": [
        {
          "output_type": "execute_result",
          "data": {
            "text/plain": [
              "'r'"
            ],
            "application/vnd.google.colaboratory.intrinsic+json": {
              "type": "string"
            }
          },
          "metadata": {},
          "execution_count": 4
        }
      ]
    },
    {
      "cell_type": "markdown",
      "source": [
        "Cerrar Archivo"
      ],
      "metadata": {
        "id": "CmDOf_tFqJbz"
      }
    },
    {
      "cell_type": "code",
      "source": [
        "File1.close()"
      ],
      "metadata": {
        "colab": {
          "base_uri": "https://localhost:8080/"
        },
        "id": "AOfio5rcqL3W",
        "outputId": "f281c049-3a5b-44e4-d96f-16616b231028"
      },
      "execution_count": 5,
      "outputs": [
        {
          "output_type": "execute_result",
          "data": {
            "text/plain": [
              "<function TextIOWrapper.close()>"
            ]
          },
          "metadata": {},
          "execution_count": 5
        }
      ]
    },
    {
      "cell_type": "markdown",
      "source": [
        "El comando with es utilizado para abrir ardchivos porque cierra el archivo automaticamente. "
      ],
      "metadata": {
        "id": "GYW50_A7qJlU"
      }
    },
    {
      "cell_type": "code",
      "source": [
        "with open ('/content/sample_data/mnist_test.csv',\"r\") as File2: \n",
        "  file_stuff=File2.read()\n",
        "  print(file_stuff)\n",
        "print(File2.closed)\n",
        "print(file_stuff)\n"
      ],
      "metadata": {
        "colab": {
          "base_uri": "https://localhost:8080/"
        },
        "id": "PHyO78ivqhnb",
        "outputId": "adab790d-42a0-41bb-ff3a-810023add2a2"
      },
      "execution_count": 13,
      "outputs": [
        {
          "output_type": "stream",
          "name": "stderr",
          "text": [
            "IOPub data rate exceeded.\n",
            "The notebook server will temporarily stop sending output\n",
            "to the client in order to avoid crashing it.\n",
            "To change this limit, set the config variable\n",
            "`--NotebookApp.iopub_data_rate_limit`.\n",
            "\n",
            "Current values:\n",
            "NotebookApp.iopub_data_rate_limit=1000000.0 (bytes/sec)\n",
            "NotebookApp.rate_limit_window=3.0 (secs)\n",
            "\n"
          ]
        }
      ]
    },
    {
      "cell_type": "markdown",
      "source": [],
      "metadata": {
        "id": "05VXXfNqqJxA"
      }
    },
    {
      "cell_type": "markdown",
      "source": [],
      "metadata": {
        "id": "w-abIAiiplu4"
      }
    },
    {
      "cell_type": "markdown",
      "source": [],
      "metadata": {
        "id": "nq47UqJyojGU"
      }
    }
  ]
}