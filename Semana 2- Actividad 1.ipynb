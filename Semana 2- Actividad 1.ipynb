{
  "nbformat": 4,
  "nbformat_minor": 0,
  "metadata": {
    "colab": {
      "provenance": [],
      "collapsed_sections": [
        "ZbmDY6azRujh",
        "s-OFCaUmSXgp",
        "o4K_SwygUgA4",
        "XUisS6dEa6Yu",
        "Rt1m2zTAelkE",
        "R3bwWFTnhrDI",
        "5MiCkGSylWVR",
        "TQ0okLwXnLCb",
        "Ay5l-Tp6unJY",
        "PNsnBcdI2-Z0",
        "hvnh3fxO7406",
        "H2HynCwE_aPL",
        "MpIsSosdNBqB",
        "u6TvB2R6ONfE",
        "78dMldshR78y",
        "gw-Ai3KnEYuM",
        "X8ZT_CtFC_bm",
        "Cl-LeoQ2LstZ",
        "srDetuE0NEzL"
      ],
      "include_colab_link": true
    },
    "kernelspec": {
      "name": "python3",
      "display_name": "Python 3"
    },
    "language_info": {
      "name": "python"
    }
  },
  "cells": [
    {
      "cell_type": "markdown",
      "metadata": {
        "id": "view-in-github",
        "colab_type": "text"
      },
      "source": [
        "<a href=\"https://colab.research.google.com/github/PosgradoMNA/actividades-de-aprendizaje-Jose-Bernardo-Moreno-Villarreal/blob/main/Semana%202-%20Actividad%201.ipynb\" target=\"_parent\"><img src=\"https://colab.research.google.com/assets/colab-badge.svg\" alt=\"Open In Colab\"/></a>"
      ]
    },
    {
      "cell_type": "markdown",
      "source": [
        "# A01794050 - Moreno Villarreal José Bernardo"
      ],
      "metadata": {
        "id": "Gy2GOTbrOMRZ"
      }
    },
    {
      "cell_type": "markdown",
      "source": [
        "*En cada una de las secciones del curso de IBM agrego un comentario sobre lo aprendido. *"
      ],
      "metadata": {
        "id": "pXP0FzEYQ3ed"
      }
    },
    {
      "cell_type": "markdown",
      "source": [
        "*La primer seccion del curso me mostró comandos básicos de impresión de texto en la pantalla, la asignación de valores a variables y su despliegue, asi como los tipos de datos existentes. \n",
        "\n",
        "Esta parte resulta fundamental ya que el entender el tipo de variable a utilizar no permite razonar y aplicar diferentes operaciones para su procesamiento.*  \n"
      ],
      "metadata": {
        "id": "xOhvkvhpI_SL"
      }
    },
    {
      "cell_type": "markdown",
      "source": [
        "# Module 4 - Working with Data in Course"
      ],
      "metadata": {
        "id": "Q_Dvk8V1okt4"
      }
    },
    {
      "cell_type": "markdown",
      "source": [
        "Se requiere utilizar la funcion \"Open\", asignarla a un objeto tipo archivo. \n",
        "\n",
        "Argumentos: \n",
        "\n",
        "\n",
        "\n",
        "*   Dirección/localización del archivo\n",
        "*   Modo (w--> escribir, r --> leer)\n",
        "\n"
      ],
      "metadata": {
        "id": "FuJXLvWPosrH"
      }
    },
    {
      "cell_type": "markdown",
      "source": [
        "##Module 4: Reading Files with Open "
      ],
      "metadata": {
        "id": "UN6u4pXNoIqf"
      }
    },
    {
      "cell_type": "code",
      "source": [
        "File1=open(\"/content/sample_data/california_housing_train.csv\",\"r\")"
      ],
      "metadata": {
        "id": "TKxRdfu3pSpt"
      },
      "execution_count": null,
      "outputs": []
    },
    {
      "cell_type": "markdown",
      "source": [
        "Obtener el nombre del archivo"
      ],
      "metadata": {
        "id": "SmAFdmlepq9o"
      }
    },
    {
      "cell_type": "code",
      "source": [
        "File1.name\n"
      ],
      "metadata": {
        "colab": {
          "base_uri": "https://localhost:8080/",
          "height": 35
        },
        "id": "xR4jbzL3ptEr",
        "outputId": "0b034957-5dd6-4c59-b7cf-8785061b2970"
      },
      "execution_count": null,
      "outputs": [
        {
          "output_type": "execute_result",
          "data": {
            "text/plain": [
              "'/content/sample_data/california_housing_train.csv'"
            ],
            "application/vnd.google.colaboratory.intrinsic+json": {
              "type": "string"
            }
          },
          "metadata": {},
          "execution_count": 3
        }
      ]
    },
    {
      "cell_type": "markdown",
      "source": [
        "Obtener modo de archivo"
      ],
      "metadata": {
        "id": "YTNQczp4qDfA"
      }
    },
    {
      "cell_type": "code",
      "source": [
        "File1.mode"
      ],
      "metadata": {
        "colab": {
          "base_uri": "https://localhost:8080/",
          "height": 35
        },
        "id": "BRIRPx3yqFH1",
        "outputId": "fd306e75-223e-4e8e-c7a3-0039d94fa2b6"
      },
      "execution_count": null,
      "outputs": [
        {
          "output_type": "execute_result",
          "data": {
            "text/plain": [
              "'r'"
            ],
            "application/vnd.google.colaboratory.intrinsic+json": {
              "type": "string"
            }
          },
          "metadata": {},
          "execution_count": 4
        }
      ]
    },
    {
      "cell_type": "markdown",
      "source": [
        "Cerrar Archivo"
      ],
      "metadata": {
        "id": "CmDOf_tFqJbz"
      }
    },
    {
      "cell_type": "code",
      "source": [
        "File1.close()"
      ],
      "metadata": {
        "colab": {
          "base_uri": "https://localhost:8080/"
        },
        "id": "AOfio5rcqL3W",
        "outputId": "f281c049-3a5b-44e4-d96f-16616b231028"
      },
      "execution_count": null,
      "outputs": [
        {
          "output_type": "execute_result",
          "data": {
            "text/plain": [
              "<function TextIOWrapper.close()>"
            ]
          },
          "metadata": {},
          "execution_count": 5
        }
      ]
    },
    {
      "cell_type": "markdown",
      "source": [
        "El comando with es utilizado para abrir ardchivos porque cierra el archivo automaticamente. "
      ],
      "metadata": {
        "id": "GYW50_A7qJlU"
      }
    },
    {
      "cell_type": "code",
      "source": [
        "with open ('/content/sample_data/mnist_test.csv',\"r\") as File2: \n",
        "  file_stuff=File2.read()\n",
        "print(File2.closed)\n",
        "\n"
      ],
      "metadata": {
        "colab": {
          "base_uri": "https://localhost:8080/"
        },
        "id": "PHyO78ivqhnb",
        "outputId": "9a08d1a8-2f0e-4a94-cc08-0e97a289aa97"
      },
      "execution_count": 1,
      "outputs": [
        {
          "output_type": "stream",
          "name": "stdout",
          "text": [
            "True\n"
          ]
        }
      ]
    },
    {
      "cell_type": "markdown",
      "source": [
        "##Module 4 - reading files lab "
      ],
      "metadata": {
        "id": "05VXXfNqqJxA"
      }
    },
    {
      "cell_type": "markdown",
      "source": [
        "from google.colab import drive"
      ],
      "metadata": {
        "id": "w-abIAiiplu4"
      }
    },
    {
      "cell_type": "code",
      "source": [
        "from google.colab import drive\n",
        "drive.mount('/content/drive')\n",
        "with open (\"/content/ArchivoTXT_Python.txt\",\"r\") as File2: \n",
        "  file_stuff=File2.read()\n",
        "  print(file_stuff)\n",
        "print(File2.closed)\n",
        "\n"
      ],
      "metadata": {
        "id": "d_NzW12GLBxQ",
        "outputId": "14a6b88f-be6d-4ed1-ee9c-e9fef3d2e3eb",
        "colab": {
          "base_uri": "https://localhost:8080/"
        }
      },
      "execution_count": 7,
      "outputs": [
        {
          "output_type": "stream",
          "name": "stdout",
          "text": [
            "Drive already mounted at /content/drive; to attempt to forcibly remount, call drive.mount(\"/content/drive\", force_remount=True).\n",
            "Este es un archivo de prueba\n",
            "para la práctica de ciencia \n",
            "de datos 2022\n",
            "True\n"
          ]
        }
      ]
    },
    {
      "cell_type": "markdown",
      "source": [],
      "metadata": {
        "id": "nq47UqJyojGU"
      }
    },
    {
      "cell_type": "code",
      "source": [
        "# Read the File\n",
        "path=\"/content/ArchivoTXT_Python.txt\"\n",
        "file1 = open(path, \"r\")\n"
      ],
      "metadata": {
        "id": "u0nPAAhoMZZ8"
      },
      "execution_count": 10,
      "outputs": []
    },
    {
      "cell_type": "code",
      "source": [
        "file1.mode"
      ],
      "metadata": {
        "id": "1a7MqdVBMr2a",
        "outputId": "04b34d3f-2d95-4650-86ee-da4429ee54f3",
        "colab": {
          "base_uri": "https://localhost:8080/",
          "height": 35
        }
      },
      "execution_count": 11,
      "outputs": [
        {
          "output_type": "execute_result",
          "data": {
            "text/plain": [
              "'r'"
            ],
            "application/vnd.google.colaboratory.intrinsic+json": {
              "type": "string"
            }
          },
          "metadata": {},
          "execution_count": 11
        }
      ]
    },
    {
      "cell_type": "code",
      "source": [
        "FileContent = file1.read()\n",
        "FileContent"
      ],
      "metadata": {
        "id": "zOnHFjjzMvPv",
        "outputId": "a2be5c00-7f47-4972-9337-7ddc2e97c6a3",
        "colab": {
          "base_uri": "https://localhost:8080/",
          "height": 35
        }
      },
      "execution_count": 12,
      "outputs": [
        {
          "output_type": "execute_result",
          "data": {
            "text/plain": [
              "'Este es un archivo de prueba\\npara la práctica de ciencia \\nde datos 2022'"
            ],
            "application/vnd.google.colaboratory.intrinsic+json": {
              "type": "string"
            }
          },
          "metadata": {},
          "execution_count": 12
        }
      ]
    },
    {
      "cell_type": "code",
      "source": [
        "# Print the file with '\\n' as a new line\n",
        "\n",
        "print(FileContent)"
      ],
      "metadata": {
        "id": "6yYQjyLtM40E",
        "outputId": "e499cb3e-cd28-405b-fa8b-0b229dda82e4",
        "colab": {
          "base_uri": "https://localhost:8080/"
        }
      },
      "execution_count": 13,
      "outputs": [
        {
          "output_type": "stream",
          "name": "stdout",
          "text": [
            "Este es un archivo de prueba\n",
            "para la práctica de ciencia \n",
            "de datos 2022\n"
          ]
        }
      ]
    },
    {
      "cell_type": "code",
      "source": [
        "# Type of file content\n",
        "\n",
        "type(FileContent)"
      ],
      "metadata": {
        "id": "Ph8e2DFbM7vJ",
        "outputId": "12c3c807-d092-4266-ea26-f29a07e7e226",
        "colab": {
          "base_uri": "https://localhost:8080/"
        }
      },
      "execution_count": 14,
      "outputs": [
        {
          "output_type": "execute_result",
          "data": {
            "text/plain": [
              "str"
            ]
          },
          "metadata": {},
          "execution_count": 14
        }
      ]
    },
    {
      "cell_type": "code",
      "source": [
        "# Close file after finish\n",
        "\n",
        "file1.close()"
      ],
      "metadata": {
        "id": "IuJ4PjTfNfvW"
      },
      "execution_count": 15,
      "outputs": []
    },
    {
      "cell_type": "markdown",
      "source": [
        "A Better Way to Open a File"
      ],
      "metadata": {
        "id": "68JURgKENi3C"
      }
    },
    {
      "cell_type": "code",
      "source": [
        "# Open file using with\n",
        "\n",
        "with open(path, \"r\") as file1:\n",
        "    FileContent = file1.read()\n",
        "    print(FileContent)"
      ],
      "metadata": {
        "id": "JwtS423ENitC",
        "outputId": "413e3e58-1d91-4977-bce9-dacbfe597208",
        "colab": {
          "base_uri": "https://localhost:8080/"
        }
      },
      "execution_count": 17,
      "outputs": [
        {
          "output_type": "stream",
          "name": "stdout",
          "text": [
            "Este es un archivo de prueba\n",
            "para la práctica de ciencia \n",
            "de datos 2022\n"
          ]
        }
      ]
    },
    {
      "cell_type": "code",
      "source": [
        "# Verify if the file is closed\n",
        "\n",
        "file1.closed"
      ],
      "metadata": {
        "id": "Bgavsx9ENuU7",
        "outputId": "cec32671-4235-4436-d006-a603aef534e6",
        "colab": {
          "base_uri": "https://localhost:8080/"
        }
      },
      "execution_count": 18,
      "outputs": [
        {
          "output_type": "execute_result",
          "data": {
            "text/plain": [
              "True"
            ]
          },
          "metadata": {},
          "execution_count": 18
        }
      ]
    },
    {
      "cell_type": "code",
      "source": [
        "# See the content of file\n",
        "\n",
        "print(FileContent)"
      ],
      "metadata": {
        "id": "X6uy_D7zNvhI",
        "outputId": "1952b42a-3768-418f-e39b-b63e1ddabc70",
        "colab": {
          "base_uri": "https://localhost:8080/"
        }
      },
      "execution_count": 19,
      "outputs": [
        {
          "output_type": "stream",
          "name": "stdout",
          "text": [
            "Este es un archivo de prueba\n",
            "para la práctica de ciencia \n",
            "de datos 2022\n"
          ]
        }
      ]
    },
    {
      "cell_type": "code",
      "source": [
        "# Read first four characters\n",
        "\n",
        "with open(path, \"r\") as file1:\n",
        "    print(file1.read(4))"
      ],
      "metadata": {
        "id": "1ERfVBeeNzXM",
        "outputId": "0d11eba3-b5ad-46ad-e734-13cd253c83b7",
        "colab": {
          "base_uri": "https://localhost:8080/"
        }
      },
      "execution_count": 21,
      "outputs": [
        {
          "output_type": "stream",
          "name": "stdout",
          "text": [
            "Este\n"
          ]
        }
      ]
    },
    {
      "cell_type": "code",
      "source": [
        "# Read certain amount of characters\n",
        "\n",
        "with open(path, \"r\") as file1:\n",
        "    print(file1.read(5))\n",
        "    print(file1.read(3))\n",
        "    print(file1.read(11))\n",
        "    print(file1.read(14))"
      ],
      "metadata": {
        "id": "ZXAOVMGKN305",
        "outputId": "7e104e22-fa23-43c4-e45a-3e64500b6dcb",
        "colab": {
          "base_uri": "https://localhost:8080/"
        }
      },
      "execution_count": 25,
      "outputs": [
        {
          "output_type": "stream",
          "name": "stdout",
          "text": [
            "Este \n",
            "es \n",
            "un archivo \n",
            "de prueba\n",
            "para\n"
          ]
        }
      ]
    },
    {
      "cell_type": "code",
      "source": [
        "# Read certain amount of characters\n",
        "\n",
        "with open(path, \"r\") as file1:\n",
        "    print(file1.read(11))\n",
        "    print(file1.read(8))\n",
        "    print(file1.read(8))"
      ],
      "metadata": {
        "id": "i3A9wGI2ONBW",
        "outputId": "7f3a3159-309a-41bf-f7b5-24a52b2deaa4",
        "colab": {
          "base_uri": "https://localhost:8080/"
        }
      },
      "execution_count": 30,
      "outputs": [
        {
          "output_type": "stream",
          "name": "stdout",
          "text": [
            "Este es un \n",
            "archivo \n",
            "de prueb\n"
          ]
        }
      ]
    },
    {
      "cell_type": "code",
      "source": [
        "# Read one line\n",
        "\n",
        "with open(path, \"r\") as file1:\n",
        "    print(\"first line: \" + file1.readline())"
      ],
      "metadata": {
        "id": "pYRkOqzkOfOs",
        "outputId": "9edb5199-4a10-4139-ca4c-2c2892fe0a21",
        "colab": {
          "base_uri": "https://localhost:8080/"
        }
      },
      "execution_count": 31,
      "outputs": [
        {
          "output_type": "stream",
          "name": "stdout",
          "text": [
            "first line: Este es un archivo de prueba\n",
            "\n"
          ]
        }
      ]
    },
    {
      "cell_type": "code",
      "source": [
        "with open(path, \"r\") as file1:\n",
        "    print(file1.readline(30)) # does not read past the end of line\n",
        "    print(file1.read(29)) # Returns the next 20 chars"
      ],
      "metadata": {
        "id": "9iH88yiwOlnf",
        "outputId": "23e01cdb-362f-44d0-d7a3-2cbed1ce3d8a",
        "colab": {
          "base_uri": "https://localhost:8080/"
        }
      },
      "execution_count": 35,
      "outputs": [
        {
          "output_type": "stream",
          "name": "stdout",
          "text": [
            "Este es un archivo de prueba\n",
            "\n",
            "para la práctica de ciencia \n",
            "\n"
          ]
        }
      ]
    },
    {
      "cell_type": "code",
      "source": [
        "# Iterate through the lines\n",
        "\n",
        "with open(path,\"r\") as file1:\n",
        "        i = 0;\n",
        "        for line in file1:\n",
        "            print(\"Iteration\", str(i), \": \", line)\n",
        "            i = i + 1"
      ],
      "metadata": {
        "id": "e-LePZnkO9ti",
        "outputId": "29cfc318-c774-4b85-e350-3fecd320b36a",
        "colab": {
          "base_uri": "https://localhost:8080/"
        }
      },
      "execution_count": 37,
      "outputs": [
        {
          "output_type": "stream",
          "name": "stdout",
          "text": [
            "Iteration 0 :  Este es un archivo de prueba\n",
            "\n",
            "Iteration 1 :  para la práctica de ciencia \n",
            "\n",
            "Iteration 2 :  de datos 2022\n"
          ]
        }
      ]
    }
  ]
}