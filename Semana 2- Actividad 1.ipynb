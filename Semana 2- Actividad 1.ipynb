{
  "nbformat": 4,
  "nbformat_minor": 0,
  "metadata": {
    "colab": {
      "provenance": [],
      "collapsed_sections": [
        "ZbmDY6azRujh",
        "s-OFCaUmSXgp",
        "o4K_SwygUgA4",
        "XUisS6dEa6Yu",
        "Rt1m2zTAelkE",
        "R3bwWFTnhrDI",
        "5MiCkGSylWVR",
        "TQ0okLwXnLCb",
        "Ay5l-Tp6unJY",
        "PNsnBcdI2-Z0",
        "hvnh3fxO7406",
        "H2HynCwE_aPL",
        "MpIsSosdNBqB",
        "u6TvB2R6ONfE",
        "78dMldshR78y",
        "gw-Ai3KnEYuM",
        "X8ZT_CtFC_bm",
        "Cl-LeoQ2LstZ",
        "srDetuE0NEzL"
      ],
      "include_colab_link": true
    },
    "kernelspec": {
      "name": "python3",
      "display_name": "Python 3"
    },
    "language_info": {
      "name": "python"
    }
  },
  "cells": [
    {
      "cell_type": "markdown",
      "metadata": {
        "id": "view-in-github",
        "colab_type": "text"
      },
      "source": [
        "<a href=\"https://colab.research.google.com/github/PosgradoMNA/actividades-de-aprendizaje-Jose-Bernardo-Moreno-Villarreal/blob/main/Semana%202-%20Actividad%201.ipynb\" target=\"_parent\"><img src=\"https://colab.research.google.com/assets/colab-badge.svg\" alt=\"Open In Colab\"/></a>"
      ]
    },
    {
      "cell_type": "markdown",
      "source": [
        "# A01794050 - Moreno Villarreal José Bernardo"
      ],
      "metadata": {
        "id": "Gy2GOTbrOMRZ"
      }
    },
    {
      "cell_type": "markdown",
      "source": [
        "*En cada una de las secciones del curso de IBM agrego un comentario sobre lo aprendido. *"
      ],
      "metadata": {
        "id": "pXP0FzEYQ3ed"
      }
    },
    {
      "cell_type": "markdown",
      "source": [
        "*En el módulo 4 se observa cómo abrir y cerrar archivos, obtener información escrita en el archivo o bien procesar información y guardarla en un archivo.*\n",
        "  \n"
      ],
      "metadata": {
        "id": "xOhvkvhpI_SL"
      }
    },
    {
      "cell_type": "markdown",
      "source": [
        "*Se utiliza el comando with y los atributos de: *\n",
        "\n",
        "\n",
        "\n",
        "*   r ---> leer el archivo\n",
        "*   w ---> sobreescribe el archivo \n",
        "*   a ---> añade contenido al archivo\n",
        "\n",
        "\n"
      ],
      "metadata": {
        "id": "ue5T3HIhFbB0"
      }
    },
    {
      "cell_type": "markdown",
      "source": [
        "# Module 4 - Working with Data in Course"
      ],
      "metadata": {
        "id": "Q_Dvk8V1okt4"
      }
    },
    {
      "cell_type": "markdown",
      "source": [
        "Se requiere utilizar la funcion \"Open\", asignarla a un objeto tipo archivo. \n",
        "\n",
        "Argumentos: \n",
        "\n",
        "\n",
        "\n",
        "*   Dirección/localización del archivo\n",
        "*   Modo (w--> escribir, r --> leer)\n",
        "\n"
      ],
      "metadata": {
        "id": "FuJXLvWPosrH"
      }
    },
    {
      "cell_type": "markdown",
      "source": [
        "##Module 4: Reading Files with Open "
      ],
      "metadata": {
        "id": "UN6u4pXNoIqf"
      }
    },
    {
      "cell_type": "code",
      "source": [
        "File1=open(\"/content/sample_data/california_housing_train.csv\",\"r\")"
      ],
      "metadata": {
        "id": "TKxRdfu3pSpt"
      },
      "execution_count": null,
      "outputs": []
    },
    {
      "cell_type": "markdown",
      "source": [
        "Obtener el nombre del archivo"
      ],
      "metadata": {
        "id": "SmAFdmlepq9o"
      }
    },
    {
      "cell_type": "code",
      "source": [
        "File1.name\n"
      ],
      "metadata": {
        "colab": {
          "base_uri": "https://localhost:8080/",
          "height": 35
        },
        "id": "xR4jbzL3ptEr",
        "outputId": "0b034957-5dd6-4c59-b7cf-8785061b2970"
      },
      "execution_count": null,
      "outputs": [
        {
          "output_type": "execute_result",
          "data": {
            "text/plain": [
              "'/content/sample_data/california_housing_train.csv'"
            ],
            "application/vnd.google.colaboratory.intrinsic+json": {
              "type": "string"
            }
          },
          "metadata": {},
          "execution_count": 3
        }
      ]
    },
    {
      "cell_type": "markdown",
      "source": [
        "Obtener modo de archivo"
      ],
      "metadata": {
        "id": "YTNQczp4qDfA"
      }
    },
    {
      "cell_type": "code",
      "source": [
        "File1.mode"
      ],
      "metadata": {
        "colab": {
          "base_uri": "https://localhost:8080/",
          "height": 35
        },
        "id": "BRIRPx3yqFH1",
        "outputId": "fd306e75-223e-4e8e-c7a3-0039d94fa2b6"
      },
      "execution_count": null,
      "outputs": [
        {
          "output_type": "execute_result",
          "data": {
            "text/plain": [
              "'r'"
            ],
            "application/vnd.google.colaboratory.intrinsic+json": {
              "type": "string"
            }
          },
          "metadata": {},
          "execution_count": 4
        }
      ]
    },
    {
      "cell_type": "markdown",
      "source": [
        "Cerrar Archivo"
      ],
      "metadata": {
        "id": "CmDOf_tFqJbz"
      }
    },
    {
      "cell_type": "code",
      "source": [
        "File1.close()"
      ],
      "metadata": {
        "colab": {
          "base_uri": "https://localhost:8080/"
        },
        "id": "AOfio5rcqL3W",
        "outputId": "f281c049-3a5b-44e4-d96f-16616b231028"
      },
      "execution_count": null,
      "outputs": [
        {
          "output_type": "execute_result",
          "data": {
            "text/plain": [
              "<function TextIOWrapper.close()>"
            ]
          },
          "metadata": {},
          "execution_count": 5
        }
      ]
    },
    {
      "cell_type": "markdown",
      "source": [
        "El comando with es utilizado para abrir ardchivos porque cierra el archivo automaticamente. "
      ],
      "metadata": {
        "id": "GYW50_A7qJlU"
      }
    },
    {
      "cell_type": "code",
      "source": [
        "with open ('/content/sample_data/mnist_test.csv',\"r\") as File2: \n",
        "  file_stuff=File2.read()\n",
        "print(File2.closed)\n",
        "\n"
      ],
      "metadata": {
        "colab": {
          "base_uri": "https://localhost:8080/"
        },
        "id": "PHyO78ivqhnb",
        "outputId": "9a08d1a8-2f0e-4a94-cc08-0e97a289aa97"
      },
      "execution_count": 1,
      "outputs": [
        {
          "output_type": "stream",
          "name": "stdout",
          "text": [
            "True\n"
          ]
        }
      ]
    },
    {
      "cell_type": "markdown",
      "source": [
        "##Module 4 - reading files lab "
      ],
      "metadata": {
        "id": "05VXXfNqqJxA"
      }
    },
    {
      "cell_type": "markdown",
      "source": [
        "Para este ejercicio se trabaja con un archivo cargado a la carpeta de content en Colab. \n"
      ],
      "metadata": {
        "id": "w-abIAiiplu4"
      }
    },
    {
      "cell_type": "code",
      "source": [
        "from google.colab import drive\n",
        "drive.mount('/content/drive')\n",
        "with open (\"/content/ArchivoTXT_Python.txt\",\"r\") as File2: \n",
        "  file_stuff=File2.read()\n",
        "  print(file_stuff)\n",
        "print(File2.closed)\n",
        "\n"
      ],
      "metadata": {
        "colab": {
          "base_uri": "https://localhost:8080/"
        },
        "id": "d_NzW12GLBxQ",
        "outputId": "14a6b88f-be6d-4ed1-ee9c-e9fef3d2e3eb"
      },
      "execution_count": 7,
      "outputs": [
        {
          "output_type": "stream",
          "name": "stdout",
          "text": [
            "Drive already mounted at /content/drive; to attempt to forcibly remount, call drive.mount(\"/content/drive\", force_remount=True).\n",
            "Este es un archivo de prueba\n",
            "para la práctica de ciencia \n",
            "de datos 2022\n",
            "True\n"
          ]
        }
      ]
    },
    {
      "cell_type": "markdown",
      "source": [],
      "metadata": {
        "id": "nq47UqJyojGU"
      }
    },
    {
      "cell_type": "code",
      "source": [
        "# Read the File\n",
        "path=\"/content/ArchivoTXT_Python.txt\"\n",
        "file1 = open(path, \"r\")\n"
      ],
      "metadata": {
        "id": "u0nPAAhoMZZ8"
      },
      "execution_count": 10,
      "outputs": []
    },
    {
      "cell_type": "code",
      "source": [
        "file1.mode"
      ],
      "metadata": {
        "colab": {
          "base_uri": "https://localhost:8080/",
          "height": 35
        },
        "id": "1a7MqdVBMr2a",
        "outputId": "04b34d3f-2d95-4650-86ee-da4429ee54f3"
      },
      "execution_count": 11,
      "outputs": [
        {
          "output_type": "execute_result",
          "data": {
            "text/plain": [
              "'r'"
            ],
            "application/vnd.google.colaboratory.intrinsic+json": {
              "type": "string"
            }
          },
          "metadata": {},
          "execution_count": 11
        }
      ]
    },
    {
      "cell_type": "code",
      "source": [
        "FileContent = file1.read()\n",
        "FileContent"
      ],
      "metadata": {
        "colab": {
          "base_uri": "https://localhost:8080/",
          "height": 35
        },
        "id": "zOnHFjjzMvPv",
        "outputId": "a2be5c00-7f47-4972-9337-7ddc2e97c6a3"
      },
      "execution_count": 12,
      "outputs": [
        {
          "output_type": "execute_result",
          "data": {
            "text/plain": [
              "'Este es un archivo de prueba\\npara la práctica de ciencia \\nde datos 2022'"
            ],
            "application/vnd.google.colaboratory.intrinsic+json": {
              "type": "string"
            }
          },
          "metadata": {},
          "execution_count": 12
        }
      ]
    },
    {
      "cell_type": "code",
      "source": [
        "# Print the file with '\\n' as a new line\n",
        "\n",
        "print(FileContent)"
      ],
      "metadata": {
        "colab": {
          "base_uri": "https://localhost:8080/"
        },
        "id": "6yYQjyLtM40E",
        "outputId": "e499cb3e-cd28-405b-fa8b-0b229dda82e4"
      },
      "execution_count": 13,
      "outputs": [
        {
          "output_type": "stream",
          "name": "stdout",
          "text": [
            "Este es un archivo de prueba\n",
            "para la práctica de ciencia \n",
            "de datos 2022\n"
          ]
        }
      ]
    },
    {
      "cell_type": "code",
      "source": [
        "# Type of file content\n",
        "\n",
        "type(FileContent)"
      ],
      "metadata": {
        "colab": {
          "base_uri": "https://localhost:8080/"
        },
        "id": "Ph8e2DFbM7vJ",
        "outputId": "12c3c807-d092-4266-ea26-f29a07e7e226"
      },
      "execution_count": 14,
      "outputs": [
        {
          "output_type": "execute_result",
          "data": {
            "text/plain": [
              "str"
            ]
          },
          "metadata": {},
          "execution_count": 14
        }
      ]
    },
    {
      "cell_type": "code",
      "source": [
        "# Close file after finish\n",
        "\n",
        "file1.close()"
      ],
      "metadata": {
        "id": "IuJ4PjTfNfvW"
      },
      "execution_count": 15,
      "outputs": []
    },
    {
      "cell_type": "markdown",
      "source": [
        "A Better Way to Open a File"
      ],
      "metadata": {
        "id": "68JURgKENi3C"
      }
    },
    {
      "cell_type": "code",
      "source": [
        "# Open file using with\n",
        "\n",
        "with open(path, \"r\") as file1:\n",
        "    FileContent = file1.read()\n",
        "    print(FileContent)"
      ],
      "metadata": {
        "colab": {
          "base_uri": "https://localhost:8080/"
        },
        "id": "JwtS423ENitC",
        "outputId": "413e3e58-1d91-4977-bce9-dacbfe597208"
      },
      "execution_count": 17,
      "outputs": [
        {
          "output_type": "stream",
          "name": "stdout",
          "text": [
            "Este es un archivo de prueba\n",
            "para la práctica de ciencia \n",
            "de datos 2022\n"
          ]
        }
      ]
    },
    {
      "cell_type": "code",
      "source": [
        "# Verify if the file is closed\n",
        "\n",
        "file1.closed"
      ],
      "metadata": {
        "colab": {
          "base_uri": "https://localhost:8080/"
        },
        "id": "Bgavsx9ENuU7",
        "outputId": "cec32671-4235-4436-d006-a603aef534e6"
      },
      "execution_count": 18,
      "outputs": [
        {
          "output_type": "execute_result",
          "data": {
            "text/plain": [
              "True"
            ]
          },
          "metadata": {},
          "execution_count": 18
        }
      ]
    },
    {
      "cell_type": "code",
      "source": [
        "# See the content of file\n",
        "\n",
        "print(FileContent)"
      ],
      "metadata": {
        "colab": {
          "base_uri": "https://localhost:8080/"
        },
        "id": "X6uy_D7zNvhI",
        "outputId": "1952b42a-3768-418f-e39b-b63e1ddabc70"
      },
      "execution_count": 19,
      "outputs": [
        {
          "output_type": "stream",
          "name": "stdout",
          "text": [
            "Este es un archivo de prueba\n",
            "para la práctica de ciencia \n",
            "de datos 2022\n"
          ]
        }
      ]
    },
    {
      "cell_type": "code",
      "source": [
        "# Read first four characters\n",
        "\n",
        "with open(path, \"r\") as file1:\n",
        "    print(file1.read(4))"
      ],
      "metadata": {
        "colab": {
          "base_uri": "https://localhost:8080/"
        },
        "id": "1ERfVBeeNzXM",
        "outputId": "0d11eba3-b5ad-46ad-e734-13cd253c83b7"
      },
      "execution_count": 21,
      "outputs": [
        {
          "output_type": "stream",
          "name": "stdout",
          "text": [
            "Este\n"
          ]
        }
      ]
    },
    {
      "cell_type": "code",
      "source": [
        "# Read certain amount of characters\n",
        "\n",
        "with open(path, \"r\") as file1:\n",
        "    print(file1.read(5))\n",
        "    print(file1.read(3))\n",
        "    print(file1.read(11))\n",
        "    print(file1.read(14))"
      ],
      "metadata": {
        "colab": {
          "base_uri": "https://localhost:8080/"
        },
        "id": "ZXAOVMGKN305",
        "outputId": "7e104e22-fa23-43c4-e45a-3e64500b6dcb"
      },
      "execution_count": 25,
      "outputs": [
        {
          "output_type": "stream",
          "name": "stdout",
          "text": [
            "Este \n",
            "es \n",
            "un archivo \n",
            "de prueba\n",
            "para\n"
          ]
        }
      ]
    },
    {
      "cell_type": "code",
      "source": [
        "# Read certain amount of characters\n",
        "\n",
        "with open(path, \"r\") as file1:\n",
        "    print(file1.read(11))\n",
        "    print(file1.read(8))\n",
        "    print(file1.read(8))"
      ],
      "metadata": {
        "colab": {
          "base_uri": "https://localhost:8080/"
        },
        "id": "i3A9wGI2ONBW",
        "outputId": "7f3a3159-309a-41bf-f7b5-24a52b2deaa4"
      },
      "execution_count": 30,
      "outputs": [
        {
          "output_type": "stream",
          "name": "stdout",
          "text": [
            "Este es un \n",
            "archivo \n",
            "de prueb\n"
          ]
        }
      ]
    },
    {
      "cell_type": "code",
      "source": [
        "# Read one line\n",
        "\n",
        "with open(path, \"r\") as file1:\n",
        "    print(\"first line: \" + file1.readline())"
      ],
      "metadata": {
        "colab": {
          "base_uri": "https://localhost:8080/"
        },
        "id": "pYRkOqzkOfOs",
        "outputId": "9edb5199-4a10-4139-ca4c-2c2892fe0a21"
      },
      "execution_count": 31,
      "outputs": [
        {
          "output_type": "stream",
          "name": "stdout",
          "text": [
            "first line: Este es un archivo de prueba\n",
            "\n"
          ]
        }
      ]
    },
    {
      "cell_type": "code",
      "source": [
        "with open(path, \"r\") as file1:\n",
        "    print(file1.readline(30)) # does not read past the end of line\n",
        "    print(file1.read(29)) # Returns the next 20 chars"
      ],
      "metadata": {
        "colab": {
          "base_uri": "https://localhost:8080/"
        },
        "id": "9iH88yiwOlnf",
        "outputId": "23e01cdb-362f-44d0-d7a3-2cbed1ce3d8a"
      },
      "execution_count": 35,
      "outputs": [
        {
          "output_type": "stream",
          "name": "stdout",
          "text": [
            "Este es un archivo de prueba\n",
            "\n",
            "para la práctica de ciencia \n",
            "\n"
          ]
        }
      ]
    },
    {
      "cell_type": "code",
      "source": [
        "# Iterate through the lines\n",
        "\n",
        "with open(path,\"r\") as file1:\n",
        "        i = 0;\n",
        "        for line in file1:\n",
        "            print(\"Iteration\", str(i), \": \", line)\n",
        "            i = i + 1"
      ],
      "metadata": {
        "colab": {
          "base_uri": "https://localhost:8080/"
        },
        "id": "e-LePZnkO9ti",
        "outputId": "29cfc318-c774-4b85-e350-3fecd320b36a"
      },
      "execution_count": 37,
      "outputs": [
        {
          "output_type": "stream",
          "name": "stdout",
          "text": [
            "Iteration 0 :  Este es un archivo de prueba\n",
            "\n",
            "Iteration 1 :  para la práctica de ciencia \n",
            "\n",
            "Iteration 2 :  de datos 2022\n"
          ]
        }
      ]
    },
    {
      "cell_type": "code",
      "source": [
        "# Read all lines and save as a list\n",
        "\n",
        "with open(path, \"r\") as file1:\n",
        "    FileasList = file1.readlines()"
      ],
      "metadata": {
        "id": "On6mQDLJPaya"
      },
      "execution_count": 39,
      "outputs": []
    },
    {
      "cell_type": "code",
      "source": [
        "# Print the first line\n",
        "\n",
        "FileasList[0]"
      ],
      "metadata": {
        "id": "oMYuef9FPgH0",
        "outputId": "3a3669f4-e806-413d-83b5-b613c13c8f1e",
        "colab": {
          "base_uri": "https://localhost:8080/",
          "height": 35
        }
      },
      "execution_count": 40,
      "outputs": [
        {
          "output_type": "execute_result",
          "data": {
            "text/plain": [
              "'Este es un archivo de prueba\\n'"
            ],
            "application/vnd.google.colaboratory.intrinsic+json": {
              "type": "string"
            }
          },
          "metadata": {},
          "execution_count": 40
        }
      ]
    },
    {
      "cell_type": "code",
      "source": [
        "# Print the third line\n",
        "\n",
        "FileasList[1]"
      ],
      "metadata": {
        "id": "ptdStdYgPinT",
        "outputId": "2686b3ff-68c5-4a8e-8d1e-91a715ad7270",
        "colab": {
          "base_uri": "https://localhost:8080/",
          "height": 35
        }
      },
      "execution_count": 44,
      "outputs": [
        {
          "output_type": "execute_result",
          "data": {
            "text/plain": [
              "'para la práctica de ciencia \\n'"
            ],
            "application/vnd.google.colaboratory.intrinsic+json": {
              "type": "string"
            }
          },
          "metadata": {},
          "execution_count": 44
        }
      ]
    },
    {
      "cell_type": "markdown",
      "source": [
        "## Module 4:  Writing Files with Open"
      ],
      "metadata": {
        "id": "lIqZhgT5P5ur"
      }
    },
    {
      "cell_type": "code",
      "source": [
        "Lines=[\"Este es un ejemplo\\n\", \"de escritura\\n\", \"para mi clase\\n\"]\n",
        "with open (\"/content/ArchivoTXT_Python2.txt\",\"w\") as WriteFile:\n",
        " for line in Lines:\n",
        "  WriteFile.write(line)"
      ],
      "metadata": {
        "id": "Q6hG55-r5Bi_"
      },
      "execution_count": 5,
      "outputs": []
    },
    {
      "cell_type": "code",
      "source": [
        "with open (\"/content/ArchivoTXT_Python2.txt\",\"a\") as WriteFile:\n",
        " WriteFile.write(\"de Ciencia de Datos\")"
      ],
      "metadata": {
        "id": "Fp6QNHK68o9-"
      },
      "execution_count": 6,
      "outputs": []
    },
    {
      "cell_type": "markdown",
      "source": [
        "##Module 4: Lab - Writing Files"
      ],
      "metadata": {
        "id": "UlR5mypcl2Bt"
      }
    },
    {
      "cell_type": "code",
      "source": [
        "exmp2 = '/content/Example2.txt'\n",
        "with open(exmp2, 'w') as writefile:\n",
        "    writefile.write(\"This is line A\")"
      ],
      "metadata": {
        "id": "5joitZc4mAZk"
      },
      "execution_count": 9,
      "outputs": []
    },
    {
      "cell_type": "code",
      "source": [
        "\n",
        "with open(exmp2, 'r') as testwritefile:\n",
        "    print(testwritefile.read())"
      ],
      "metadata": {
        "id": "FgjTvzMVDDol",
        "outputId": "3f1f337b-68a0-4354-bcf8-f962fc5e5415",
        "colab": {
          "base_uri": "https://localhost:8080/"
        }
      },
      "execution_count": 10,
      "outputs": [
        {
          "output_type": "stream",
          "name": "stdout",
          "text": [
            "This is line A\n"
          ]
        }
      ]
    },
    {
      "cell_type": "code",
      "source": [
        "with open(exmp2, 'w') as writefile:\n",
        "    writefile.write(\"This is line A\\n\")\n",
        "    writefile.write(\"This is line B\\n\")"
      ],
      "metadata": {
        "id": "mxzbe8edDF9C"
      },
      "execution_count": 11,
      "outputs": []
    },
    {
      "cell_type": "code",
      "source": [
        "with open(exmp2, 'r') as testwritefile:\n",
        "    print(testwritefile.read())"
      ],
      "metadata": {
        "id": "MBV2kwcTDH-_",
        "outputId": "bd3b1674-e9cd-49be-9137-c5937ab3647b",
        "colab": {
          "base_uri": "https://localhost:8080/"
        }
      },
      "execution_count": 12,
      "outputs": [
        {
          "output_type": "stream",
          "name": "stdout",
          "text": [
            "This is line A\n",
            "This is line B\n",
            "\n"
          ]
        }
      ]
    },
    {
      "cell_type": "code",
      "source": [
        "\n",
        "Lines = [\"This is line A\\n\", \"This is line B\\n\", \"This is line C\\n\"]\n",
        "Lines"
      ],
      "metadata": {
        "id": "4IANFwt0DMeD",
        "outputId": "72f0d3f8-2a89-4964-efe3-374dccbdc43a",
        "colab": {
          "base_uri": "https://localhost:8080/"
        }
      },
      "execution_count": 13,
      "outputs": [
        {
          "output_type": "execute_result",
          "data": {
            "text/plain": [
              "['This is line A\\n', 'This is line B\\n', 'This is line C\\n']"
            ]
          },
          "metadata": {},
          "execution_count": 13
        }
      ]
    },
    {
      "cell_type": "code",
      "source": [
        "with open('Example2.txt', 'w') as writefile:\n",
        "    for line in Lines:\n",
        "        print(line)\n",
        "        writefile.write(line)"
      ],
      "metadata": {
        "id": "j_x9zkOnDOir",
        "outputId": "5b660d85-02a2-4022-c731-25280f33cbb8",
        "colab": {
          "base_uri": "https://localhost:8080/"
        }
      },
      "execution_count": 15,
      "outputs": [
        {
          "output_type": "stream",
          "name": "stdout",
          "text": [
            "This is line A\n",
            "\n",
            "This is line B\n",
            "\n",
            "This is line C\n",
            "\n"
          ]
        }
      ]
    },
    {
      "cell_type": "code",
      "source": [
        "\n",
        "with open('Example2.txt', 'r') as testwritefile:\n",
        "    print(testwritefile.read())"
      ],
      "metadata": {
        "id": "vmqfyTArDTmJ",
        "outputId": "2e041fc2-c42b-4b85-e90a-5ed9fa6c42c1",
        "colab": {
          "base_uri": "https://localhost:8080/"
        }
      },
      "execution_count": 16,
      "outputs": [
        {
          "output_type": "stream",
          "name": "stdout",
          "text": [
            "This is line A\n",
            "This is line B\n",
            "This is line C\n",
            "\n"
          ]
        }
      ]
    },
    {
      "cell_type": "code",
      "source": [
        "with open('Example2.txt', 'w') as writefile:\n",
        "    writefile.write(\"Overwrite\\n\")\n",
        "with open('Example2.txt', 'r') as testwritefile:\n",
        "    print(testwritefile.read())"
      ],
      "metadata": {
        "id": "3IH4wndyDbl8",
        "outputId": "0cfa2715-6de7-483f-e72c-b5a508a4aa79",
        "colab": {
          "base_uri": "https://localhost:8080/"
        }
      },
      "execution_count": 17,
      "outputs": [
        {
          "output_type": "stream",
          "name": "stdout",
          "text": [
            "Overwrite\n",
            "\n"
          ]
        }
      ]
    },
    {
      "cell_type": "code",
      "source": [
        "with open('Example2.txt', 'a') as testwritefile:\n",
        "    testwritefile.write(\"This is line C\\n\")\n",
        "    testwritefile.write(\"This is line D\\n\")\n",
        "    testwritefile.write(\"This is line E\\n\")"
      ],
      "metadata": {
        "id": "shr9ZGElDi_j"
      },
      "execution_count": 18,
      "outputs": []
    },
    {
      "cell_type": "markdown",
      "source": [
        "## Module 4: Loading Data with Pandas"
      ],
      "metadata": {
        "id": "iLIe0P3YmINW"
      }
    },
    {
      "cell_type": "code",
      "source": [],
      "metadata": {
        "id": "3BpiITNMXL7P"
      },
      "execution_count": null,
      "outputs": []
    }
  ]
}