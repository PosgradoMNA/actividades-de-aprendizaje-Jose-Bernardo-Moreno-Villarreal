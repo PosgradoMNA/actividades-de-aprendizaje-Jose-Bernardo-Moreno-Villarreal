{
  "nbformat": 4,
  "nbformat_minor": 0,
  "metadata": {
    "colab": {
      "provenance": [],
      "collapsed_sections": [
        "ZbmDY6azRujh",
        "s-OFCaUmSXgp",
        "o4K_SwygUgA4",
        "XUisS6dEa6Yu",
        "Rt1m2zTAelkE",
        "R3bwWFTnhrDI",
        "5MiCkGSylWVR",
        "TQ0okLwXnLCb",
        "Ay5l-Tp6unJY",
        "PNsnBcdI2-Z0",
        "hvnh3fxO7406",
        "H2HynCwE_aPL",
        "MpIsSosdNBqB",
        "u6TvB2R6ONfE",
        "78dMldshR78y",
        "gw-Ai3KnEYuM",
        "X8ZT_CtFC_bm",
        "Cl-LeoQ2LstZ",
        "srDetuE0NEzL"
      ],
      "include_colab_link": true
    },
    "kernelspec": {
      "name": "python3",
      "display_name": "Python 3"
    },
    "language_info": {
      "name": "python"
    }
  },
  "cells": [
    {
      "cell_type": "markdown",
      "metadata": {
        "id": "view-in-github",
        "colab_type": "text"
      },
      "source": [
        "<a href=\"https://colab.research.google.com/github/PosgradoMNA/actividades-de-aprendizaje-Jose-Bernardo-Moreno-Villarreal/blob/main/Semana_7_IBM.ipynb\" target=\"_parent\"><img src=\"https://colab.research.google.com/assets/colab-badge.svg\" alt=\"Open In Colab\"/></a>"
      ]
    },
    {
      "cell_type": "markdown",
      "source": [
        "# A01794050 - Moreno Villarreal José Bernardo"
      ],
      "metadata": {
        "id": "Gy2GOTbrOMRZ"
      }
    },
    {
      "cell_type": "markdown",
      "source": [
        "*En cada una de las secciones del curso de IBM agrego un comentario sobre lo aprendido. *"
      ],
      "metadata": {
        "id": "pXP0FzEYQ3ed"
      }
    },
    {
      "cell_type": "markdown",
      "source": [
        "*En el módulo 4 de Análisis con Phyton se muestran modelos de regresión lineal y múltiple, se observa cómo realizar la evaluación y visualización de los modelos y se nos explican métricas de evaluación como R-cuadrada y MSE*\n",
        "\n"
      ],
      "metadata": {
        "id": "xOhvkvhpI_SL"
      }
    },
    {
      "cell_type": "markdown",
      "source": [
        "#Módulo 4.- Model Development\n",
        "\n"
      ],
      "metadata": {
        "id": "og8DUTlSkKoi"
      }
    },
    {
      "cell_type": "markdown",
      "source": [
        "* Un modelo es una ecuación matemática utilizada para predecir un valor a partir de otros valores de entrada. \n",
        "* En tanto se tengan datos más relevantes, se tendra un modelo más exacto. "
      ],
      "metadata": {
        "id": "L6kCVfSTdPGz"
      }
    },
    {
      "cell_type": "markdown",
      "source": [
        "#Módulo 4 .- Linear and Multiple Linear Regression"
      ],
      "metadata": {
        "id": "Oo-SKIoCdv1f"
      }
    },
    {
      "cell_type": "markdown",
      "source": [
        "* Regresión lineal --> Una variable independiente para realizar una predicción. \n",
        "* Regresión Múltiple --> múltiples variables independientes para realizar una predicción \n",
        "* Predictor --> x\n",
        "* Objetivo --> y \n",
        "* Interceptor = b0 \n",
        "* Coeficientes = b1, b2,...,bn\n"
      ],
      "metadata": {
        "id": "rRWqu5Ddd0gF"
      }
    },
    {
      "cell_type": "markdown",
      "source": [
        "#Módulo 4.- Model Evaluation using Visualization "
      ],
      "metadata": {
        "id": "ot5ZdI9bfzij"
      }
    },
    {
      "cell_type": "markdown",
      "source": [
        "* Se utiliza regression plot para estimar la relación entre dos variables, la fuerza de correlación y verificar si la correlación es positiva o negativa. \n",
        "* X --> Variable independiente \n",
        "* Y --> Variable dependiente. \n",
        "* Se utiliza la librería Seaborn\n",
        "* Residual plot- Se espera que los datos tengan media = 0, se encuentren distribuidos a lo largo del eje  con varianza similar, es decir sin curvatura. \n"
      ],
      "metadata": {
        "id": "ZNusLDRKgBl6"
      }
    },
    {
      "cell_type": "markdown",
      "source": [
        "#Módulo 4.- Polynomial Regression and Pipelines"
      ],
      "metadata": {
        "id": "LX9wqDhZhilI"
      }
    },
    {
      "cell_type": "markdown",
      "source": [
        "* La regresión polinomial es util en relaciones curvilineas. \n",
        "* Puede tener un mejor fit \n",
        "* Pipeline realiza series de transformación de manera secuencial. "
      ],
      "metadata": {
        "id": "E2PEo6TMhp7n"
      }
    },
    {
      "cell_type": "markdown",
      "source": [
        "#Módulo 4 .- Measures for In - Sample Evaluation "
      ],
      "metadata": {
        "id": "TwaPuycQi97V"
      }
    },
    {
      "cell_type": "markdown",
      "source": [
        "* Mediciones que nos ayudan a determinar de manera numérica qué tan bien nuestro modelo está entrenado. \n",
        "  - MSE \n",
        "  - R-cuadrada. "
      ],
      "metadata": {
        "id": "my1kPmNhjOl_"
      }
    },
    {
      "cell_type": "markdown",
      "source": [
        "#Módulo 4 .- LAB"
      ],
      "metadata": {
        "id": "vZxBcMsEkzdJ"
      }
    },
    {
      "cell_type": "code",
      "source": [
        "import pandas as pd\n",
        "import numpy as np\n",
        "import matplotlib.pyplot as plt\n",
        "from sklearn.linear_model import LinearRegression\n",
        "import seaborn as sns"
      ],
      "metadata": {
        "id": "M6xp0RO7k23t"
      },
      "execution_count": 24,
      "outputs": []
    },
    {
      "cell_type": "code",
      "source": [
        "path = 'https://cf-courses-data.s3.us.cloud-object-storage.appdomain.cloud/IBMDeveloperSkillsNetwork-DA0101EN-SkillsNetwork/labs/Data%20files/automobileEDA.csv'"
      ],
      "metadata": {
        "id": "2ATz74Vok9ie"
      },
      "execution_count": 2,
      "outputs": []
    },
    {
      "cell_type": "code",
      "source": [
        "df = pd.read_csv(path)\n",
        "df.head()"
      ],
      "metadata": {
        "colab": {
          "base_uri": "https://localhost:8080/",
          "height": 386
        },
        "id": "7eGm0YYdk-Xz",
        "outputId": "4d4e9bc6-1ffe-4ad8-97f1-c046bf29ad89"
      },
      "execution_count": 3,
      "outputs": [
        {
          "output_type": "execute_result",
          "data": {
            "text/plain": [
              "   symboling  normalized-losses         make aspiration num-of-doors  \\\n",
              "0          3                122  alfa-romero        std          two   \n",
              "1          3                122  alfa-romero        std          two   \n",
              "2          1                122  alfa-romero        std          two   \n",
              "3          2                164         audi        std         four   \n",
              "4          2                164         audi        std         four   \n",
              "\n",
              "    body-style drive-wheels engine-location  wheel-base    length  ...  \\\n",
              "0  convertible          rwd           front        88.6  0.811148  ...   \n",
              "1  convertible          rwd           front        88.6  0.811148  ...   \n",
              "2    hatchback          rwd           front        94.5  0.822681  ...   \n",
              "3        sedan          fwd           front        99.8  0.848630  ...   \n",
              "4        sedan          4wd           front        99.4  0.848630  ...   \n",
              "\n",
              "   compression-ratio  horsepower  peak-rpm city-mpg highway-mpg    price  \\\n",
              "0                9.0       111.0    5000.0       21          27  13495.0   \n",
              "1                9.0       111.0    5000.0       21          27  16500.0   \n",
              "2                9.0       154.0    5000.0       19          26  16500.0   \n",
              "3               10.0       102.0    5500.0       24          30  13950.0   \n",
              "4                8.0       115.0    5500.0       18          22  17450.0   \n",
              "\n",
              "  city-L/100km  horsepower-binned  diesel  gas  \n",
              "0    11.190476             Medium       0    1  \n",
              "1    11.190476             Medium       0    1  \n",
              "2    12.368421             Medium       0    1  \n",
              "3     9.791667             Medium       0    1  \n",
              "4    13.055556             Medium       0    1  \n",
              "\n",
              "[5 rows x 29 columns]"
            ],
            "text/html": [
              "\n",
              "  <div id=\"df-95ea487a-30eb-4b73-a264-7c3dbf2946d9\">\n",
              "    <div class=\"colab-df-container\">\n",
              "      <div>\n",
              "<style scoped>\n",
              "    .dataframe tbody tr th:only-of-type {\n",
              "        vertical-align: middle;\n",
              "    }\n",
              "\n",
              "    .dataframe tbody tr th {\n",
              "        vertical-align: top;\n",
              "    }\n",
              "\n",
              "    .dataframe thead th {\n",
              "        text-align: right;\n",
              "    }\n",
              "</style>\n",
              "<table border=\"1\" class=\"dataframe\">\n",
              "  <thead>\n",
              "    <tr style=\"text-align: right;\">\n",
              "      <th></th>\n",
              "      <th>symboling</th>\n",
              "      <th>normalized-losses</th>\n",
              "      <th>make</th>\n",
              "      <th>aspiration</th>\n",
              "      <th>num-of-doors</th>\n",
              "      <th>body-style</th>\n",
              "      <th>drive-wheels</th>\n",
              "      <th>engine-location</th>\n",
              "      <th>wheel-base</th>\n",
              "      <th>length</th>\n",
              "      <th>...</th>\n",
              "      <th>compression-ratio</th>\n",
              "      <th>horsepower</th>\n",
              "      <th>peak-rpm</th>\n",
              "      <th>city-mpg</th>\n",
              "      <th>highway-mpg</th>\n",
              "      <th>price</th>\n",
              "      <th>city-L/100km</th>\n",
              "      <th>horsepower-binned</th>\n",
              "      <th>diesel</th>\n",
              "      <th>gas</th>\n",
              "    </tr>\n",
              "  </thead>\n",
              "  <tbody>\n",
              "    <tr>\n",
              "      <th>0</th>\n",
              "      <td>3</td>\n",
              "      <td>122</td>\n",
              "      <td>alfa-romero</td>\n",
              "      <td>std</td>\n",
              "      <td>two</td>\n",
              "      <td>convertible</td>\n",
              "      <td>rwd</td>\n",
              "      <td>front</td>\n",
              "      <td>88.6</td>\n",
              "      <td>0.811148</td>\n",
              "      <td>...</td>\n",
              "      <td>9.0</td>\n",
              "      <td>111.0</td>\n",
              "      <td>5000.0</td>\n",
              "      <td>21</td>\n",
              "      <td>27</td>\n",
              "      <td>13495.0</td>\n",
              "      <td>11.190476</td>\n",
              "      <td>Medium</td>\n",
              "      <td>0</td>\n",
              "      <td>1</td>\n",
              "    </tr>\n",
              "    <tr>\n",
              "      <th>1</th>\n",
              "      <td>3</td>\n",
              "      <td>122</td>\n",
              "      <td>alfa-romero</td>\n",
              "      <td>std</td>\n",
              "      <td>two</td>\n",
              "      <td>convertible</td>\n",
              "      <td>rwd</td>\n",
              "      <td>front</td>\n",
              "      <td>88.6</td>\n",
              "      <td>0.811148</td>\n",
              "      <td>...</td>\n",
              "      <td>9.0</td>\n",
              "      <td>111.0</td>\n",
              "      <td>5000.0</td>\n",
              "      <td>21</td>\n",
              "      <td>27</td>\n",
              "      <td>16500.0</td>\n",
              "      <td>11.190476</td>\n",
              "      <td>Medium</td>\n",
              "      <td>0</td>\n",
              "      <td>1</td>\n",
              "    </tr>\n",
              "    <tr>\n",
              "      <th>2</th>\n",
              "      <td>1</td>\n",
              "      <td>122</td>\n",
              "      <td>alfa-romero</td>\n",
              "      <td>std</td>\n",
              "      <td>two</td>\n",
              "      <td>hatchback</td>\n",
              "      <td>rwd</td>\n",
              "      <td>front</td>\n",
              "      <td>94.5</td>\n",
              "      <td>0.822681</td>\n",
              "      <td>...</td>\n",
              "      <td>9.0</td>\n",
              "      <td>154.0</td>\n",
              "      <td>5000.0</td>\n",
              "      <td>19</td>\n",
              "      <td>26</td>\n",
              "      <td>16500.0</td>\n",
              "      <td>12.368421</td>\n",
              "      <td>Medium</td>\n",
              "      <td>0</td>\n",
              "      <td>1</td>\n",
              "    </tr>\n",
              "    <tr>\n",
              "      <th>3</th>\n",
              "      <td>2</td>\n",
              "      <td>164</td>\n",
              "      <td>audi</td>\n",
              "      <td>std</td>\n",
              "      <td>four</td>\n",
              "      <td>sedan</td>\n",
              "      <td>fwd</td>\n",
              "      <td>front</td>\n",
              "      <td>99.8</td>\n",
              "      <td>0.848630</td>\n",
              "      <td>...</td>\n",
              "      <td>10.0</td>\n",
              "      <td>102.0</td>\n",
              "      <td>5500.0</td>\n",
              "      <td>24</td>\n",
              "      <td>30</td>\n",
              "      <td>13950.0</td>\n",
              "      <td>9.791667</td>\n",
              "      <td>Medium</td>\n",
              "      <td>0</td>\n",
              "      <td>1</td>\n",
              "    </tr>\n",
              "    <tr>\n",
              "      <th>4</th>\n",
              "      <td>2</td>\n",
              "      <td>164</td>\n",
              "      <td>audi</td>\n",
              "      <td>std</td>\n",
              "      <td>four</td>\n",
              "      <td>sedan</td>\n",
              "      <td>4wd</td>\n",
              "      <td>front</td>\n",
              "      <td>99.4</td>\n",
              "      <td>0.848630</td>\n",
              "      <td>...</td>\n",
              "      <td>8.0</td>\n",
              "      <td>115.0</td>\n",
              "      <td>5500.0</td>\n",
              "      <td>18</td>\n",
              "      <td>22</td>\n",
              "      <td>17450.0</td>\n",
              "      <td>13.055556</td>\n",
              "      <td>Medium</td>\n",
              "      <td>0</td>\n",
              "      <td>1</td>\n",
              "    </tr>\n",
              "  </tbody>\n",
              "</table>\n",
              "<p>5 rows × 29 columns</p>\n",
              "</div>\n",
              "      <button class=\"colab-df-convert\" onclick=\"convertToInteractive('df-95ea487a-30eb-4b73-a264-7c3dbf2946d9')\"\n",
              "              title=\"Convert this dataframe to an interactive table.\"\n",
              "              style=\"display:none;\">\n",
              "        \n",
              "  <svg xmlns=\"http://www.w3.org/2000/svg\" height=\"24px\"viewBox=\"0 0 24 24\"\n",
              "       width=\"24px\">\n",
              "    <path d=\"M0 0h24v24H0V0z\" fill=\"none\"/>\n",
              "    <path d=\"M18.56 5.44l.94 2.06.94-2.06 2.06-.94-2.06-.94-.94-2.06-.94 2.06-2.06.94zm-11 1L8.5 8.5l.94-2.06 2.06-.94-2.06-.94L8.5 2.5l-.94 2.06-2.06.94zm10 10l.94 2.06.94-2.06 2.06-.94-2.06-.94-.94-2.06-.94 2.06-2.06.94z\"/><path d=\"M17.41 7.96l-1.37-1.37c-.4-.4-.92-.59-1.43-.59-.52 0-1.04.2-1.43.59L10.3 9.45l-7.72 7.72c-.78.78-.78 2.05 0 2.83L4 21.41c.39.39.9.59 1.41.59.51 0 1.02-.2 1.41-.59l7.78-7.78 2.81-2.81c.8-.78.8-2.07 0-2.86zM5.41 20L4 18.59l7.72-7.72 1.47 1.35L5.41 20z\"/>\n",
              "  </svg>\n",
              "      </button>\n",
              "      \n",
              "  <style>\n",
              "    .colab-df-container {\n",
              "      display:flex;\n",
              "      flex-wrap:wrap;\n",
              "      gap: 12px;\n",
              "    }\n",
              "\n",
              "    .colab-df-convert {\n",
              "      background-color: #E8F0FE;\n",
              "      border: none;\n",
              "      border-radius: 50%;\n",
              "      cursor: pointer;\n",
              "      display: none;\n",
              "      fill: #1967D2;\n",
              "      height: 32px;\n",
              "      padding: 0 0 0 0;\n",
              "      width: 32px;\n",
              "    }\n",
              "\n",
              "    .colab-df-convert:hover {\n",
              "      background-color: #E2EBFA;\n",
              "      box-shadow: 0px 1px 2px rgba(60, 64, 67, 0.3), 0px 1px 3px 1px rgba(60, 64, 67, 0.15);\n",
              "      fill: #174EA6;\n",
              "    }\n",
              "\n",
              "    [theme=dark] .colab-df-convert {\n",
              "      background-color: #3B4455;\n",
              "      fill: #D2E3FC;\n",
              "    }\n",
              "\n",
              "    [theme=dark] .colab-df-convert:hover {\n",
              "      background-color: #434B5C;\n",
              "      box-shadow: 0px 1px 3px 1px rgba(0, 0, 0, 0.15);\n",
              "      filter: drop-shadow(0px 1px 2px rgba(0, 0, 0, 0.3));\n",
              "      fill: #FFFFFF;\n",
              "    }\n",
              "  </style>\n",
              "\n",
              "      <script>\n",
              "        const buttonEl =\n",
              "          document.querySelector('#df-95ea487a-30eb-4b73-a264-7c3dbf2946d9 button.colab-df-convert');\n",
              "        buttonEl.style.display =\n",
              "          google.colab.kernel.accessAllowed ? 'block' : 'none';\n",
              "\n",
              "        async function convertToInteractive(key) {\n",
              "          const element = document.querySelector('#df-95ea487a-30eb-4b73-a264-7c3dbf2946d9');\n",
              "          const dataTable =\n",
              "            await google.colab.kernel.invokeFunction('convertToInteractive',\n",
              "                                                     [key], {});\n",
              "          if (!dataTable) return;\n",
              "\n",
              "          const docLinkHtml = 'Like what you see? Visit the ' +\n",
              "            '<a target=\"_blank\" href=https://colab.research.google.com/notebooks/data_table.ipynb>data table notebook</a>'\n",
              "            + ' to learn more about interactive tables.';\n",
              "          element.innerHTML = '';\n",
              "          dataTable['output_type'] = 'display_data';\n",
              "          await google.colab.output.renderOutput(dataTable, element);\n",
              "          const docLink = document.createElement('div');\n",
              "          docLink.innerHTML = docLinkHtml;\n",
              "          element.appendChild(docLink);\n",
              "        }\n",
              "      </script>\n",
              "    </div>\n",
              "  </div>\n",
              "  "
            ]
          },
          "metadata": {},
          "execution_count": 3
        }
      ]
    },
    {
      "cell_type": "code",
      "source": [
        "lm = LinearRegression()\n",
        "lm"
      ],
      "metadata": {
        "colab": {
          "base_uri": "https://localhost:8080/"
        },
        "id": "gDi4p-YKlFOA",
        "outputId": "62aa7414-a552-44e7-88ac-abc2b8efd7dc"
      },
      "execution_count": 6,
      "outputs": [
        {
          "output_type": "execute_result",
          "data": {
            "text/plain": [
              "LinearRegression()"
            ]
          },
          "metadata": {},
          "execution_count": 6
        }
      ]
    },
    {
      "cell_type": "code",
      "source": [
        "X = df[['highway-mpg']]\n",
        "Y = df['price']"
      ],
      "metadata": {
        "id": "6xB1h4u8lKso"
      },
      "execution_count": 7,
      "outputs": []
    },
    {
      "cell_type": "code",
      "source": [
        "lm.fit(X,Y)"
      ],
      "metadata": {
        "colab": {
          "base_uri": "https://localhost:8080/"
        },
        "id": "AXPUVyRylLod",
        "outputId": "16d80784-4154-4af8-bb23-ab7cc5ba7aba"
      },
      "execution_count": 8,
      "outputs": [
        {
          "output_type": "execute_result",
          "data": {
            "text/plain": [
              "LinearRegression()"
            ]
          },
          "metadata": {},
          "execution_count": 8
        }
      ]
    },
    {
      "cell_type": "code",
      "source": [
        "Yhat=lm.predict(X)\n",
        "Yhat[0:5]   "
      ],
      "metadata": {
        "colab": {
          "base_uri": "https://localhost:8080/"
        },
        "id": "flsxOCumlNTc",
        "outputId": "9b8f6097-812c-4119-8152-95d173986d66"
      },
      "execution_count": 9,
      "outputs": [
        {
          "output_type": "execute_result",
          "data": {
            "text/plain": [
              "array([16236.50464347, 16236.50464347, 17058.23802179, 13771.3045085 ,\n",
              "       20345.17153508])"
            ]
          },
          "metadata": {},
          "execution_count": 9
        }
      ]
    },
    {
      "cell_type": "code",
      "source": [
        "lm.intercept_"
      ],
      "metadata": {
        "colab": {
          "base_uri": "https://localhost:8080/"
        },
        "id": "6e5M79q-lQdO",
        "outputId": "d8218fa1-5421-4ad4-942a-4627866909a8"
      },
      "execution_count": 10,
      "outputs": [
        {
          "output_type": "execute_result",
          "data": {
            "text/plain": [
              "38423.3058581574"
            ]
          },
          "metadata": {},
          "execution_count": 10
        }
      ]
    },
    {
      "cell_type": "code",
      "source": [
        "lm.coef_"
      ],
      "metadata": {
        "colab": {
          "base_uri": "https://localhost:8080/"
        },
        "id": "72kmUZNilS3b",
        "outputId": "578da8ef-3d30-49f4-f66d-e61a8ba23628"
      },
      "execution_count": 11,
      "outputs": [
        {
          "output_type": "execute_result",
          "data": {
            "text/plain": [
              "array([-821.73337832])"
            ]
          },
          "metadata": {},
          "execution_count": 11
        }
      ]
    },
    {
      "cell_type": "markdown",
      "source": [
        "Question 1a) Create a linear regression object called \"lm1\"."
      ],
      "metadata": {
        "id": "9yvFrIGjlWNn"
      }
    },
    {
      "cell_type": "code",
      "source": [
        "lm1 = LinearRegression()\n",
        "lm1"
      ],
      "metadata": {
        "colab": {
          "base_uri": "https://localhost:8080/"
        },
        "id": "M3iEQDQPlTAG",
        "outputId": "101b251a-a568-4dd9-cde1-033d5f02696c"
      },
      "execution_count": 13,
      "outputs": [
        {
          "output_type": "execute_result",
          "data": {
            "text/plain": [
              "LinearRegression()"
            ]
          },
          "metadata": {},
          "execution_count": 13
        }
      ]
    },
    {
      "cell_type": "markdown",
      "source": [
        "Question 1b) Train the model using \"engine-size\" as the independent variable and \"price\" as the dependent variable?"
      ],
      "metadata": {
        "id": "FTFQbpqJlcOa"
      }
    },
    {
      "cell_type": "code",
      "source": [
        "lm1.fit(df[['engine-size']], df[['price']])\n",
        "lm1"
      ],
      "metadata": {
        "colab": {
          "base_uri": "https://localhost:8080/"
        },
        "id": "CID1Kfqaljk3",
        "outputId": "e7ed95f6-fcc3-4d52-d1a2-91bb3f1b2a48"
      },
      "execution_count": 14,
      "outputs": [
        {
          "output_type": "execute_result",
          "data": {
            "text/plain": [
              "LinearRegression()"
            ]
          },
          "metadata": {},
          "execution_count": 14
        }
      ]
    },
    {
      "cell_type": "markdown",
      "source": [
        "Question 1c) Find the slope and intercept of the model."
      ],
      "metadata": {
        "id": "uQ2h_izrloSF"
      }
    },
    {
      "cell_type": "code",
      "source": [
        "lm1.coef_"
      ],
      "metadata": {
        "colab": {
          "base_uri": "https://localhost:8080/"
        },
        "id": "ddeBSsuZlwaJ",
        "outputId": "012f4cad-b22c-417b-a792-717993260f0b"
      },
      "execution_count": 15,
      "outputs": [
        {
          "output_type": "execute_result",
          "data": {
            "text/plain": [
              "array([[166.86001569]])"
            ]
          },
          "metadata": {},
          "execution_count": 15
        }
      ]
    },
    {
      "cell_type": "code",
      "source": [
        "lm1.intercept_"
      ],
      "metadata": {
        "colab": {
          "base_uri": "https://localhost:8080/"
        },
        "id": "KfZNbf-Ilysh",
        "outputId": "1f65ac82-813f-4542-e3be-c04368ef26bc"
      },
      "execution_count": 16,
      "outputs": [
        {
          "output_type": "execute_result",
          "data": {
            "text/plain": [
              "array([-7963.33890628])"
            ]
          },
          "metadata": {},
          "execution_count": 16
        }
      ]
    },
    {
      "cell_type": "markdown",
      "source": [
        "Question 1d) What is the equation of the predicted line? You can use x and yhat or \"engine-size\" or \"price\"."
      ],
      "metadata": {
        "id": "QRkR--X1l0sh"
      }
    },
    {
      "cell_type": "code",
      "source": [
        "Yhat=-7963.34 + 166.86*X\n",
        "\n",
        "Price=-7963.34 + 166.86*df['engine-size']"
      ],
      "metadata": {
        "id": "-_dATxTXl53x"
      },
      "execution_count": 17,
      "outputs": []
    },
    {
      "cell_type": "markdown",
      "source": [
        "**Multiple linear Regression**"
      ],
      "metadata": {
        "id": "BqaCNEnDl-ve"
      }
    },
    {
      "cell_type": "code",
      "source": [
        "Z = df[['horsepower', 'curb-weight', 'engine-size', 'highway-mpg']]"
      ],
      "metadata": {
        "id": "DGSDzoOwl9qQ"
      },
      "execution_count": 18,
      "outputs": []
    },
    {
      "cell_type": "code",
      "source": [
        "lm.fit(Z, df['price'])"
      ],
      "metadata": {
        "colab": {
          "base_uri": "https://localhost:8080/"
        },
        "id": "xw0lOUM4mG31",
        "outputId": "4d6f4b6c-36a2-412f-a06b-ff7bf73a252d"
      },
      "execution_count": 19,
      "outputs": [
        {
          "output_type": "execute_result",
          "data": {
            "text/plain": [
              "LinearRegression()"
            ]
          },
          "metadata": {},
          "execution_count": 19
        }
      ]
    },
    {
      "cell_type": "code",
      "source": [
        "lm.intercept_"
      ],
      "metadata": {
        "colab": {
          "base_uri": "https://localhost:8080/"
        },
        "id": "QDOmmRofmIkt",
        "outputId": "599ef888-6e48-4ef2-cc1d-9e6937cea190"
      },
      "execution_count": 20,
      "outputs": [
        {
          "output_type": "execute_result",
          "data": {
            "text/plain": [
              "-15806.62462632922"
            ]
          },
          "metadata": {},
          "execution_count": 20
        }
      ]
    },
    {
      "cell_type": "code",
      "source": [
        "lm.coef_"
      ],
      "metadata": {
        "colab": {
          "base_uri": "https://localhost:8080/"
        },
        "id": "3ONpcJwDmK6r",
        "outputId": "d10fb2b2-2ab8-48e4-fe10-536b01b1c026"
      },
      "execution_count": 21,
      "outputs": [
        {
          "output_type": "execute_result",
          "data": {
            "text/plain": [
              "array([53.49574423,  4.70770099, 81.53026382, 36.05748882])"
            ]
          },
          "metadata": {},
          "execution_count": 21
        }
      ]
    },
    {
      "cell_type": "markdown",
      "source": [
        "Question 2a) Create and train a Multiple Linear Regression model \"lm2\" where the response variable is \"price\", and the predictor variable is \"normalized-losses\" and \"highway-mpg\"."
      ],
      "metadata": {
        "id": "dIckF6sKmNq8"
      }
    },
    {
      "cell_type": "code",
      "source": [
        "lm2 = LinearRegression()\n",
        "lm2.fit(df[['normalized-losses' , 'highway-mpg']],df['price'])"
      ],
      "metadata": {
        "colab": {
          "base_uri": "https://localhost:8080/"
        },
        "id": "Ur1W8KgcmRZl",
        "outputId": "6bf16e50-e4a6-4428-cd70-a8587083270e"
      },
      "execution_count": 22,
      "outputs": [
        {
          "output_type": "execute_result",
          "data": {
            "text/plain": [
              "LinearRegression()"
            ]
          },
          "metadata": {},
          "execution_count": 22
        }
      ]
    },
    {
      "cell_type": "markdown",
      "source": [
        "Question 2b) Find the coefficient of the model."
      ],
      "metadata": {
        "id": "EtncEhIcmUXD"
      }
    },
    {
      "cell_type": "code",
      "source": [
        "lm2.coef_"
      ],
      "metadata": {
        "colab": {
          "base_uri": "https://localhost:8080/"
        },
        "id": "1tydK3mumaYX",
        "outputId": "13b482b0-d73e-4bed-fe2a-5af2f9474215"
      },
      "execution_count": 23,
      "outputs": [
        {
          "output_type": "execute_result",
          "data": {
            "text/plain": [
              "array([   1.49789586, -820.45434016])"
            ]
          },
          "metadata": {},
          "execution_count": 23
        }
      ]
    },
    {
      "cell_type": "code",
      "source": [
        "width = 12\n",
        "height = 10\n",
        "plt.figure(figsize=(width, height))\n",
        "sns.regplot(x=\"highway-mpg\", y=\"price\", data=df)\n",
        "plt.ylim(0,)"
      ],
      "metadata": {
        "colab": {
          "base_uri": "https://localhost:8080/",
          "height": 624
        },
        "id": "-WFF-jQzmhJC",
        "outputId": "070fb505-48c1-4401-effb-1058992a817b"
      },
      "execution_count": 25,
      "outputs": [
        {
          "output_type": "execute_result",
          "data": {
            "text/plain": [
              "(0.0, 48162.27730718585)"
            ]
          },
          "metadata": {},
          "execution_count": 25
        },
        {
          "output_type": "display_data",
          "data": {
            "text/plain": [
              "<Figure size 864x720 with 1 Axes>"
            ],
            "image/png": "[encoded data removed]"
          },
          "metadata": {
            "needs_background": "light"
          }
        }
      ]
    },
    {
      "cell_type": "code",
      "source": [
        "plt.figure(figsize=(width, height))\n",
        "sns.regplot(x=\"peak-rpm\", y=\"price\", data=df)\n",
        "plt.ylim(0,)"
      ],
      "metadata": {
        "colab": {
          "base_uri": "https://localhost:8080/",
          "height": 624
        },
        "id": "csujeT6Lmj-W",
        "outputId": "c09fa6db-3a61-4652-b63e-8c409dc7b0e2"
      },
      "execution_count": 26,
      "outputs": [
        {
          "output_type": "execute_result",
          "data": {
            "text/plain": [
              "(0.0, 47414.1)"
            ]
          },
          "metadata": {},
          "execution_count": 26
        },
        {
          "output_type": "display_data",
          "data": {
            "text/plain": [
              "<Figure size 864x720 with 1 Axes>"
            ],
            "image/png": "[encoded data removed]"
          },
          "metadata": {
            "needs_background": "light"
          }
        }
      ]
    },
    {
      "cell_type": "markdown",
      "source": [
        "Question 3 Given the regression plots above, is \"peak-rpm\" or \"highway-mpg\" more strongly correlated with \"price\"? Use the method \".corr()\" to verify your answer."
      ],
      "metadata": {
        "id": "oTFWbjwFmlxW"
      }
    },
    {
      "cell_type": "code",
      "source": [
        "df[[\"peak-rpm\",\"highway-mpg\",\"price\"]].corr()"
      ],
      "metadata": {
        "colab": {
          "base_uri": "https://localhost:8080/",
          "height": 143
        },
        "id": "mwn-SYxpmo9x",
        "outputId": "71db32aa-e57d-4911-ed7d-03a7e29d5087"
      },
      "execution_count": 27,
      "outputs": [
        {
          "output_type": "execute_result",
          "data": {
            "text/plain": [
              "             peak-rpm  highway-mpg     price\n",
              "peak-rpm     1.000000    -0.058598 -0.101616\n",
              "highway-mpg -0.058598     1.000000 -0.704692\n",
              "price       -0.101616    -0.704692  1.000000"
            ],
            "text/html": [
              "\n",
              "  <div id=\"df-532bbd04-eb71-4641-b960-81d3b9ad1282\">\n",
              "    <div class=\"colab-df-container\">\n",
              "      <div>\n",
              "<style scoped>\n",
              "    .dataframe tbody tr th:only-of-type {\n",
              "        vertical-align: middle;\n",
              "    }\n",
              "\n",
              "    .dataframe tbody tr th {\n",
              "        vertical-align: top;\n",
              "    }\n",
              "\n",
              "    .dataframe thead th {\n",
              "        text-align: right;\n",
              "    }\n",
              "</style>\n",
              "<table border=\"1\" class=\"dataframe\">\n",
              "  <thead>\n",
              "    <tr style=\"text-align: right;\">\n",
              "      <th></th>\n",
              "      <th>peak-rpm</th>\n",
              "      <th>highway-mpg</th>\n",
              "      <th>price</th>\n",
              "    </tr>\n",
              "  </thead>\n",
              "  <tbody>\n",
              "    <tr>\n",
              "      <th>peak-rpm</th>\n",
              "      <td>1.000000</td>\n",
              "      <td>-0.058598</td>\n",
              "      <td>-0.101616</td>\n",
              "    </tr>\n",
              "    <tr>\n",
              "      <th>highway-mpg</th>\n",
              "      <td>-0.058598</td>\n",
              "      <td>1.000000</td>\n",
              "      <td>-0.704692</td>\n",
              "    </tr>\n",
              "    <tr>\n",
              "      <th>price</th>\n",
              "      <td>-0.101616</td>\n",
              "      <td>-0.704692</td>\n",
              "      <td>1.000000</td>\n",
              "    </tr>\n",
              "  </tbody>\n",
              "</table>\n",
              "</div>\n",
              "      <button class=\"colab-df-convert\" onclick=\"convertToInteractive('df-532bbd04-eb71-4641-b960-81d3b9ad1282')\"\n",
              "              title=\"Convert this dataframe to an interactive table.\"\n",
              "              style=\"display:none;\">\n",
              "        \n",
              "  <svg xmlns=\"http://www.w3.org/2000/svg\" height=\"24px\"viewBox=\"0 0 24 24\"\n",
              "       width=\"24px\">\n",
              "    <path d=\"M0 0h24v24H0V0z\" fill=\"none\"/>\n",
              "    <path d=\"M18.56 5.44l.94 2.06.94-2.06 2.06-.94-2.06-.94-.94-2.06-.94 2.06-2.06.94zm-11 1L8.5 8.5l.94-2.06 2.06-.94-2.06-.94L8.5 2.5l-.94 2.06-2.06.94zm10 10l.94 2.06.94-2.06 2.06-.94-2.06-.94-.94-2.06-.94 2.06-2.06.94z\"/><path d=\"M17.41 7.96l-1.37-1.37c-.4-.4-.92-.59-1.43-.59-.52 0-1.04.2-1.43.59L10.3 9.45l-7.72 7.72c-.78.78-.78 2.05 0 2.83L4 21.41c.39.39.9.59 1.41.59.51 0 1.02-.2 1.41-.59l7.78-7.78 2.81-2.81c.8-.78.8-2.07 0-2.86zM5.41 20L4 18.59l7.72-7.72 1.47 1.35L5.41 20z\"/>\n",
              "  </svg>\n",
              "      </button>\n",
              "      \n",
              "  <style>\n",
              "    .colab-df-container {\n",
              "      display:flex;\n",
              "      flex-wrap:wrap;\n",
              "      gap: 12px;\n",
              "    }\n",
              "\n",
              "    .colab-df-convert {\n",
              "      background-color: #E8F0FE;\n",
              "      border: none;\n",
              "      border-radius: 50%;\n",
              "      cursor: pointer;\n",
              "      display: none;\n",
              "      fill: #1967D2;\n",
              "      height: 32px;\n",
              "      padding: 0 0 0 0;\n",
              "      width: 32px;\n",
              "    }\n",
              "\n",
              "    .colab-df-convert:hover {\n",
              "      background-color: #E2EBFA;\n",
              "      box-shadow: 0px 1px 2px rgba(60, 64, 67, 0.3), 0px 1px 3px 1px rgba(60, 64, 67, 0.15);\n",
              "      fill: #174EA6;\n",
              "    }\n",
              "\n",
              "    [theme=dark] .colab-df-convert {\n",
              "      background-color: #3B4455;\n",
              "      fill: #D2E3FC;\n",
              "    }\n",
              "\n",
              "    [theme=dark] .colab-df-convert:hover {\n",
              "      background-color: #434B5C;\n",
              "      box-shadow: 0px 1px 3px 1px rgba(0, 0, 0, 0.15);\n",
              "      filter: drop-shadow(0px 1px 2px rgba(0, 0, 0, 0.3));\n",
              "      fill: #FFFFFF;\n",
              "    }\n",
              "  </style>\n",
              "\n",
              "      <script>\n",
              "        const buttonEl =\n",
              "          document.querySelector('#df-532bbd04-eb71-4641-b960-81d3b9ad1282 button.colab-df-convert');\n",
              "        buttonEl.style.display =\n",
              "          google.colab.kernel.accessAllowed ? 'block' : 'none';\n",
              "\n",
              "        async function convertToInteractive(key) {\n",
              "          const element = document.querySelector('#df-532bbd04-eb71-4641-b960-81d3b9ad1282');\n",
              "          const dataTable =\n",
              "            await google.colab.kernel.invokeFunction('convertToInteractive',\n",
              "                                                     [key], {});\n",
              "          if (!dataTable) return;\n",
              "\n",
              "          const docLinkHtml = 'Like what you see? Visit the ' +\n",
              "            '<a target=\"_blank\" href=https://colab.research.google.com/notebooks/data_table.ipynb>data table notebook</a>'\n",
              "            + ' to learn more about interactive tables.';\n",
              "          element.innerHTML = '';\n",
              "          dataTable['output_type'] = 'display_data';\n",
              "          await google.colab.output.renderOutput(dataTable, element);\n",
              "          const docLink = document.createElement('div');\n",
              "          docLink.innerHTML = docLinkHtml;\n",
              "          element.appendChild(docLink);\n",
              "        }\n",
              "      </script>\n",
              "    </div>\n",
              "  </div>\n",
              "  "
            ]
          },
          "metadata": {},
          "execution_count": 27
        }
      ]
    },
    {
      "cell_type": "markdown",
      "source": [
        "**Residual Plot**"
      ],
      "metadata": {
        "id": "rXpmjt_tmuCb"
      }
    },
    {
      "cell_type": "code",
      "source": [
        "width = 12\n",
        "height = 10\n",
        "plt.figure(figsize=(width, height))\n",
        "sns.residplot(x=df['highway-mpg'],y=df['price'])\n",
        "plt.show()"
      ],
      "metadata": {
        "colab": {
          "base_uri": "https://localhost:8080/",
          "height": 606
        },
        "id": "cS3WkZ4QmzWB",
        "outputId": "6dd2dadc-5594-427a-8d10-33714da06198"
      },
      "execution_count": 28,
      "outputs": [
        {
          "output_type": "display_data",
          "data": {
            "text/plain": [
              "<Figure size 864x720 with 1 Axes>"
            ],
            "image/png": "[encoded data removed]"
          },
          "metadata": {
            "needs_background": "light"
          }
        }
      ]
    },
    {
      "cell_type": "markdown",
      "source": [
        "**Multiple Regresion**"
      ],
      "metadata": {
        "id": "F1Cocwm9m31t"
      }
    },
    {
      "cell_type": "code",
      "source": [
        "Y_hat = lm.predict(Z)\n"
      ],
      "metadata": {
        "id": "AYGZVCf0m8t2"
      },
      "execution_count": 31,
      "outputs": []
    },
    {
      "cell_type": "code",
      "source": [
        "plt.figure(figsize=(width, height))\n",
        "\n",
        "\n",
        "ax1 = sns.distplot(df['price'], hist=False, color=\"r\", label=\"Actual Value\")\n",
        "sns.distplot(Y_hat, hist=False, color=\"b\", label=\"Fitted Values\" , ax=ax1)\n",
        "\n",
        "\n",
        "plt.title('Actual vs Fitted Values for Price')\n",
        "plt.xlabel('Price (in dollars)')\n",
        "plt.ylabel('Proportion of Cars')\n",
        "\n",
        "plt.show()\n",
        "plt.close()"
      ],
      "metadata": {
        "colab": {
          "base_uri": "https://localhost:8080/",
          "height": 715
        },
        "id": "B1ePHw40m_v3",
        "outputId": "2c5722e0-3168-41a0-9568-0bdcf3ed6e42"
      },
      "execution_count": 32,
      "outputs": [
        {
          "output_type": "stream",
          "name": "stderr",
          "text": [
            "/usr/local/lib/python3.7/dist-packages/seaborn/distributions.py:2619: FutureWarning: `distplot` is a deprecated function and will be removed in a future version. Please adapt your code to use either `displot` (a figure-level function with similar flexibility) or `kdeplot` (an axes-level function for kernel density plots).\n",
            "  warnings.warn(msg, FutureWarning)\n",
            "/usr/local/lib/python3.7/dist-packages/seaborn/distributions.py:2619: FutureWarning: `distplot` is a deprecated function and will be removed in a future version. Please adapt your code to use either `displot` (a figure-level function with similar flexibility) or `kdeplot` (an axes-level function for kernel density plots).\n",
            "  warnings.warn(msg, FutureWarning)\n"
          ]
        },
        {
          "output_type": "display_data",
          "data": {
            "text/plain": [
              "<Figure size 864x720 with 1 Axes>"
            ],
            "image/png": "[encoded data removed]"
          },
          "metadata": {
            "needs_background": "light"
          }
        }
      ]
    },
    {
      "cell_type": "markdown",
      "source": [
        "**Polynomial**\n",
        "\n"
      ],
      "metadata": {
        "id": "ZCs1QdnknDnO"
      }
    },
    {
      "cell_type": "code",
      "source": [
        "def PlotPolly(model, independent_variable, dependent_variabble, Name):\n",
        "    x_new = np.linspace(15, 55, 100)\n",
        "    y_new = model(x_new)\n",
        "\n",
        "    plt.plot(independent_variable, dependent_variabble, '.', x_new, y_new, '-')\n",
        "    plt.title('Polynomial Fit with Matplotlib for Price ~ Length')\n",
        "    ax = plt.gca()\n",
        "    ax.set_facecolor((0.898, 0.898, 0.898))\n",
        "    fig = plt.gcf()\n",
        "    plt.xlabel(Name)\n",
        "    plt.ylabel('Price of Cars')\n",
        "\n",
        "    plt.show()\n",
        "    plt.close()"
      ],
      "metadata": {
        "id": "yZwuy04ZnHRW"
      },
      "execution_count": 33,
      "outputs": []
    },
    {
      "cell_type": "code",
      "source": [
        "x = df['highway-mpg']\n",
        "y = df['price']"
      ],
      "metadata": {
        "id": "doem9B2QnKC-"
      },
      "execution_count": 34,
      "outputs": []
    },
    {
      "cell_type": "code",
      "source": [
        "f = np.polyfit(x, y, 3)\n",
        "p = np.poly1d(f)\n",
        "print(p)"
      ],
      "metadata": {
        "colab": {
          "base_uri": "https://localhost:8080/"
        },
        "id": "RLPb_FUxnLGc",
        "outputId": "a20871c0-5a7d-431c-c117-3a100315c72e"
      },
      "execution_count": 35,
      "outputs": [
        {
          "output_type": "stream",
          "name": "stdout",
          "text": [
            "        3         2\n",
            "-1.557 x + 204.8 x - 8965 x + 1.379e+05\n"
          ]
        }
      ]
    },
    {
      "cell_type": "code",
      "source": [
        "PlotPolly(p, x, y, 'highway-mpg')"
      ],
      "metadata": {
        "colab": {
          "base_uri": "https://localhost:8080/",
          "height": 295
        },
        "id": "pQm-FVD8nNln",
        "outputId": "6bd002aa-dae7-421a-dd90-0fa719ea463b"
      },
      "execution_count": 36,
      "outputs": [
        {
          "output_type": "display_data",
          "data": {
            "text/plain": [
              "<Figure size 432x288 with 1 Axes>"
            ],
            "image/png": "[encoded data removed]"
          },
          "metadata": {
            "needs_background": "light"
          }
        }
      ]
    },
    {
      "cell_type": "code",
      "source": [
        "np.polyfit(x, y, 3)"
      ],
      "metadata": {
        "colab": {
          "base_uri": "https://localhost:8080/"
        },
        "id": "mXkFiHZKnQlk",
        "outputId": "df35a1c0-1932-4f7f-fab9-e65bf2e55c52"
      },
      "execution_count": 37,
      "outputs": [
        {
          "output_type": "execute_result",
          "data": {
            "text/plain": [
              "array([-1.55663829e+00,  2.04754306e+02, -8.96543312e+03,  1.37923594e+05])"
            ]
          },
          "metadata": {},
          "execution_count": 37
        }
      ]
    },
    {
      "cell_type": "markdown",
      "source": [
        "Question 4.- Create 11 order polynomial model with the variables x and y from above."
      ],
      "metadata": {
        "id": "0o0YKlmznSN_"
      }
    },
    {
      "cell_type": "code",
      "source": [
        "f1 = np.polyfit(x, y, 11)\n",
        "p1 = np.poly1d(f1)\n",
        "print(p1)\n",
        "PlotPolly(p1,x,y, 'Highway MPG')"
      ],
      "metadata": {
        "colab": {
          "base_uri": "https://localhost:8080/",
          "height": 369
        },
        "id": "tKR8yEJLnXcV",
        "outputId": "6cd5fe59-f66b-41f8-f75f-7c2af7120347"
      },
      "execution_count": 38,
      "outputs": [
        {
          "output_type": "stream",
          "name": "stdout",
          "text": [
            "            11             10             9           8         7\n",
            "-1.243e-08 x  + 4.722e-06 x  - 0.0008028 x + 0.08056 x - 5.297 x\n",
            "          6        5             4             3             2\n",
            " + 239.5 x - 7588 x + 1.684e+05 x - 2.565e+06 x + 2.551e+07 x - 1.491e+08 x + 3.879e+08\n"
          ]
        },
        {
          "output_type": "display_data",
          "data": {
            "text/plain": [
              "<Figure size 432x288 with 1 Axes>"
            ],
            "image/png": "[encoded data removed]"
          },
          "metadata": {
            "needs_background": "light"
          }
        }
      ]
    },
    {
      "cell_type": "code",
      "source": [
        "from sklearn.preprocessing import PolynomialFeatures\n",
        "pr=PolynomialFeatures(degree=2)\n",
        "pr"
      ],
      "metadata": {
        "colab": {
          "base_uri": "https://localhost:8080/"
        },
        "id": "qfDcfVQ0nZ9Z",
        "outputId": "885d614f-cf21-4966-dbad-8e3eb7d1a3df"
      },
      "execution_count": 39,
      "outputs": [
        {
          "output_type": "execute_result",
          "data": {
            "text/plain": [
              "PolynomialFeatures()"
            ]
          },
          "metadata": {},
          "execution_count": 39
        }
      ]
    },
    {
      "cell_type": "code",
      "source": [
        "Z_pr=pr.fit_transform(Z)"
      ],
      "metadata": {
        "id": "GyYd3P5_ncVL"
      },
      "execution_count": 40,
      "outputs": []
    },
    {
      "cell_type": "code",
      "source": [
        "Z.shape"
      ],
      "metadata": {
        "colab": {
          "base_uri": "https://localhost:8080/"
        },
        "id": "m_JpyDanne-z",
        "outputId": "2239b3ba-b450-4e36-ce35-6542a76eaf8e"
      },
      "execution_count": 41,
      "outputs": [
        {
          "output_type": "execute_result",
          "data": {
            "text/plain": [
              "(201, 4)"
            ]
          },
          "metadata": {},
          "execution_count": 41
        }
      ]
    },
    {
      "cell_type": "code",
      "source": [
        "Z_pr.shape"
      ],
      "metadata": {
        "colab": {
          "base_uri": "https://localhost:8080/"
        },
        "id": "pjj1AnYDnf-C",
        "outputId": "b0e4e18b-ab03-44eb-91f0-223345394343"
      },
      "execution_count": 42,
      "outputs": [
        {
          "output_type": "execute_result",
          "data": {
            "text/plain": [
              "(201, 15)"
            ]
          },
          "metadata": {},
          "execution_count": 42
        }
      ]
    },
    {
      "cell_type": "markdown",
      "source": [
        "**Pipeline**"
      ],
      "metadata": {
        "id": "_UrbCpWEniPN"
      }
    },
    {
      "cell_type": "code",
      "source": [
        "from sklearn.pipeline import Pipeline\n",
        "from sklearn.preprocessing import StandardScaler"
      ],
      "metadata": {
        "id": "M1NtRfYsnlWV"
      },
      "execution_count": 43,
      "outputs": []
    },
    {
      "cell_type": "code",
      "source": [
        "Input=[('scale',StandardScaler()), ('polynomial', PolynomialFeatures(include_bias=False)), ('model',LinearRegression())]"
      ],
      "metadata": {
        "id": "P4caiyWLnows"
      },
      "execution_count": 44,
      "outputs": []
    },
    {
      "cell_type": "code",
      "source": [
        "pipe=Pipeline(Input)\n",
        "pipe"
      ],
      "metadata": {
        "colab": {
          "base_uri": "https://localhost:8080/"
        },
        "id": "2-hXNnJBnsSU",
        "outputId": "d9749d48-58a6-4c41-83c9-931a08c59c83"
      },
      "execution_count": 45,
      "outputs": [
        {
          "output_type": "execute_result",
          "data": {
            "text/plain": [
              "Pipeline(steps=[('scale', StandardScaler()),\n",
              "                ('polynomial', PolynomialFeatures(include_bias=False)),\n",
              "                ('model', LinearRegression())])"
            ]
          },
          "metadata": {},
          "execution_count": 45
        }
      ]
    },
    {
      "cell_type": "code",
      "source": [
        "Z = Z.astype(float)\n",
        "pipe.fit(Z,y)"
      ],
      "metadata": {
        "colab": {
          "base_uri": "https://localhost:8080/"
        },
        "id": "q8Lro1jgnuUQ",
        "outputId": "6fcc3bc6-ae1b-4b22-ea7d-7d26986465e2"
      },
      "execution_count": 46,
      "outputs": [
        {
          "output_type": "execute_result",
          "data": {
            "text/plain": [
              "Pipeline(steps=[('scale', StandardScaler()),\n",
              "                ('polynomial', PolynomialFeatures(include_bias=False)),\n",
              "                ('model', LinearRegression())])"
            ]
          },
          "metadata": {},
          "execution_count": 46
        }
      ]
    },
    {
      "cell_type": "code",
      "source": [
        "ypipe=pipe.predict(Z)\n",
        "ypipe[0:4]"
      ],
      "metadata": {
        "colab": {
          "base_uri": "https://localhost:8080/"
        },
        "id": "VKzxHeFInvQE",
        "outputId": "498f30d6-2094-4fe3-8f4b-9d8cde92a49a"
      },
      "execution_count": 47,
      "outputs": [
        {
          "output_type": "execute_result",
          "data": {
            "text/plain": [
              "array([13102.74784201, 13102.74784201, 18225.54572197, 10390.29636555])"
            ]
          },
          "metadata": {},
          "execution_count": 47
        }
      ]
    },
    {
      "cell_type": "markdown",
      "source": [
        "Question 5 Create a pipeline that standardizes the data, then produce a prediction using a linear regression model using the features Z and target y."
      ],
      "metadata": {
        "id": "8BFzhlkYnyAU"
      }
    },
    {
      "cell_type": "code",
      "source": [
        "Input=[('scale',StandardScaler()),('model',LinearRegression())]\n",
        "\n",
        "pipe=Pipeline(Input)\n",
        "\n",
        "pipe.fit(Z,y)\n",
        "\n",
        "ypipe=pipe.predict(Z)\n",
        "ypipe[0:10]"
      ],
      "metadata": {
        "colab": {
          "base_uri": "https://localhost:8080/"
        },
        "id": "crRXgXoBn1v-",
        "outputId": "5840b0ff-22e0-4c06-aa39-3ada441f3fac"
      },
      "execution_count": 48,
      "outputs": [
        {
          "output_type": "execute_result",
          "data": {
            "text/plain": [
              "array([13699.11161184, 13699.11161184, 19051.65470233, 10620.36193015,\n",
              "       15521.31420211, 13869.66673213, 15456.16196732, 15974.00907672,\n",
              "       17612.35917161, 10722.32509097])"
            ]
          },
          "metadata": {},
          "execution_count": 48
        }
      ]
    },
    {
      "cell_type": "code",
      "source": [
        "lm.fit(X, Y)\n",
        "# Find the R^2\n",
        "print('The R-square is: ', lm.score(X, Y))"
      ],
      "metadata": {
        "colab": {
          "base_uri": "https://localhost:8080/"
        },
        "id": "_X6L1AMSn4de",
        "outputId": "3ad62efd-7155-4090-92ab-b5146d6fa972"
      },
      "execution_count": 49,
      "outputs": [
        {
          "output_type": "stream",
          "name": "stdout",
          "text": [
            "The R-square is:  0.4965911884339176\n"
          ]
        }
      ]
    },
    {
      "cell_type": "code",
      "source": [
        "Yhat=lm.predict(X)\n",
        "print('The output of the first four predicted value is: ', Yhat[0:4])"
      ],
      "metadata": {
        "colab": {
          "base_uri": "https://localhost:8080/"
        },
        "id": "J2xxtaD8n6xs",
        "outputId": "a6d789ea-2171-40ac-c717-c1f8427ee227"
      },
      "execution_count": 50,
      "outputs": [
        {
          "output_type": "stream",
          "name": "stdout",
          "text": [
            "The output of the first four predicted value is:  [16236.50464347 16236.50464347 17058.23802179 13771.3045085 ]\n"
          ]
        }
      ]
    },
    {
      "cell_type": "code",
      "source": [
        "from sklearn.metrics import mean_squared_error"
      ],
      "metadata": {
        "id": "g29Y7orBn9pz"
      },
      "execution_count": 52,
      "outputs": []
    },
    {
      "cell_type": "code",
      "source": [
        "mse = mean_squared_error(df['price'], Yhat)\n",
        "print('The mean square error of price and predicted value is: ', mse)"
      ],
      "metadata": {
        "colab": {
          "base_uri": "https://localhost:8080/"
        },
        "id": "gNN8JENon_RN",
        "outputId": "5a0993e4-7073-4dae-933a-406c5d9f946f"
      },
      "execution_count": 53,
      "outputs": [
        {
          "output_type": "stream",
          "name": "stdout",
          "text": [
            "The mean square error of price and predicted value is:  31635042.944639888\n"
          ]
        }
      ]
    },
    {
      "cell_type": "code",
      "source": [
        "lm.fit(Z, df['price'])\n",
        "\n",
        "print('The R-square is: ', lm.score(Z, df['price']))"
      ],
      "metadata": {
        "colab": {
          "base_uri": "https://localhost:8080/"
        },
        "id": "tqlo0Hx3oE8U",
        "outputId": "225626a4-7078-4dd1-ba40-c2fe0e245a61"
      },
      "execution_count": 54,
      "outputs": [
        {
          "output_type": "stream",
          "name": "stdout",
          "text": [
            "The R-square is:  0.8093562806577457\n"
          ]
        }
      ]
    },
    {
      "cell_type": "code",
      "source": [
        "Y_predict_multifit = lm.predict(Z)"
      ],
      "metadata": {
        "id": "4u8bdTA-oIYK"
      },
      "execution_count": 56,
      "outputs": []
    },
    {
      "cell_type": "code",
      "source": [
        "print('The mean square error of price and predicted value using multifit is: ', \\\n",
        "      mean_squared_error(df['price'], Y_predict_multifit))"
      ],
      "metadata": {
        "colab": {
          "base_uri": "https://localhost:8080/"
        },
        "id": "qrXH_bmwoJW2",
        "outputId": "ea6ed7e9-a04c-443c-bc8f-80f57a415a27"
      },
      "execution_count": 57,
      "outputs": [
        {
          "output_type": "stream",
          "name": "stdout",
          "text": [
            "The mean square error of price and predicted value using multifit is:  11980366.87072649\n"
          ]
        }
      ]
    },
    {
      "cell_type": "code",
      "source": [
        "from sklearn.metrics import r2_score"
      ],
      "metadata": {
        "id": "IaLXwKHsoM3P"
      },
      "execution_count": 58,
      "outputs": []
    },
    {
      "cell_type": "code",
      "source": [
        "r_squared = r2_score(y, p(x))\n",
        "print('The R-square value is: ', r_squared)"
      ],
      "metadata": {
        "colab": {
          "base_uri": "https://localhost:8080/"
        },
        "id": "6SFDNsp0oOn3",
        "outputId": "b7b02c66-0072-4756-a01d-37e0b919362a"
      },
      "execution_count": 59,
      "outputs": [
        {
          "output_type": "stream",
          "name": "stdout",
          "text": [
            "The R-square value is:  0.674194666390652\n"
          ]
        }
      ]
    },
    {
      "cell_type": "markdown",
      "source": [
        "**MSE**"
      ],
      "metadata": {
        "id": "DDwqEt8goQhC"
      }
    },
    {
      "cell_type": "code",
      "source": [
        "mean_squared_error(df['price'], p(x))"
      ],
      "metadata": {
        "colab": {
          "base_uri": "https://localhost:8080/"
        },
        "id": "Pums4JlWoUlu",
        "outputId": "357095ca-db21-4f28-d29a-4def81e14cf6"
      },
      "execution_count": 60,
      "outputs": [
        {
          "output_type": "execute_result",
          "data": {
            "text/plain": [
              "20474146.426361218"
            ]
          },
          "metadata": {},
          "execution_count": 60
        }
      ]
    },
    {
      "cell_type": "code",
      "source": [
        "import matplotlib.pyplot as plt\n",
        "import numpy as np"
      ],
      "metadata": {
        "id": "Kb67S7L3oZhi"
      },
      "execution_count": 61,
      "outputs": []
    },
    {
      "cell_type": "code",
      "source": [
        "new_input=np.arange(1, 100, 1).reshape(-1, 1)"
      ],
      "metadata": {
        "id": "noDW9Ywxoa38"
      },
      "execution_count": 62,
      "outputs": []
    },
    {
      "cell_type": "code",
      "source": [
        "lm.fit(X, Y)\n",
        "lm"
      ],
      "metadata": {
        "colab": {
          "base_uri": "https://localhost:8080/"
        },
        "id": "NP8kgsOgod9B",
        "outputId": "1fe316be-0aad-4372-e852-110501406e76"
      },
      "execution_count": 63,
      "outputs": [
        {
          "output_type": "execute_result",
          "data": {
            "text/plain": [
              "LinearRegression()"
            ]
          },
          "metadata": {},
          "execution_count": 63
        }
      ]
    },
    {
      "cell_type": "code",
      "source": [
        "yhat=lm.predict(new_input)\n",
        "yhat[0:5]"
      ],
      "metadata": {
        "colab": {
          "base_uri": "https://localhost:8080/"
        },
        "id": "9xYTjuJIofuv",
        "outputId": "25bc9d12-cc20-4ecf-aafd-524e4c5cbf5c"
      },
      "execution_count": 66,
      "outputs": [
        {
          "output_type": "stream",
          "name": "stderr",
          "text": [
            "/usr/local/lib/python3.7/dist-packages/sklearn/base.py:451: UserWarning: X does not have valid feature names, but LinearRegression was fitted with feature names\n",
            "  \"X does not have valid feature names, but\"\n"
          ]
        },
        {
          "output_type": "execute_result",
          "data": {
            "text/plain": [
              "array([37601.57247984, 36779.83910151, 35958.10572319, 35136.37234487,\n",
              "       34314.63896655])"
            ]
          },
          "metadata": {},
          "execution_count": 66
        }
      ]
    },
    {
      "cell_type": "code",
      "source": [
        "plt.plot(new_input, yhat)\n",
        "plt.show()"
      ],
      "metadata": {
        "colab": {
          "base_uri": "https://localhost:8080/",
          "height": 265
        },
        "id": "qi0p_EU5ohJo",
        "outputId": "9aa6effa-f864-4134-c707-c2711e087fac"
      },
      "execution_count": 67,
      "outputs": [
        {
          "output_type": "display_data",
          "data": {
            "text/plain": [
              "<Figure size 432x288 with 1 Axes>"
            ],
            "image/png": "[encoded data removed]"
          },
          "metadata": {
            "needs_background": "light"
          }
        }
      ]
    },
    {
      "cell_type": "markdown",
      "source": [
        "#Módulo 4.- Graded Review"
      ],
      "metadata": {
        "id": "lpvJzUlLou-R"
      }
    },
    {
      "cell_type": "markdown",
      "source": [
        "![Graded Review.JPG](data:image/jpeg;base64,/9j/4AAQSkZJRgABAQEAYABgAAD/4REMRXhpZgAATU0AKgAAAAgABAE7AAIAAAAWAAAISodpAAQAAAABAAAIYJydAAEAAAAsAAAQ2OocAAcAAAgMAAAAPgAAAAAc6gAAAAgAAAAAAAAAAAAAAAAAAAAAAAAAAAAAAAAAAAAAAAAAAAAAAAAAAAAAAAAAAAAAAAAAAAAAAAAAAAAAAAAAAAAAAAAAAAAAAAAAAAAAAAAAAAAAAAAAAAAAAAAAAAAAAAAAAAAAAAAAAAAAAAAAAAAAAAAAAAAAAAAAAAAAAAAAAAAAAAAAAAAAAAAAAAAAAAAAAAAAAAAAAAAAAAAAAAAAAAAAAAAAAAAAAAAAAAAAAAAAAAAAAAAAAAAAAAAAAAAAAAAAAAAAAAAAAAAAAAAAAAAAAAAAAAAAAAAAAAAAAAAAAAAAAAAAAAAAAAAAAAAAAAAAAAAAAAAAAAAAAAAAAAAAAAAAAAAAAAAAAAAAAAAAAAAAAAAAAAAAAAAAAAAAAAAAAAAAAAAAAAAAAAAAAAAAAAAAAAAAAAAAAAAAAAAAAAAAAAAAAAAAAAAAAAAAAAAAAAAAAAAAAAAAAAAAAAAAAAAAAAAAAAAAAAAAAAAAAAAAAAAAAAAAAAAAAAAAAAAAAAAAAAAAAAAAAAAAAAAAAAAAAAAAAAAAAAAAAAAAAAAAAAAAAAAAAAAAAAAAAAAAAAAAAAAAAAAAAAAAAAAAAAAAAAAAAAAAAAAAAAAAAAAAAAAAAAAAAAAAAAAAAAAAAAAAAAAAAAAAAAAAAAAAAAAAAAAAAAAAAAAAAAAAAAAAAAAAAAAAAAAAAAAAAAAAAAAAAAAAAAAAAAAAAAAAAAAAAAAAAAAAAAAAAAAAAAAAAAAAAAAAAAAAAAAAAAAAAAAAAAAAAAAAAAAAAAAAAAAAAAAAAAAAAAAAAAAAAAAAAAAAAAAAAAAAAAAAAAAAAAAAAAAAAAAAAAAAAAAAAAAAAAAAAAAAAAAAAAAAAAAAAAAAAAAAAAAAAAAAAAAAAAAAAAAAAAAAAAAAAAAAAAAAAAAAAAAAAAAAAAAAAAAAAAAAAAAAAAAAAAAAAAAAAAAAAAAAAAAAAAAAAAAAAAAAAAAAAAAAAAAAAAAAAAAAAAAAAAAAAAAAAAAAAAAAAAAAAAAAAAAAAAAAAAAAAAAAAAAAAAAAAAAAAAAAAAAAAAAAAAAAAAAAAAAAAAAAAAAAAAAAAAAAAAAAAAAAAAAAAAAAAAAAAAAAAAAAAAAAAAAAAAAAAAAAAAAAAAAAAAAAAAAAAAAAAAAAAAAAAAAAAAAAAAAAAAAAAAAAAAAAAAAAAAAAAAAAAAAAAAAAAAAAAAAAAAAAAAAAAAAAAAAAAAAAAAAAAAAAAAAAAAAAAAAAAAAAAAAAAAAAAAAAAAAAAAAAAAAAAAAAAAAAAAAAAAAAAAAAAAAAAAAAAAAAAAAAAAAAAAAAAAAAAAAAAAAAAAAAAAAAAAAAAAAAAAAAAAAAAAAAAAAAAAAAAAAAAAAAAAAAAAAAAAAAAAAAAAAAAAAAAAAAAAAAAAAAAAAAAAAAAAAAAAAAAAAAAAAAAAAAAAAAAAAAAAAAAAAAAAAAAAAAAAAAAAAAAAAAAAAAAAAAAAAAAAAAAAAAAAAAAAAAAAAAAAAAAAAAAAAAAAAAAAAAAAAAAAAAAAAAAAAAAAAAAAAAAAAAAAAAAAAAAAAAAAAAAAAAAAAAAAAAAAAAAAAAAAAAAAAAAAAAAAAAAAAAAAAAAAAAAAAAAAAAAAAAAAAAAAAAAAAAAAAAAAAAAAAAAAAAAAAAAAAAAAAAAAAAAAAAAAAAAAAAAAAAAAAAAAAAAAAAAAAAAAAAAAAAAAAAAAAAAAAAAAAAAAAAAAAAAAAAAAAAAAAAAAAAAAAAAAAAAAAAAAAAAAAAAAAAAAAAAAAAAAAAAAAAAAAAAAAAAAAAAAAAAAAAAAAAAAAAAAAAAAAAAAAAAAAAAAAAAAAAAAAAAAAAAAAAAAAAAAAAAAAAAAAAAAAAAAAAAAAAAAAAAAAAAAAAAAAAAAAAAAAAAAAAAAAAAAAAAAAAAAAAAAAAAAAAAAAAAAAAAAAAAAAAAAAAAAAAAAAAAAAAAAAAAAAAAAAAAAAAAAAAAAAAAAAAAAAAAAAAAAAAAAAAAAAAAAAAAAAAAAAAAAAAAAAAAAAAAAAAAAAAAAAAAAAAAAAAAAAAAAAAAAAAAAAAAAAAAAAAAAAAAAAAAAAAAAAAAAAAAAAAAAAAAAAAAAAAAAAAAAAAAAAAAAAAAAAAAAAAAAAAAAAAAAAAAAAAAAAAAAAAAAAAAAAAAAAAAAAAAAAAAAAAAAAAAAAAAAAAAAAAAAAAAAAAAAAAAAAAAAAAAAAAAAAAAAAAAAAAAAAAAAAAAAAAAAAAAAAAAAAAAAAAAAAAAAAAAAAAAAAAAAAAAAAAAAAAAAAAAAAAAAAAAAAAAAAAAAAAAAAAAAAAAAAAAAAAAAAAAAAAAAAAAAAAAAAAAAAAAAAAAAAAAAAAAAAAAAAAAAAAAAAAAAAAAAAAAAAAAAAAAAAAAAAAAAAAAAAAAAAAAAAAAAAAAAAAAAAAAAAAAAAAAAAAAAAAAAAAAAAAAAAAAAAAAAAAAAAAAAAAAAAAAAAAAAAAAAAAAAAAAAAAAAAAAAAAAAAAAAAAAAAAAAAAAAAAAAAAAAAAAAAAAAAAAAAAAAAAAAAAAAAAAAAAAAAAAAAAAAAAAAAAAAAAAAAAAAAAAAAAAAAAAAAAAAAAAAAAAAAAAAAAAAAAAAAAAAAAAAAAAAAAAAAAAAAAAAAAAAAAAAAAAAAAAAAAAAAAAAAAAAAAAAAAAAAAAAAAAAAAAAAAAE1vcmVubywgQmVybmFyZG8gKEouKQAABZADAAIAAAAUAAAQrpAEAAIAAAAUAAAQwpKRAAIAAAADNTkAAJKSAAIAAAADNTkAAOocAAcAAAgMAAAIogAAAAAc6gAAAAgAAAAAAAAAAAAAAAAAAAAAAAAAAAAAAAAAAAAAAAAAAAAAAAAAAAAAAAAAAAAAAAAAAAAAAAAAAAAAAAAAAAAAAAAAAAAAAAAAAAAAAAAAAAAAAAAAAAAAAAAAAAAAAAAAAAAAAAAAAAAAAAAAAAAAAAAAAAAAAAAAAAAAAAAAAAAAAAAAAAAAAAAAAAAAAAAAAAAAAAAAAAAAAAAAAAAAAAAAAAAAAAAAAAAAAAAAAAAAAAAAAAAAAAAAAAAAAAAAAAAAAAAAAAAAAAAAAAAAAAAAAAAAAAAAAAAAAAAAAAAAAAAAAAAAAAAAAAAAAAAAAAAAAAAAAAAAAAAAAAAAAAAAAAAAAAAAAAAAAAAAAAAAAAAAAAAAAAAAAAAAAAAAAAAAAAAAAAAAAAAAAAAAAAAAAAAAAAAAAAAAAAAAAAAAAAAAAAAAAAAAAAAAAAAAAAAAAAAAAAAAAAAAAAAAAAAAAAAAAAAAAAAAAAAAAAAAAAAAAAAAAAAAAAAAAAAAAAAAAAAAAAAAAAAAAAAAAAAAAAAAAAAAAAAAAAAAAAAAAAAAAAAAAAAAAAAAAAAAAAAAAAAAAAAAAAAAAAAAAAAAAAAAAAAAAAAAAAAAAAAAAAAAAAAAAAAAAAAAAAAAAAAAAAAAAAAAAAAAAAAAAAAAAAAAAAAAAAAAAAAAAAAAAAAAAAAAAAAAAAAAAAAAAAAAAAAAAAAAAAAAAAAAAAAAAAAAAAAAAAAAAAAAAAAAAAAAAAAAAAAAAAAAAAAAAAAAAAAAAAAAAAAAAAAAAAAAAAAAAAAAAAAAAAAAAAAAAAAAAAAAAAAAAAAAAAAAAAAAAAAAAAAAAAAAAAAAAAAAAAAAAAAAAAAAAAAAAAAAAAAAAAAAAAAAAAAAAAAAAAAAAAAAAAAAAAAAAAAAAAAAAAAAAAAAAAAAAAAAAAAAAAAAAAAAAAAAAAAAAAAAAAAAAAAAAAAAAAAAAAAAAAAAAAAAAAAAAAAAAAAAAAAAAAAAAAAAAAAAAAAAAAAAAAAAAAAAAAAAAAAAAAAAAAAAAAAAAAAAAAAAAAAAAAAAAAAAAAAAAAAAAAAAAAAAAAAAAAAAAAAAAAAAAAAAAAAAAAAAAAAAAAAAAAAAAAAAAAAAAAAAAAAAAAAAAAAAAAAAAAAAAAAAAAAAAAAAAAAAAAAAAAAAAAAAAAAAAAAAAAAAAAAAAAAAAAAAAAAAAAAAAAAAAAAAAAAAAAAAAAAAAAAAAAAAAAAAAAAAAAAAAAAAAAAAAAAAAAAAAAAAAAAAAAAAAAAAAAAAAAAAAAAAAAAAAAAAAAAAAAAAAAAAAAAAAAAAAAAAAAAAAAAAAAAAAAAAAAAAAAAAAAAAAAAAAAAAAAAAAAAAAAAAAAAAAAAAAAAAAAAAAAAAAAAAAAAAAAAAAAAAAAAAAAAAAAAAAAAAAAAAAAAAAAAAAAAAAAAAAAAAAAAAAAAAAAAAAAAAAAAAAAAAAAAAAAAAAAAAAAAAAAAAAAAAAAAAAAAAAAAAAAAAAAAAAAAAAAAAAAAAAAAAAAAAAAAAAAAAAAAAAAAAAAAAAAAAAAAAAAAAAAAAAAAAAAAAAAAAAAAAAAAAAAAAAAAAAAAAAAAAAAAAAAAAAAAAAAAAAAAAAAAAAAAAAAAAAAAAAAAAAAAAAAAAAAAAAAAAAAAAAAAAAAAAAAAAAAAAAAAAAAAAAAAAAAAAAAAAAAAAAAAAAAAAAAAAAAAAAAAAAAAAAAAAAAAAAAAAAAAAAAAAAAAAAAAAAAAAAAAAAAAAAAAAAAAAAAAAAAAAAAAAAAAAAAAAAAAAAAAAAAAAAAAAAAAAAAAAAAAAAAAAAAAAAAAAAAAAAAAAAAAAAAAAAAAAAAAAAAAAAAAAAAAAAAAAAAAAAAAAAAAAAAAAAAAAAAAAAAAAAAAAAAAAAAAAAAAAAAAAAAAAAAAAAAAAAAAAAAAAAAAAAAAAAAAAAAAAAAAAAAAAAAAAAAAAAAAAAAAAAAAAAAAAAAAAAAAAAAAAAAAAAAAAAAAAAAAAAAAAAAAAAAAAAAAAAAAAAAAAAAAAAAAAAAAAAAAAAAAAAAAAAAAAAAAAAAAAAAAAAAAAAAAAAAAAAAAAAAAAAAAAAAAAAAAAAAAAAAAAAAAAAAAAAAAAAAAAAAAAAAAAAAAAAAAAAAAAAAAAAAAAAAAAAAAAAAAAAAAAAAAAAAAAAAAAAAAAAAAAAAAAAAAAAAAAAAAAAAAAAAAAAAAAAAAAAAAAAAAAAAAAAAAAAAAAAAAAAAAAAAAAAAAAAAAAAAAAAAAAAAAAAAAAAAAAAAAAAAAAAAAAAAAAAAAAAAAAAAAAAAAAAAAAAAAAAAAAAAAAAAAAAAAAAAAAAAAAAAAAAAAAAAAAAAAAAAAAAAAAAAAAAAAAAAAAAAAAAAAAAAAAAAAAAAAAAAAAAAAAAAAAAAAAAAAAAAAAAAAAAAAAAAAAAAAAAAAAAAAAAAAAAAAAAAAAAAAAAAAAAAAAAAAAAAAAAAAAAAAAAAAAAAAAAAAAAAAAAAAAAAAAAAAAAAAAAAAAAAAAAAAAAAAAAAAAAAAAAAAAAAAAAAAAAAAAAAAAAAAAAAAAAAAAAAAAAAAAAAAAAAAAAAAAAAAAAAAAAAAAAAAAAAAAAAAAAAAAAAAAAAAAAAAAAAAAAAAAAAAAAAAAAAAAAAAAAAAAAAAAAAAAAAAAAAAAAAAAAAAAAAAAAAAAAAAAAAAAADIwMjI6MTE6MDEgMjI6NDY6NTYAMjAyMjoxMTowMSAyMjo0Njo1NgAAAE0AbwByAGUAbgBvACwAIABCAGUAcgBuAGEAcgBkAG8AIAAoAEoALgApAAAA/+ELKGh0dHA6Ly9ucy5hZG9iZS5jb20veGFwLzEuMC8APD94cGFja2V0IGJlZ2luPSfvu78nIGlkPSdXNU0wTXBDZWhpSHpyZVN6TlRjemtjOWQnPz4NCjx4OnhtcG1ldGEgeG1sbnM6eD0iYWRvYmU6bnM6bWV0YS8iPjxyZGY6UkRGIHhtbG5zOnJkZj0iaHR0cDovL3d3dy53My5vcmcvMTk5OS8wMi8yMi1yZGYtc3ludGF4LW5zIyI+PHJkZjpEZXNjcmlwdGlvbiByZGY6YWJvdXQ9InV1aWQ6ZmFmNWJkZDUtYmEzZC0xMWRhLWFkMzEtZDMzZDc1MTgyZjFiIiB4bWxuczpkYz0iaHR0cDovL3B1cmwub3JnL2RjL2VsZW1lbnRzLzEuMS8iLz48cmRmOkRlc2NyaXB0aW9uIHJkZjphYm91dD0idXVpZDpmYWY1YmRkNS1iYTNkLTExZGEtYWQzMS1kMzNkNzUxODJmMWIiIHhtbG5zOnhtcD0iaHR0cDovL25zLmFkb2JlLmNvbS94YXAvMS4wLyI+PHhtcDpDcmVhdGVEYXRlPjIwMjItMTEtMDFUMjI6NDY6NTYuNTkzPC94bXA6Q3JlYXRlRGF0ZT48L3JkZjpEZXNjcmlwdGlvbj48cmRmOkRlc2NyaXB0aW9uIHJkZjphYm91dD0idXVpZDpmYWY1YmRkNS1iYTNkLTExZGEtYWQzMS1kMzNkNzUxODJmMWIiIHhtbG5zOmRjPSJodHRwOi8vcHVybC5vcmcvZGMvZWxlbWVudHMvMS4xLyI+PGRjOmNyZWF0b3I+PHJkZjpTZXEgeG1sbnM6cmRmPSJodHRwOi8vd3d3LnczLm9yZy8xOTk5LzAyLzIyLXJkZi1zeW50YXgtbnMjIj48cmRmOmxpPk1vcmVubywgQmVybmFyZG8gKEouKTwvcmRmOmxpPjwvcmRmOlNlcT4NCgkJCTwvZGM6Y3JlYXRvcj48L3JkZjpEZXNjcmlwdGlvbj48L3JkZjpSREY+PC94OnhtcG1ldGE+DQogICAgICAgICAgICAgICAgICAgICAgICAgICAgICAgICAgICAgICAgICAgICAgICAgICAgICAgICAgICAgICAgICAgICAgICAgICAgICAgICAgICAgICAgICAgICAgICAgICAgCiAgICAgICAgICAgICAgICAgICAgICAgICAgICAgICAgICAgICAgICAgICAgICAgICAgICAgICAgICAgICAgICAgICAgICAgICAgICAgICAgICAgICAgICAgICAgICAgICAgICAKICAgICAgICAgICAgICAgICAgICAgICAgICAgICAgICAgICAgICAgICAgICAgICAgICAgICAgICAgICAgICAgICAgICAgICAgICAgICAgICAgICAgICAgICAgICAgICAgICAgIAogICAgICAgICAgICAgICAgICAgICAgICAgICAgICAgICAgICAgICAgICAgICAgICAgICAgICAgICAgICAgICAgICAgICAgICAgICAgICAgICAgICAgICAgICAgICAgICAgICAgCiAgICAgICAgICAgICAgICAgICAgICAgICAgICAgICAgICAgICAgICAgICAgICAgICAgICAgICAgICAgICAgICAgICAgICAgICAgICAgICAgICAgICAgICAgICAgICAgICAgICAKICAgICAgICAgICAgICAgICAgICAgICAgICAgICAgICAgICAgICAgICAgICAgICAgICAgICAgICAgICAgICAgICAgICAgICAgICAgICAgICAgICAgICAgICAgICAgICAgICAgIAogICAgICAgICAgICAgICAgICAgICAgICAgICAgICAgICAgICAgICAgICAgICAgICAgICAgICAgICAgICAgICAgICAgICAgICAgICAgICAgICAgICAgICAgICAgICAgICAgICAgCiAgICAgICAgICAgICAgICAgICAgICAgICAgICAgICAgICAgICAgICAgICAgICAgICAgICAgICAgICAgICAgICAgICAgICAgICAgICAgICAgICAgICAgICAgICAgICAgICAgICAKICAgICAgICAgICAgICAgICAgICAgICAgICAgICAgICAgICAgICAgICAgICAgICAgICAgICAgICAgICAgICAgICAgICAgICAgICAgICAgICAgICAgICAgICAgICAgICAgICAgIAogICAgICAgICAgICAgICAgICAgICAgICAgICAgICAgICAgICAgICAgICAgICAgICAgICAgICAgICAgICAgICAgICAgICAgICAgICAgICAgICAgICAgICAgICAgICAgICAgICAgCiAgICAgICAgICAgICAgICAgICAgICAgICAgICAgICAgICAgICAgICAgICAgICAgICAgICAgICAgICAgICAgICAgICAgICAgICAgICAgICAgICAgICAgICAgICAgICAgICAgICAKICAgICAgICAgICAgICAgICAgICAgICAgICAgICAgICAgICAgICAgICAgICAgICAgICAgICAgICAgICAgICAgICAgICAgICAgICAgICAgICAgICAgICAgICAgICAgICAgICAgIAogICAgICAgICAgICAgICAgICAgICAgICAgICAgICAgICAgICAgICAgICAgICAgICAgICAgICAgICAgICAgICAgICAgICAgICAgICAgICAgICAgICAgICAgICAgICAgICAgICAgCiAgICAgICAgICAgICAgICAgICAgICAgICAgICAgICAgICAgICAgICAgICAgICAgICAgICAgICAgICAgICAgICAgICAgICAgICAgICAgICAgICAgICAgICAgICAgICAgICAgICAKICAgICAgICAgICAgICAgICAgICAgICAgICAgICAgICAgICAgICAgICAgICAgICAgICAgICAgICAgICAgICAgICAgICAgICAgICAgICAgICAgICAgICAgICAgICAgICAgICAgIAogICAgICAgICAgICAgICAgICAgICAgICAgICAgICAgICAgICAgICAgICAgICAgICAgICAgICAgICAgICAgICAgICAgICAgICAgICAgICAgICAgICAgICAgICAgICAgICAgICAgCiAgICAgICAgICAgICAgICAgICAgICAgICAgICAgICAgICAgICAgICAgICAgICAgICAgICAgICAgICAgICAgICAgICAgICAgICAgICAgICAgICAgICAgICAgICAgICAgICAgICAKICAgICAgICAgICAgICAgICAgICAgICAgICAgICAgICAgICAgICAgICAgICAgICAgICAgICAgICAgICAgICAgICAgICAgICAgICAgICAgICAgICAgICAgICAgICAgICAgICAgIAogICAgICAgICAgICAgICAgICAgICAgICAgICAgICAgICAgICAgICAgICAgICAgICAgICAgICAgICAgICAgICAgICAgICAgICAgICAgICAgICAgICAgICAgICAgICAgICAgICAgCiAgICAgICAgICAgICAgICAgICAgICAgICAgICAgICAgICAgICAgICAgICAgICAgICAgICAgICAgICAgICAgICAgICAgICAgICAgICAgICAgICAgICAgICAgICAgICAgICAgICAKICAgICAgICAgICAgICAgICAgICAgICAgICAgIDw/eHBhY2tldCBlbmQ9J3cnPz7/2wBDAAcFBQYFBAcGBQYIBwcIChELCgkJChUPEAwRGBUaGRgVGBcbHichGx0lHRcYIi4iJSgpKywrGiAvMy8qMicqKyr/2wBDAQcICAoJChQLCxQqHBgcKioqKioqKioqKioqKioqKioqKioqKioqKioqKioqKioqKioqKioqKioqKioqKioqKir/wAARCAHfA0ADASIAAhEBAxEB/8QAHwAAAQUBAQEBAQEAAAAAAAAAAAECAwQFBgcICQoL/8QAtRAAAgEDAwIEAwUFBAQAAAF9AQIDAAQRBRIhMUEGE1FhByJxFDKBkaEII0KxwRVS0fAkM2JyggkKFhcYGRolJicoKSo0NTY3ODk6Q0RFRkdISUpTVFVWV1hZWmNkZWZnaGlqc3R1dnd4eXqDhIWGh4iJipKTlJWWl5iZmqKjpKWmp6ipqrKztLW2t7i5usLDxMXGx8jJytLT1NXW19jZ2uHi4+Tl5ufo6erx8vP09fb3+Pn6/8QAHwEAAwEBAQEBAQEBAQAAAAAAAAECAwQFBgcICQoL/8QAtREAAgECBAQDBAcFBAQAAQJ3AAECAxEEBSExBhJBUQdhcRMiMoEIFEKRobHBCSMzUvAVYnLRChYkNOEl8RcYGRomJygpKjU2Nzg5OkNERUZHSElKU1RVVldYWVpjZGVmZ2hpanN0dXZ3eHl6goOEhYaHiImKkpOUlZaXmJmaoqOkpaanqKmqsrO0tba3uLm6wsPExcbHyMnK0tPU1dbX2Nna4uPk5ebn6Onq8vP09fb3+Pn6/9oADAMBAAIRAxEAPwD6RooooAKKKKACiiigAooooAKKKKACiiigAooooAKKKKACiiigAooooAKKKKACiiigAooooAKKKKACiiigAooooAKKKKACiiigAooooAKKKKACiiigAooooAKKKKACiiigAooooAKKKKACiiigAooooAKKKKACiiigAooooAKKKKACiiigAooooAKKKKACiiigAooooAKKKKACiiigAooooAKKKKACiiigAooooAKKKKACiiigAooooAKKKKACiiigAooooAKKKKACiiigAooooAKKKKAAkAEngCvNLfxF4t8ealeHwdd22j6NZzGEX00IlknYddqkEY6HtwRz2Hot5E01jPFHw7xsq/UjFef/AAUu4f8AhC5dMOI72xupFuITwyknIJH6fhQtZO/RfqD0S9TpvC9p4pszdR+KtSs9RQFfs80EPlueudwAAHbgD8arXfxK8H2WpGxuNcgE6ttbarsqn0LgFR+fFXvGctzB4H1mWxLLOllKUK9R8p5Hviud8A6Roc3wjtFltraS3uLZnu2dAdzZO4sfUc/TFJvRvt/X6Dtsu51mqeINL0bRTq+oXax2ACnz0UyAhiApG0EkHI6VJeaxY6for6tdz+XYpGJWl2McKehwBnv6V4lHLcS/s13YmLNHHehICf8Ann5q/pkmvQPGlxFH8FLl2kULJp8Soc/eJ24xRLSMmun6q4o6yiu/6Ox0k3ijR7fS7DUZrzbaajJHHayGN/3jOMqMYyM++Peo7HxfoOpardadY6nFPc2aGScKDtRQcE78beM9jXmnjOPzfgf4Tj3Fd8touR1GY2r0l/CGkJ4budHsLSGyiuLZrZpIIwHwRjJPUnvz1qpKzlbo2vwBO/L5pP8AEz4/if4Nl1AWaa7CZi2wfu32E/7+3b+Oa29a8QaV4dsxda1fRWkJOFLkksfQKOT+ArzcXWufDPSrWx8SaVYax4dhlVI7y3ULJFlsqWQ8E/1/izTPFzare/GvSo9MGnPKmn+ZZLqm/wAksSxJAXndxx9PpS3tb+tL7Bte/wDXQ9E0HxZofidJG0LUY7sx/fQBldR6lWAOPfFaN/K8OnXMsZ2ukTMpx0IBxXB6b4U8WyfEWy8Sa2+hwrFC8NwummUNMpU4yHHJBx3HA9q7nU/+QRef9cH/APQTUz0hddiofHY8t8Kz/EbxP4VTW7LxVbhmZwtrNYxAMVOMFgvGcV1HhT4hW2p+AZPEGvlLIWkphu2jVmUNkAEAZODuXjmuH+Hdh46vvAcMPh/UtLsdNkkkUSSI7XCfMdxHylfpzW94q8L2/hD4F6lpdtK05GySWZhgyOZUycduwx7Vcnyp/ImC5ml5/gdpF4v0GfxBHokGpRy6jIpYQRqzYAGeWAwDjnBOaq6v8QvCuhagbLVNYiiuVOGjRHkKH0baDtPsaj8JaBYaP4NsZdNsoBeNZLIZ/LHmSSMmSS3U5JrnPg1Y2F34Jubm5hiuL25u5VvXlQMzHj5Wz2wc49zQ17zj2/zEneKl3PQrXUrK909b+0uoZrRlLidHBTA6nPtXMyfFXwVFM0b64mVJBZYJWU/RguD+BrifDGny6h4T8f6PpU6Q2K3cq2js+2NRySM9Au1VGfQ1FJcXvi74YaV4X0nw1qKXKrCovZYAlqmw/NIsucHPPTrk9e63enl+P+RW2/n+H+Z6fF4x0Ga1065j1BTDqcjRWjmNwJGGQRyOOh5OKfo/ivRPEF1d2+jahHdvZ488orbVznGGIww4PIJrifivYLdyeD9PunZ0m1FIJWBILA7VNbfjuxg0P4Y60ugWUNofswQi3jCfJkBun+yWpSdlJ9v8l/mEU20u/wDmWj8S/B41P7AdetvP3bc4by8/9dMbP1rX1rxFpPh2yW71q+itIWOFLZJc+wGSfwFeY6R4f8X618NbXS7GLwmdJurUbGIn80Ej75IBHmA9T61t6j8P9ZudA8NyW+oWv9uaAmEMymSCXpwSRnoo5x/jVNW0JTudVoHjLQPFDypoWopdPENzpsZGA9cMAce9Z9z8T/BtpftZza7D5yttOyN3QH/fClf1qh4Y8Sz6n4ivvD3iXRItM1tbXdJNbkMk8XTIbqPvcDJ79DxXPCx1/wCF2izwT6dYeIPDCuXkO0JPGrEDLA5DDn3+oHRafIZ6zHIk0SyRMHR1DKynIIPQ1454w8c2eo/EFNLk8VXekaHaQkTT6dvDvOCcruUE+nYjg165pt7BqWlWt9aZEFzCksYIwQrAEcfQ1wI/5OKb/sD/ANaGvfS9fyYJ+636fmjpW17RfCHhuxbWtcZ4mjHl3F0zPNOOu7AG49R24q3oPirRPE8bvoWoxXfl/fUAqy+5VgCB74rilhivv2hblNXRJVt9NVrBJRkA/LkgHvkv/kUazDDYfHnw+2lIkU91ayfbViAG9MNgtj6f+OimtWr9b/r/AJA1ZPyt+n+Z195428O2H2/7bqkcH9nyLFch1YFXYZCgY+YkAn5c9K1NP1C21XToL6wk822uEEkT7Su5T0OCAR+Nea+GtD0/VfjF4tuNStY7o2rxeUkyhlUsPvYPGeOD7mvUY40hjWOFFjRRhVUYAHoBSXwpvrYH8TXY5fQdU1S68e+KLC8uPMsrH7P9lj8tRs3oWPIGT+JNcZ4OuviB4x0ebUrbxdDarHcPCIpNPibOAD1C+9euH7p+leKfDHwXH4i8KXVxJrut2A+2SRmCxu/LibheSu05PP6Ulu12Q3tfz/Rnb/DvxRquvf2vYa8sDXmk3P2d7i3GEl6jP1yp6Y6jgVf1D4jeE9K1M6ffa1AlyrbWVVdwh9CyggH6niuN8DXl1pFj4x8N2Pkzto6SNbXUMQR5X2sBvx1YFQM9eDWd8PdP8V3ngDytEh8LzWF20iz/AG4TGZ2yQRJt4zjp7Yp3vquyf9dhWto+7R6xqPiDS9K0lNUvbxEsZCgSdAZFbd93G0HIOevSq9v4t0K71+XRbXUY5tQhRnkijVmCgdcsBtyPTOa808U+H9R8MfAZtJ1aeGaaG7Qq0DMyqpkyACwB7mvStE8P6XomixR6dZQxOtvhpVjG9yRyWbqST60PRN9v8rhrdLv/AJmfP8TPCFtYW95NrcSxXGfLxFIXOCVJKBdwGQeSBW9p2rWGraamoaddxXFo4JEqNxx1z6Y9D0rz74K6RYnwNPdSWsUkt3cyLKzoCWUYAXnt1496p/D/AFe28KeB/FV9LGz21hqkwSFT1+6qqPTJwKHZX9L/AJf5hu9O9vz/AMjrR8UfBhvhaDXoPNLbd2x9mf8Af27ce+cVu6nrenaNDbS6lciGO6nS3hbazBnb7o4BxnHU8V5X4nm8Sal8Lbi+m03w7puiTQLNHbKHM6KSCu0jCBuR270/x2puPgr4UV3bMklmC+eeYW5p2e3W6X3hpv0s/wAD0jTvFmh6vrNxpWmahHc3lqpaVI1YhQCAfmxtPJHQ1l3fxE8LSz3Ol22uQfbtjogXcF34OAJMbc59D1o8RaPZ+Hfh3q66BZQ2jxafIqtDGFbG3kkjknvk96yfBej6HL8GYFkt7d7ee0eS6dlHL/NuJPqOx7YFRL4X5L/P/IqO683/AJFv4T6lc33w4t7zVb2W4k8yXfPcyl2wGPVmPQCrsfxM8HS6kLFNetzMW2glXEZP/XQjb+teb2ktzD+zLObQsN07LIV67DMAf8PxrttZ0jQl+C8yR29v9kj0zzoXCD7+zKuD/eLY56nNXN2vLtb8iIq9l3v+ZZ+KGuapoPhOK60K6FtdSXccQkKK4w2ezAj0q38PfEF14h8KpJqjbtStZntrz5Qv7xT6DgcEV594imuZ/gF4dkvSxlNxAMseSoLBf/HQK17zWY/h7478QPPhLPVLH+0LZTwGuFGCo92PP5Uvhck+7/BJ/wCY/iUWuy/Ftf5EGr+Otdf4p21hpd4sWirqEVhInlI3mvwZOSpIxnHB9K9G1zxJpHhu1W41y/itI2OE35LP9FGSfwFeTyaPJo9v8PRdA/bLzVDeXLMOTJIUbn3AwPwrfnhivv2hBFq6LLHBpgexjlGV3ZGSAe/3/wAvamk0lHrd/gk2DabcvL9WjtNB8W6F4nSRtC1GK7Mf30AKuo9SrAHHvimXnjLw/p82oRX2pRwPpuz7SJFYbC4yoHHzEgdFya47xFDDYfHDwxJpSJFdXUUovFjGN8eDgsB16Hk/3R6VBpeiWGr/AB28RyalbR3S2sELxxyqGQOUQbsHgkDOPrSXvWt5/gD0vfy/E7tvFmhp4di12TUYotNlGY55AU38kYCkZJ4PGM1FoPjTw94nleLQ9TjuZYxuaMqyPj12sASPcVwfxIiuz8QvCen6bFp6RKrtbRXysLYy56MF+i4x3IrSPhTxnqXjXRtc1hvD8B09yHbTzMsksZ4KncDnjOOR1NONnr0uKV1p1sdXf+NPD2mXN9b6hqkVvLYBDcLIrDbvGVA4+YkdlyafoHi3QvFCyHQtRjuzF99ArIyj12sAce+K4rTNNtb39oPXp7qFJWtbOJ4g6ghWKRjcPfGfzqaG1hs/2hn+yxrCLjSDJKEGA7bsZP5ClHVK/X/g/wCQ5aXt0t+Nv8zqtd8b+HPDNwsGtarFbzMMiIK0jgepVQSB9auWetWWuaLJe6FexXMZRgkkZztbHQg9D04NcJ8MreC88U+L7vUo0l1RdRaNjIoLJHlgAM9Bxj8BTvBccdl8YvFllpSrHpwjjd44xhElwucAcDkvSS5lburjbs79mdP8PtT1DWPAmnahrE/n3k6uzybFXPzsBwoA6AVV8ba/f2d7pGhaDMINT1a42iYoH8iJeXfBBBOPUetddXn99iT4/wCmibOI9Hdogem4swP6Zqm7zX9eZO0X/W+h1HifWl8N+E77U5W3NbQEoWx879FH4sRXK/DjxNrt5qV5o3i+cS34t4b23by1TMTqCRhQBwSPxJ9KpfFi7vNV1TRfCukWn2+4mk+2z2okCeZGnRSxOADhuvoKyNc1fxLpfjPQ/FPiDw4mj20D/Yp5Y7tJg8b54IU5GPmNKGr166f189By0WnTX+vkdd4t8Ra3L4ssfCfhSWG1vbiE3FxeTIHEEYJxhTwTx39R9aj8OeINe03xvJ4T8W3MN9LLb/abO+iiEZkXurKOOx/LvmqpItf2hVadsLe6RiAk8MQeQP8Avkmm6wftf7QOgxwHc1pp8jzY/gBDgZ/MfmKI9PO/6/5BLZ+Vv0/zKvxE8e+IbCO8Hhq1extdPmWK51C5iH7yRsYSNWBBGDknHT04z3uq2+q6h4f8vRdRXTr51RluWhWQL0J+U8cjIrkvjZ/yTl/+vqL+ZrvbX/jzh/65r/KlHWL9f0Q5aSXo/wAzy/xX/wAJ54T8Oz6rd+OIZRGQqRLpkIMjE4Cj5f8AOK0NW8S+J9P0vw1oVu0LeJNYj/fXM6DbBgZY7QMZGfTHynima4f+Ez+K9hoafPpuggXl53V5v4VP04/Nq2/GvhG816603VdDvY7LV9LctA8ykxuDjKtjkDj0PU+tNbJvZv8AD/h/wE97Le34mRFrfijwj4r0zTfFmoW+r6fqz+TDdpAIXhl4wpC8EEkfnntiuq8VeI4fDOiPduhmuJGEVrbL96eVvuqB/P2rzfxJZeINQ8c+FLLxDqFnPffbBMLPTkYRQRIQzSMW+Yk44zwNp9au3Gu3p+Il1qet+FvEN5BpzNBpcdpp5kjXnDTZOMs2OMdBRukn5/dp/wAN/wAMGzv6f1/X6mv8NfEusappOuTeKblZJtPvHjbbGqiNVXLAbQMgHPJzWTYax4+8VaNc+J9F1CzsLJWc2mmtbK5nRCc7nIyCcEcHr6Vk+BdVlv7HxjpcGlakkmoz3cizmDEcDFDhJGz8r9sV13wvv7ZPhDaTPIqpaxzCYk/cw7E5/Ag/jSd+Vy7Jf1+A1ul5sh1Hx7c3nwZl8UaYwtL7Yq8KGEcnmBGwGBBHUjPY1NpGjePpfsN5e+MoZIH8uWW3/s6IFlOCU3AZHHGayfhn4dtNf+ER0/WY3a0vLuSRQrlSQGGCCPdTWd488H6b8P8ASYPEPhO5udOv4rhIwnnsyzg9QQevTOOmM8VbtGWvW39feSruNl5nV+LfEWty+LLHwn4Ulhtb24hNxcXkyBxBGCcYU8E8d/UfWo/DniDXtN8byeE/FtzDfSy2/wBps76KIRmRe6so47H8u+aoxO0Hx+hlvB5ZvtGHlA/3gclR/wB8mnawftf7QOgxwHc1pp8jzY/gBDgZ/MfmKUdGk+t/wv8A5Deqb7W/T/M2dS8Ratqeu3Oi+Elto/sQH2/U7sFo4CRnYqj7z4554Hesq2ufERmb+xviDo3iC7QE/wBnSW8KCTHUBo23A/5Nc08c8/wzv8JNIn/CRyNrKwgmQxB/nzjnpt/Cp7zWfCkPjDw9rmg2cdvoWnNKl5f29g0cYd4yEU4UFjx743D1qY6pf10v/wABDl1+f4Ox2g+IenJ4Gl8QXo+xyRM8ElrLkstyuf3XHU5H5c8UzwN8QtN8W2ltbG6j/tkwGW5tooZFVMHBwWGO47msC3t53+GHjTU5IHgi1WW7u7eN0Kt5RXCsQemcZre8FyTRfB6wktBmdNOcxgf3gGx+tNuycn2X5MVrtJd3+aLup/ETwnpGpGw1DWoY7lTtZFV3CH0YqCAfqa3kvbWSxF6lzE1qY/ME4cbNmM7t3TGO9eN/Dmy8V3ngdxocXhiezupJFuf7QEzTSNnBEm3g8Yx7EVL4m0LWPCHwLl0m/uIpW+2qGNs7Mqws2duSAfvfzoei130/EFq9DvrT4k+Er/Vk0201mOW6kfy0VYpNrNnAAbbtP511FZOj6Ro8Gj2C6fZ2pt4o0e3dY1OOOGB9T1zWosqNI0aupdMblB5GemRTatoJO6uc3dfEbwnZ2rXFzrMSIs725HluX3r94bQu7AyOcY96dc/EPwpaaVBqM+t24trgkRFQzs2OvyAFhjvkcVyvwl0uzkm8TXs1vFJO+qSwF3QEhBzjnsd1R/CPRdPivvFMy2sRePUpLZCyA7IwT8o9Bz+gqVdpel/y/wAxvT77fn/kd3D4p0a58PSa5a3yz6dEpaSaJGcoB1yoG4Y6kY4FO/4SfRv+Ea/4SD7fH/ZezzPtGDjGcdMZznjGM54xXGfCm3it7rxdZxooto9WkRYsfKF5GMemBivP8WP/AAln9li5uf8AhBDrH3tv7rztv3N39zP6c+9PdpLql+n+YbJt9G/1/wAj1Lxb4putO0XS/FWi3Dy6Osq/bIHg2+bC5wHG5QwIOMdAcjtXaRyLLEkkZDI6hlI7g1zXxDih/wCFa60jBVjWzbaAOAR939QKueDHkk8C6I033zYQ5/74FNdf63/4YXb+v63NuiiikMKKKKACiiigAooooAKKKKACiiigAooooAKKKKACuQ1z4Z6FrWrHVEa80y+c5kuNOm8ppPc5BGfcDnvXX0UAYHhrwfp/heK6W0mu7uS7IM817N5jvjOAeAO57ViT/CPw/JNMLe61Szsp33y6fbXe23c+64J/X6YruqKOtwMuTw3pMnhs6AbJBphi8ryFyAF69euc85655rmYfhHoKWb2lxeareW3lskMNzdb0tsgjdGu3AYZ4JBxXdUUb6htoc1qPgXTNT8L6boU892trpzxvE6OodigIG4lcHrzgCtzUrCDVdMubC7DGC5jaOQK2DgjBwe1WaKHruC0OJi+FmkmaE6jqutarbwOHjtL698yEEdPlAH862vEvg/SfFUMK6nFIs1ud0FzA+yWE/7Lfh0ORW5RQBzWg+CLTQtT/tA6pq+pXIjMaNqN2ZdinGcDA9K6GeFbi3khckLIhQkdcEYqSih6qzBaO6Mjwx4bs/CmhR6Vp0k8sEbMwadgWyxyeQAP0qTxFoVt4m0G50i/eaO3uQodoSA4wwYYJBHUeladFD13BabENlapY2FvaQljHbxLEpY8kKMDPvxXJan8L9Ev9SuLy1utS0p7v/j5j0+58pJyeu5SD19sV2dFD1d2C0VkcH4vgtPAXwvurXQdMja2YiGRZAzKFk4Z3wcnjjr3Fcddafo2h+Fmm0v4p3xlt4MwW0GoAqWA4URK2QCeMdu9e2OiyIySKGVhgqRkEVmW3hnQbO5FxZ6Jp0E6nIlitI1YH6gZpa6j0Vjn9M0Kbxf4Z8M6j4pa4h1KxdbsCPam9wcjeCp6gAkDHU12M0UdxC8M6LJHIpV0YZDA8EEU+iqdnclXSRw//CqNHhaRNP1XXNPtJG3NZWl+VhPrwQT+tamr+B9P1aDT0S91LTn0+LyYJrG5MbhMAYJIOfuiukopDOb0LwLpWhS3dwkl5fXl5H5U15fTmWVk/u7uMD8PT0rK/wCFT6S8a29zrGvXNgpB+wS35MGB0G0DOPxruaKAGQwx21vHBAixxRqERFGAoAwAKxx4Vsh40Pibzbj7abb7N5e5fL2+uMZz+NbdFHW4dLHP+JfBek+KXgmvhPb3lv8A6m8tJPLmjHoG/wAQcdqj8OeBtJ8NXk19btdXuoTjbJe303mykemcADp6V0lFC02B67mNpfhiy0nxBqusW0s7XGqFDMsjKUXaMDaAAR17k1s0UUdLB1uB5rz2D4OaTaxvHaa94gt43Ys0cV4iKSevASvQqKB36GN4a8KaT4S09rTRoCgkbdLJI255T6sf6dKxLj4XaO19Pc6Xf6to32ht00Om3nlRufUjB/IcV2lFD1dxbKxzd/4F0vUPByeGpJbtLJGDb1lBlJDbslmBzkk9q6FYgsAiGdoXbnvjGKfRQ9b+YGP4X8NWfhPRRpmnSTywiRpN07AtluvQAfpVTTvA2kafpGq6YfOurXVZ3muEncHlsZClQMDjjv710dFD13DY4eH4T6GljJZXN9q17a+WyQwXV3vjtsgjdGuAAwzwSDitXU/BGm6t4Z03Q7ie6W201omheN1DsY12ruJUg8HnAFdHRTuwGyIssbRyKHRgVZWGQQe1cXbfCjw/aXUhim1IWMj+Y+mfaz9lY+6YyfoSa7aikBh6J4S0zQvDJ0CFZLqwbfuS6IYsHOSDgAY59KwF+EPh4Msb3WqyaesnmLpr3hNup/3cZ/XNd3RR1uBh+IvCeneJNEh0q6MttawSJJGLUqu3YMAcgjHPpUPinwRpPi9rE6t5wNjJvj8pgN4OMq2Qcg4HTFdFRR/w4GNrXhey13UNKvLuSeOTSp/PgWJlCs3HDZB44HTFQ+JvBuleKvIfUBNDdW5zBd2snlzRfRv8Qa36KAOa8O+BNJ8OX8uoQvd32oTDa17fzebLt9M4A/TNXLHwxZaf4q1HX4ZZ2utRRElR2UooUADaMZ7dya2aKAMjxH4X0rxVp62msQGRUbdFIjFXib1Uj/8AVWZo/gCz0jVoNQfV9a1KW2z5K3975iR5UqSBgdiRXVUULTYHqY1p4XsrPxdf+IopZzd30SxSIzL5YCgAYGM5+UdzQfDFkfGQ8S+bP9tFr9l8vcvl7M5zjGc/jWzRR28gOU1z4eaRrWrHVEuL/S7912y3Gm3HktKOmG4INaXhrwrpXhSxe20iFl81t800jbpJW9WP+RWzRQtNgeoVxPjnTL2217Q/FWk2st3NpspiuYIELySQPwSqjkkZPHv7V21FHVMOljCtPC1jF4uuPE4lupb26gEISYjZEnHCrtBHTue5qz4j8P2fijQp9J1LzBBPjLREBlIIIIJBGePStSiiytYNb3Oa1jwHpOuaTYWd/JdGXT0Vbe+jlC3CYAGdwGMnA7VJ4Z8E6V4WmuLmza5ur254mvLyXzJXHpnAGPwroaKd9bitpYxvFPhiz8W6KdM1KWeKAyLJut2AbK9OoI/SteNBHEqLnCgAZp1FIZh+HPCdj4Zkv5bSW4uLjUJzPcT3LKzsfTIA45P5mpvEPh9fENnFA+pajp3lSeYJdPuPKc8EYJweOela1FHkHmc94c8EaP4YuJbqzWa4vpxiW9u5fMmceme34AZroaKKAMbw94YsvDbag1jLPIdQumupfOZTtduoXAHH1zWBffCbw/e3086TajZwXT77iytbnZBKc55XB/Qj2xXcUUAYeqeD9J1Xw5DojxSW1nblTALaQo0RXoQfXk9c1j6d8LdDs9Thvr261LV5rc7oRqNz5qxn1AAH65rtKKOtw6WMLxP4P0vxZFANRE0U9s26C6tpNksR74PPp3FR+GfBOleFpri5s2ubq9ueJry8l8yVx6ZwBj8K6GihabA9dzkb/wAKapY65c6z4O1GGznvCGurK7jL287jgPx8yN6kdaksIfHk19D/AGvdaDbWiOGkFlFLJJIAeVy5AGemecV1VFC0B6kV1bQ3tpNa3UYkhmQxyI3RlIwR+Vc34a8Aaf4VvTNpuoao8IVlS0nud0Ee45JVcDn3rqaKNncN1Y4y6+GGjyajPeaZf6torXB3TR6Zd+Ukh9SMH9OK3Lbwvpdv4Y/sCSFrmwZWV1uHLtJuYsSW65yc57dq16KOlg63OK0z4W6PpWoW1xBqOryQ2solhs5bvMCMDkfLjPB962NP8I6dpnivUPENu05vNQQLKruCijj7oxnnA6k1u0UAY3hzwxZeGI71LCWeQXt011J5zKcM3UDAHHFHh7wxZeGm1BrGWeQ6hdNdS+cyna7dQuAOPrmtmigDmrfwPY2llrdvaX1/D/bUzTXEiSJvQt1CHbwOSOcn3p//AAg2if8ACFf8Iv5LfYNm3dkeZuznzM4xuzznGPbHFdFRStpYd9bnAeMdG1B/CumeDdI+3XovJEimvp13eTAhyS7hQueAAOpx3Nd1bW8dpaQ20A2xQosaD0AGBUtFVffzF2CiiikAUUUUAFFFFABRRRQAUUUUAFFFFABRRRQAUUUUAFFFFABRRRQAUUUUAFFFFABRRVWPU7ObU5dPiuFe6hQPJEvJQHpnsD7delAFqis+LXdPn1E2UczmbcyAmFxGzL1VZCNrMMHIBJGD6Gi213T7u8a2gmYuu4hnhdEfacNscgK+O+0nFAGhRWfba7p93bmaCZyiyLFhoXVizY24UgEg5BBxgjnOK0KACiiigAooooAKKKKACiiigAooooAKKKKACiiigAooooAKKKKACiiigAooooAKKKKACiiigAooooAKKKKACiiigAooooAKKKKACiiigAooooAKKKKACiiigAooooAKKKKACiiigAooooAKKKKACiiigAooooAKKKKACiiigAooooAKKKKACiiigAooooAKKKKACiiigAooooAKKKKACiiigAooooAKKKKACiiigAooooAKKKKACiiigAooooAKKKKACiiigArKS2MXikyxwbImtDl1TClzJk8+vetWigDkrWOd4rHSPs10lzaXrTSzNA4jCBnO4SEbW3BgMAk/MeBg0afBLcw6Npb211FJp24XUjwMiYEbR/K7Da+4sD8pPHXFdbRQBwsui3kM0lxfzXU1tbyxxH7HBJFIyqm3coQlzjgbl65fjFb+oS3cHgG7lmeSO8j012ZwcMriMnOR0Oa26y/FH/Ioax/14z/+izQBF/YFp/z31L/waXP/AMco/sC0/wCe+pf+DS5/+OVpUUxGb/YFp/z31L/waXP/AMco/sC0/wCe+pf+DS5/+OVpUUAZU2hWqwuy3GpAhSR/xM7n0/66V4Z/wlGv/wDQc1L/AMC5P8a+hJ/+PaX/AHD/ACr5nrkxEmrWZ7+T0qdRT54p7bq/c1P+Eo1//oOal/4Fyf40f8JRr/8A0HNS/wDAuT/GsuiuX2k+5731XD/8+19yNT/hKNf/AOg5qX/gXJ/jR/wlGv8A/Qc1L/wLk/xrLoo9pPuH1XD/APPtfcjU/wCEo1//AKDmpf8AgXJ/jXXfDq8v9e164t9V1TUp4ktjIq/bplw25RnKsOxNee13vwi/5Gi7/wCvNv8A0NK0pTk5pNnHjsPRjhpyjBJ27I9N/sC0/wCe+pf+DS5/+OV5T431XVNI8XXVlp2ralDbxhCqfbZWxlATyWJ6mvaK8N+JP/I+33+7F/6LWunENqGh4mU04VK7U1dW6+qMn/hKNf8A+g5qX/gXJ/jR/wAJRr//AEHNS/8AAuT/ABrLori9pPufT/VcP/z7X3I1P+Eo1/8A6Dmpf+Bcn+NH/CUa/wD9BzUv/AuT/Gsuij2k+4fVcP8A8+19yNT/AISjX/8AoOal/wCBcn+NXNJ8Q63da1ZQT61qTRS3EaOv2yQZBYAjhq5+r+g/8jHpv/X3F/6GKanO+5FTC0FB+4vuR73/AGBaf899S/8ABpc//HK4v4kefoGn2Uuk6hqVu8srK5/tCZsjH+05r0avOvjB/wAgnTf+u7f+g131W1BtHyWAjGeJhGSuv+Aeef8ACUa//wBBzUv/AALk/wAaP+Eo1/8A6Dmpf+Bcn+NZdFef7Sfc+w+q4f8A59r7kan/AAlGv/8AQc1L/wAC5P8AGj/hKNf/AOg5qX/gXJ/jWXRR7SfcPquH/wCfa+5Gp/wlGv8A/Qc1L/wLk/xo/wCEo1//AKDmpf8AgXJ/jWXRR7SfcPquH/59r7ke5+FdOTUvCtheXt3qUk80W53/ALSuBk5PYPipfEOlxWPhvUbq1utSSaG2d42/tK4OGCkg4L4qbwP/AMiRpf8A1x/qan8Wf8ifq3/XpJ/6Ca9FfBfyPjZRX1pxtpzfqeHf8JRr/wD0HNS/8C5P8aP+Eo1//oOal/4Fyf41l0V53tJ9z7L6rh/+fa+5Gp/wlGv/APQc1L/wLk/xo/4SjX/+g5qX/gXJ/jWXRR7SfcPquH/59r7kan/CUa//ANBzUv8AwLk/xo/4SjX/APoOal/4Fyf41l0Ue0n3D6rh/wDn2vuR6h8NZLnxAmpHV9R1K4MBj8v/AE+Zdud2fusPQV3X9gWn/PfUv/Bpc/8AxyuF+Dn+r1f6w/8As9emV6FFtwTZ8jmMYwxUoxVlp+SM3+wLT/nvqX/g0uf/AI5R/YFp/wA99S/8Glz/APHK0qK1OAzf7AtP+e+pf+DS5/8AjlH9gWn/AD31L/waXP8A8crSooAzf7AtP+e+pf8Ag0uf/jlH9gWn/PfUv/Bpc/8AxytKigDN/sC0/wCe+pf+DS5/+OUf2Baf899S/wDBpc//ABytKigDN/sC0/576l/4NLn/AOOUf2Baf899S/8ABpc//HK0qKAM3+wLT/nvqX/g0uf/AI5R/YFp/wA99S/8Glz/APHK0qKAM3+wLT/nvqX/AINLn/45R/YFp/z31L/waXP/AMcrSooAzf7AtP8AnvqX/g0uf/jlH9gWn/PfUv8AwaXP/wAcrSooAzf7AtP+e+pf+DS5/wDjlH9gWn/PfUv/AAaXP/xytKigDN/sC0/576l/4NLn/wCOUf2Baf8APfUv/Bpc/wDxytKigDN/sC0/576l/wCDS5/+OUf2Baf899S/8Glz/wDHK0qKAM3+wLT/AJ76l/4NLn/45R/YFp/z31L/AMGlz/8AHK0qKAM3+wLT/nvqX/g0uf8A45R/YFp/z31L/wAGlz/8crSooAzf7AtP+e+pf+DS5/8AjlH9gWn/AD31L/waXP8A8crSooAzf7AtP+e+pf8Ag0uf/jlH9gWn/PfUv/Bpc/8AxytKigDN/sC0/wCe+pf+DS5/+OUf2Baf899S/wDBpc//ABytKigDN/sC0/576l/4NLn/AOOUf2Baf899S/8ABpc//HK0qKAM3+wLT/nvqX/g0uf/AI5R/YFp/wA99S/8Glz/APHK0qKAM3+wLT/nvqX/AINLn/45R/YFp/z31L/waXP/AMcrSooAzf7AtP8AnvqX/g0uf/jlH9gWn/PfUv8AwaXP/wAcrSooAzf7AtP+e+pf+DS5/wDjlH9gWn/PfUv/AAaXP/xytKigDN/sC0/576l/4NLn/wCOUf2Baf8APfUv/Bpc/wDxytKigDN/sC0/576l/wCDS5/+OUf2Baf899S/8Glz/wDHK0qKAM3+wLT/AJ76l/4NLn/45U/hyWSfwtpUsztJJJZQs7ucliUBJJ7mrdUvC/8AyKGj/wDXjB/6LFAzUooopAFFFFABRRRQAUUUUAFFFFABRRRQAUUUUAFFFFABWX4o/wCRQ1j/AK8Z/wD0Wa1Ky/FH/Ioax/14z/8Aos0AXaKKKYgooooAjn/49pf9w/yr5nr6Yn/49pf9w/yr5nrjxXQ+kyTap8v1CiiiuM+iCiiigArvfhF/yNF3/wBebf8AoaVwVd78Iv8AkaLv/rzb/wBDStaXxo4cw/3Wfoev14b8Sf8Akfb7/di/9FrXuVeG/En/AJH2+/3Yv/Ra11Yn4DwMm/3h+n6o5WiiiuA+tCiiigAq/oP/ACMem/8AX3F/6GKoVf0H/kY9N/6+4v8A0MU1uZ1PgfofRtedfGD/AJBOm/8AXdv/AEGvRa86+MH/ACCdN/67t/6DXpVv4bPjMu/3uH9dDyiiiivMPtwooooAKKKKAPfvA/8AyJGl/wDXH+pqfxZ/yJ+rf9ekn/oJqDwP/wAiRpf/AFx/qan8Wf8AIn6t/wBekn/oJr1F/D+R8LL/AHt/4v1PnqiiivLPugooooAKKKKAPUPg5/q9X+sP/s9emV5n8HP9Xq/1h/8AZ69Mr0qH8NHxWZ/73P5fkgooorY84KKKKACiiigAooooAKKKKACiiigAooooAKKKKACiiigAooooAKKKKACiiigAooooAKKKKACiiigAooooAKKKKACiiigAooooAKKKKACiiigAooooAKKKKACqXhf/AJFDR/8Arxg/9FirtUvC/wDyKGj/APXjB/6LFAGpRRRSGFFFFABRRRQAUUUUAFFFFABRRRQAUUUUAFFFFABWX4o/5FDWP+vGf/0Wa1Ky/FH/ACKGsf8AXjP/AOizQBdooopiCiiigCOf/j2l/wBw/wAq+Z6+mJ/+PaX/AHD/ACr5nrjxXQ+kyTap8v1CiiiuM+iCiiigArvfhF/yNF3/ANebf+hpXBV3vwi/5Gi7/wCvNv8A0NK1pfGjhzD/AHWfoev14b8Sf+R9vv8Adi/9FrXuVeG/En/kfb7/AHYv/Ra11Yn4DwMm/wB4fp+qOVooorgPrQooooAKv6D/AMjHpv8A19xf+hiqFX9B/wCRj03/AK+4v/QxTW5nU+B+h9G1518YP+QTpv8A13b/ANBr0WvOvjB/yCdN/wCu7f8AoNelW/hs+My7/e4f10PKKKKK8w+3CiiigAooooA9+8D/APIkaX/1x/qan8Wf8ifq3/XpJ/6Cag8D/wDIkaX/ANcf6mp/Fn/In6t/16Sf+gmvUX8P5Hwsv97f+L9T56oooryz7oKKKKACiiigD1D4Of6vV/rD/wCz16ZXmfwc/wBXq/1h/wDZ69Mr0qH8NHxWZ/73P5fkgooorY84KKKKACiiigAooooAKKKKACiiigAooooAKKKKACiiigAooooAKKKKACiiigAooooAKKKKACiiigAooooAKKKKACiiigAooooAKKKKACiiigAooooAKKKKACqXhf8A5FDR/wDrxg/9FirtUvC//IoaP/14wf8AosUAalFFFIYUUUUAFFFFABRRRQAUUUUAFFFFABRRRQAUUUUAFZfij/kUNY/68Z//AEWa1Ky/FH/Ioax/14z/APos0AXaKKKYgooooAjn/wCPaX/cP8q+Z6+mJ/8Aj2l/3D/KvmeuPFdD6TJNqny/UKKKK4z6IKKKKACu9+EX/I0Xf/Xm3/oaVwVd78Iv+Rou/wDrzb/0NK1pfGjhzD/dZ+h6/XhvxJ/5H2+/3Yv/AEWte5V4b8Sf+R9vv92L/wBFrXVifgPAyb/eH6fqjlaKKK4D60KKKKACr+g/8jHpv/X3F/6GKoVf0H/kY9N/6+4v/QxTW5nU+B+h9G1518YP+QTpv/Xdv/Qa9Frzr4wf8gnTf+u7f+g16Vb+Gz4zLv8Ae4f10PKKKKK8w+3CiiigAooooA9+8D/8iRpf/XH+pqfxZ/yJ+rf9ekn/AKCag8D/APIkaX/1x/qan8Wf8ifq3/XpJ/6Ca9Rfw/kfCy/3t/4v1PnqiiivLPugooooAKKKKAPUPg5/q9X+sP8A7PXpleZ/Bz/V6v8AWH/2evTK9Kh/DR8Vmf8Avc/l+SCiiitjzgooooAKKKKACiiigAooooAKKKKACiiigAooooAKKKKACiiigAooooAKKKKACiiigAooooAKKKKACiiigAooooAKKKKACiiigAooooAKKKKACiiigAooooAKpeF/+RQ0f/rxg/8ARYq7VLwv/wAiho//AF4wf+ixQBqUUUUhhRRRQAUUUUAFFFFABRRRQAUUUUAFFFFABRRRQAVl+KP+RQ1j/rxn/wDRZrUrL8Uf8ihrH/XjP/6LNAF2iiimIKKKKAI5/wDj2l/3D/Kvmevpif8A49pf9w/yr5nrjxXQ+kyTap8v1CiiiuM+iCiiigArvfhF/wAjRd/9ebf+hpXBV3vwi/5Gi7/682/9DStaXxo4cw/3Wfoev14b8Sf+R9vv92L/ANFrXuVeG/En/kfb7/di/wDRa11Yn4DwMm/3h+n6o5WiiiuA+tCiiigAq/oP/Ix6b/19xf8AoYqhV/Qf+Rj03/r7i/8AQxTW5nU+B+h9G1518YP+QTpv/Xdv/Qa9Frzr4wf8gnTf+u7f+g16Vb+Gz4zLv97h/XQ8oooorzD7cKKKKACiiigD37wP/wAiRpf/AFx/qan8Wf8AIn6t/wBekn/oJqDwP/yJGl/9cf6mp/Fn/In6t/16Sf8AoJr1F/D+R8LL/e3/AIv1PnqiiivLPugooooAKKKKAPUPg5/q9X+sP/s9emV5n8HP9Xq/1h/9nr0yvSofw0fFZn/vc/l+SCiiitjzgooooAKKKKACiiigAooooAr3V/Z2O37bdwW+/O3zpAm7HXGevUVB/b+j/wDQVsf/AAJT/GuC+Mf+r0j6zf8AsleX1y1K7hLlse5hMrjiKKqOVr/5n0b/AG/o/wD0FbH/AMCU/wAaP7f0f/oK2P8A4Ep/jXzlRUfWX2Or+xIfzv7j6N/t/R/+grY/+BKf40f2/o//AEFbH/wJT/GvnKij6y+wf2JD+d/cfRv9v6P/ANBWx/8AAlP8auxSxzRLJC6yRuMq6HIYeoNfMtfQvhP/AJE/Sf8Ar0j/APQRW1Kq6jtY8/HYCOFgpKV7mvRRRW55IUUUUAFFFFABRRRQAUUUUAFFFFABRRRQAUUUUAFFFFABRRRQAUUUUAFFFFABRRRQAUUUUAFUvC//ACKGj/8AXjB/6LFXapeF/wDkUNH/AOvGD/0WKANSiiikMKKKKACiiigAooooAKKKKACiiigAooooAKKKKACsvxR/yKGsf9eM/wD6LNalZfij/kUNY/68Z/8A0WaALtFFFMQUUUUARz/8e0v+4f5V8z19MT/8e0v+4f5V8z1x4rofSZJtU+X6hRRRXGfRBRRRQAV3vwi/5Gi7/wCvNv8A0NK4Ku9+EX/I0Xf/AF5t/wChpWtL40cOYf7rP0PX68N+JP8AyPt9/uxf+i1r3KvDfiT/AMj7ff7sX/ota6sT8B4GTf7w/T9UcrRRRXAfWhRRRQAVf0H/AJGPTf8Ar7i/9DFUKv6D/wAjHpv/AF9xf+himtzOp8D9D6Nrzr4wf8gnTf8Aru3/AKDXotedfGD/AJBOm/8AXdv/AEGvSrfw2fGZd/vcP66HlFFFFeYfbhRRRQAUUUUAe/eB/wDkSNL/AOuP9TU/iz/kT9W/69JP/QTUHgf/AJEjS/8Arj/U1P4s/wCRP1b/AK9JP/QTXqL+H8j4WX+9v/F+p89UUUV5Z90FFFFABRRRQB6h8HP9Xq/1h/8AZ69MrzP4Of6vV/rD/wCz16ZXpUP4aPisz/3ufy/JBRRRWx5wUUUUAFFFFABRRRQAUUUUAeZ/GP8A1ekfWb/2SvL69Q+Mf+r0j6zf+yV5fXm1/wCIz7TK/wDdIfP82FFFFYnpBRRRQAV9C+E/+RP0n/r0j/8AQRXz1X0L4T/5E/Sf+vSP/wBBFdWG+Jng51/Cj6mvRRRXcfLhRRRQAUUUUAFFFFABRRRQAUUUUAFFFFABRRRQAUUUUAFFFFABRRRQAUUUUAFFFFABRRRQAVS8L/8AIoaP/wBeMH/osVdql4X/AORQ0f8A68YP/RYoA1KKKKQwooooAKKKKACiiigAooooAKKKKACiiigAooooAKy/FH/Ioax/14z/APos1qVl+KP+RQ1j/rxn/wDRZoAu0UUUxBRRRQBHP/x7S/7h/lXzPX0xP/x7S/7h/lXzPXHiuh9Jkm1T5fqFFFFcZ9EFFFFABXe/CL/kaLv/AK82/wDQ0rgq734Rf8jRd/8AXm3/AKGla0vjRw5h/us/Q9frw34k/wDI+33+7F/6LWvcq8N+JP8AyPt9/uxf+i1rqxPwHgZN/vD9P1RytFFFcB9aFFFFABV/Qf8AkY9N/wCvuL/0MVQq/oP/ACMem/8AX3F/6GKa3M6nwP0Po2vOvjB/yCdN/wCu7f8AoNei1518YP8AkE6b/wBd2/8AQa9Kt/DZ8Zl3+9w/roeUUUUV5h9uFFFFABRRRQB794H/AORI0v8A64/1NT+LP+RP1b/r0k/9BNQeB/8AkSNL/wCuP9TU/iz/AJE/Vv8Ar0k/9BNeov4fyPhZf72/8X6nz1RRRXln3QUUUUAFFFFAHqHwc/1er/WH/wBnr0yvM/g5/q9X+sP/ALPXplelQ/ho+KzP/e5/L8kFFFFbHnBRRRQAUUUUAFFFFABRRRQB5n8Y/wDV6R9Zv/ZK8vr1D4x/6vSPrN/7JXl9ebX/AIjPtMr/AN0h8/zYUUUViekFFFFABX0L4T/5E/Sf+vSP/wBBFfPVfQvhP/kT9J/69I//AEEV1Yb4meDnX8KPqa9FFFdx8uFFFFABRRRQAUUUUAFFFFABRRRQAUUUUAFFFFABRRRQAUUUUAFFFFABRRRQAUUUUAFFFFABVLwv/wAiho//AF4wf+ixV2qXhf8A5FDR/wDrxg/9FigDUooopDCiiigAooooAKKKKACiiigAooooAKKKKACiiigArL8Uf8ihrH/XjP8A+izWpWX4o/5FDWP+vGf/ANFmgC7RRRTEFFFFAEc//HtL/uH+VfM9fTE//HtL/uH+VfM9ceK6H0mSbVPl+oUUUVxn0QUUUUAFd78Iv+Rou/8Arzb/ANDSuCrvfhF/yNF3/wBebf8AoaVrS+NHDmH+6z9D1+vDfiT/AMj7ff7sX/ota9yrw34k/wDI+33+7F/6LWurE/AeBk3+8P0/VHK0UUVwH1oUUUUAFX9B/wCRj03/AK+4v/QxVCr+g/8AIx6b/wBfcX/oYprczqfA/Q+ja86+MH/IJ03/AK7t/wCg16LXnXxg/wCQTpv/AF3b/wBBr0q38NnxmXf73D+uh5RRRRXmH24UUUUAFFFFAHv3gf8A5EjS/wDrj/U1P4s/5E/Vv+vST/0E1B4H/wCRI0v/AK4/1NT+LP8AkT9W/wCvST/0E16i/h/I+Fl/vb/xfqfPVFFFeWfdBRRRQAUUUUAeofBz/V6v9Yf/AGevTK8z+Dn+r1f6w/8As9emV6VD+Gj4rM/97n8vyQUUUVsecFFFFABRRRQAUUUUAFFFFAHmfxj/ANXpH1m/9kry+vUPjH/q9I+s3/sleX15tf8AiM+0yv8A3SHz/NhRRRWJ6QUUUUAFfQvhP/kT9J/69I//AEEV89V9C+E/+RP0n/r0j/8AQRXVhviZ4Odfwo+pr0UUV3Hy4UUUUAFFFFABRRRQAUUUUAFFFFABRRRQAUUUUAFFFFABRRRQAUUUUAFFFFABRRRQAUUUUAFUvC//ACKGj/8AXjB/6LFXapeF/wDkUNH/AOvGD/0WKANSiiikMKKKKACiiigAooooAKKKKACiiigAooooAKKKKACsvxR/yKGsf9eM/wD6LNalZfij/kUNY/68Z/8A0WaALtFFFMQUUUUARz/8e0v+4f5V8z19MT/8e0v+4f5V8z1x4rofSZJtU+X6hRRRXGfRBRRRQAV3vwi/5Gi7/wCvNv8A0NK4Ku9+EX/I0Xf/AF5t/wChpWtL40cOYf7rP0PX68N+JP8AyPt9/uxf+i1r3KvDfiT/AMj7ff7sX/ota6sT8B4GTf7w/T9UcrRRRXAfWhRRRQAVf0H/AJGPTf8Ar7i/9DFUKv6D/wAjHpv/AF9xf+himtzOp8D9D6Nrzr4wf8gnTf8Aru3/AKDXotedfGD/AJBOm/8AXdv/AEGvSrfw2fGZd/vcP66HlFFFFeYfbhRRRQAUUUUAe/eB/wDkSNL/AOuP9TU/iz/kT9W/69JP/QTUHgf/AJEjS/8Arj/U1P4s/wCRP1b/AK9JP/QTXqL+H8j4WX+9v/F+p89UUUV5Z90FFFFABRRRQB6h8HP9Xq/1h/8AZ69MrzP4Of6vV/rD/wCz16ZXpUP4aPisz/3ufy/JBRRRWx5wUUUUAFFFFABRRRQAUUUUAeZ/GP8A1ekfWb/2SvL69Q+Mf+r0j6zf+yV5fXm1/wCIz7TK/wDdIfP82FFFFYnpBRRRQAV9C+E/+RP0n/r0j/8AQRXz1X0L4T/5E/Sf+vSP/wBBFdWG+Jng51/Cj6mvRRRXcfLhRRRQAUUUUAFFFFABRRRQAUUUUAFFFFABRRRQAUUUUAFFFFABRRRQAUUUUAFFFFABRRRQAVS8L/8AIoaP/wBeMH/osVdql4X/AORQ0f8A68YP/RYoA1KKKKQwooooAKKKKACiiigAooooAKKKKACiiigAooooAKy/FH/Ioax/14z/APos1qVl+KP+RQ1j/rxn/wDRZoAu0UUUxBRRRQBHP/x7S/7h/lXzPX0xP/x7S/7h/lXzPXHiuh9Jkm1T5fqFFFFcZ9EFFFFABXe/CL/kaLv/AK82/wDQ0rgq734Rf8jRd/8AXm3/AKGla0vjRw5h/us/Q9frw34k/wDI+33+7F/6LWvcq8N+JP8AyPt9/uxf+i1rqxPwHgZN/vD9P1RytFFFcB9aFFFFABV/Qf8AkY9N/wCvuL/0MVQq/oP/ACMem/8AX3F/6GKa3M6nwP0Po2vOvjB/yCdN/wCu7f8AoNei1518YP8AkE6b/wBd2/8AQa9Kt/DZ8Zl3+9w/roeUUUUV5h9uFFFFABRRRQB794H/AORI0v8A64/1NT+LP+RP1b/r0k/9BNQeB/8AkSNL/wCuP9TU/iz/AJE/Vv8Ar0k/9BNeov4fyPhZf72/8X6nz1RRRXln3QUUUUAFFFFAHqHwc/1er/WH/wBnr0yvM/g5/q9X+sP/ALPXplelQ/ho+KzP/e5/L8kFFFFbHnBRRRQAUUUUAFFFFABRRRQB5n8Y/wDV6R9Zv/ZK8vr1D4x/6vSPrN/7JXl9ebX/AIjPtMr/AN0h8/zYUUUViekFFFFABX0L4T/5E/Sf+vSP/wBBFfPVfQvhP/kT9J/69I//AEEV1Yb4meDnX8KPqa9FFFdx8uFFFFABRRRQAUUUUAFFFFABRRRQAUUUUAFFFFABRRRQAUUUUAFFFFABRRRQAUUUUAFFFFABVLwv/wAiho//AF4wf+ixV2qXhf8A5FDR/wDrxg/9FigDUooopDCiiigAooooAKKKKACiiigAorkbjxRdR61c20V/pcjw3iwJpnln7VKp25YHzOwYn7mML+Nbs2rtb6nHa3Gn3UcUriNLsmMxMxGQMB946Y5XrQBo0Viw+JYpbGe/awu4rCGNpBdOYikgU9gHLA/7wGO+Kv6fezXsTPPp9zY4PyrcNExceo8t2GPrQBborm7DXLyTXJLfUJ47aLzpI4oJNMnjMgUnbtnZvLYkDdgDkZ9KW11y/wBtle3gtms9RDGCKONlki+QuoZixD5VT0VcH1oA6OsvxR/yKGsf9eM//os1jx+LJ4EEV+YXuGeJ1NtbyNiJlDH5AWZmGccdcg4AzWr4ilSfwVqssLB45NPmZWHQgxnBoA0KKj+0wf8APaP/AL7FH2mD/ntH/wB9imIkoqP7TB/z2j/77FH2mD/ntH/32KACf/j2l/3D/KvmevpSe5g+zyfvo/uH+IelfNW4eo/OuPE9D6TJNqny/UWik3D1H50bh6j864z6IWik3D1H50bh6j86AFrvfhF/yNF3/wBebf8AoaVwO4eo/Ou7+EsqJ4muy7qo+xnqcfxpWtL40cOYf7rP0PYq8N+JP/I+33+7F/6LWvbvtMH/AD2j/wC+xXh/xHkRvHd8VZSNsfIP/TNa6sT8B4GTf7w/T9UcvRSbh6j86Nw9R+dcB9aLRSbh6j86Nw9R+dAC1f0H/kY9N/6+4v8A0MVn7h6j86v6EyjxFppLAD7XF3/2xTW5nU+B+h9HV518YP8AkE6b/wBd2/8AQa9B+0wf89o/++xXnnxdmjfStO2SK379ujA/w16Vb+Gz4zLv96h/XQ8qopNw9R+dG4eo/OvMPtxaKTcPUfnRuHqPzoAWik3D1H50bh6j86APf/A//IkaX/1x/qan8Wf8ifq3/XpJ/wCgmqngi4hXwTpYaVARD0LD1NT+K7iE+ENWAljJNpJgBh/dNeov4fyPhZf72/8AF+p8/UUm4eo/OjcPUfnXln3QtFJuHqPzo3D1H50ALRSbh6j86Nw9R+dAHqPwc/1er/WH/wBnr0yvMPg/LGker75FXJhxlsf369L+0wf89o/++xXpUP4aPisz/wB7n8vyRJRUf2mD/ntH/wB9ij7TB/z2j/77FbHnElFR/aYP+e0f/fYo+0wf89o/++xQBJRUf2mD/ntH/wB9ij7TB/z2j/77FAElFR/aYP8AntH/AN9ij7TB/wA9o/8AvsUASUVH9pg/57R/99ij7TB/z2j/AO+xQB5v8Y/9XpH1m/8AZK8vr034wSxvHpGyRWwZs4bP9yvMdw9R+debX/iM+0yv/dIfP82LRSbh6j86Nw9R+dYnpC0Um4eo/OjcPUfnQAtfQvhP/kT9J/69I/8A0EV887h6j86+gvClxCPCGkgyxgi0jyCw/uiurDfEzwc6/hR9TboqP7TB/wA9o/8AvsUfaYP+e0f/AH2K7j5ckoqP7TB/z2j/AO+xR9pg/wCe0f8A32KAJKKj+0wf89o/++xR9pg/57R/99igCSio/tMH/PaP/vsUfaYP+e0f/fYoAkoqP7TB/wA9o/8AvsUfaYP+e0f/AH2KAJKKj+0wf89o/wDvsUfaYP8AntH/AN9igCSio/tMH/PaP/vsUfaYP+e0f/fYoAkoqP7TB/z2j/77FH2mD/ntH/32KAJKKj+0wf8APaP/AL7FH2mD/ntH/wB9igCSio/tMH/PaP8A77FH2mD/AJ7R/wDfYoAkoqP7TB/z2j/77FH2mD/ntH/32KAJKKj+0wf89o/++xR9pg/57R/99igCSio/tMH/AD2j/wC+xR9pg/57R/8AfYoAkoqP7TB/z2j/AO+xR9pg/wCe0f8A32KAJKpeF/8AkUNH/wCvGD/0WKs/aYP+e0f/AH2KreF/+RQ0f/rxg/8ARYoA1KKKKQwooooAKKKKACiiigAooooAq2Nl9jku28zf9puDNjbjblVGPf7tYQ8H511dRlntHaO6+0JKbIfaTyfkaYsSVAOAABgAenPT0UAYVtoV7BqV1qJurBbqaIoGgsGjVzkYaUeaTIRjA5XGT61Y0LRm0eK4DvbkzybzHaW/kQpxj5U3NgnqTnmtWigDHk0rULy/hk1O/tpLW3m86KGC0aNiwBC7nMjZAB7AZP5Uyw0Ge0uLVZr1JbKx3fZIVg2OuQVG99xDYUkDCr75rbooAwT4XigM02mG1s7lpxLEy2o8tMAjBRSu7O5iTkEk+2KfrVqtl4B1G1Riyw6bKgY9TiIjNbdZfij/AJFDWP8Arxn/APRZoA1KKKKACiiigCO4/wCPaX/cP8q+Ya+nrj/j2l/3D/KvmGuPE9D6PJNqny/UKKKK5D6IKKKKACu/+D//ACNN5/15N/6GlcBXf/B//kabz/ryb/0NK1pfGjhx/wDus/Q9jrwj4mf8j/ff7sX/AKLWvd68I+Jn/I/33+7F/wCi1rqxHwHg5N/vD9P1RylFFFcB9YFFFFABWhoH/IyaZ/19xf8AoYrPrQ0D/kZNM/6+4v8A0MU1uZ1PgfofSVecfGP/AJBGm/8AXdv/AEGvR684+Mf/ACCNN/67t/6DXo1vgZ8bl3+9Q/roeSUUUV5p9sFFFFABRRRQB9BeBf8AkRtK/wCuP9TVjxb/AMibq/8A15y/+gmq/gX/AJEbSv8Arj/U1Y8W/wDIm6v/ANecv/oJr01/D+R8NL/e3/i/U+daKKK8w+5CiiigAooooA9T+DP+r1j6w/8As9en15h8Gf8AV6x9Yf8A2evT69Gj/DR8Xmf+9z+X5IKKKK2POCiiigAooooAKKKKACiiigDzD4zf6vR/rN/7JXllep/Gb/V6P9Zv/ZK8srzq38Rn2eV/7pH5/mwooorE9IKKKKACvorwl/yJukf9ecX/AKCK+da+ivCX/Im6R/15xf8AoIrqw3xM8HOv4UfU2KKKK7T5gKKKKACiiigAooooAKKKKACiiigAooooAKKKKACiiigAooqK6u7extZLm9nitreIbpJZnCIg9STwKAJaKp6jrGm6RaLdatqNpY27EKJrmdY0JPQZYgUXesabYWkV1f6jaW1vMyrHNNOqI5b7oDE4JPb1oAuUVG1xCk0cLyxrLKCY0LAM4HXA74yKkoAKKKKACiiigArL8L/8iho//XjB/wCixWpWX4X/AORQ0f8A68YP/RYoA1KKKKACiiigAooooAKKKKACiiigAooooAKKKKACiiigArL8Uf8AIoax/wBeM/8A6LNalZfij/kUNY/68Z//AEWaANSiiigAooooAjuP+PaX/cP8q+Ya+nrj/j2l/wBw/wAq+Ya48T0Po8k2qfL9QooorkPogooooAK7/wCD/wDyNN5/15N/6GlcBXf/AAf/AORpvP8Aryb/ANDStaXxo4cf/us/Q9jrwj4mf8j/AH3+7F/6LWvd68I+Jn/I/wB9/uxf+i1rqxHwHg5N/vD9P1RylFFFcB9YFFFFABWhoH/IyaZ/19xf+his+tDQP+Rk0z/r7i/9DFNbmdT4H6H0lXnHxj/5BGm/9d2/9Br0evOPjH/yCNN/67t/6DXo1vgZ8bl3+9Q/roeSUUUV5p9sFFFFABRRRQB9BeBf+RG0r/rj/U1Y8W/8ibq//XnL/wCgmq/gX/kRtK/64/1NWPFv/Im6v/15y/8AoJr01/D+R8NL/e3/AIv1PnWiiivMPuQooooAKKKKAPU/gz/q9Y+sP/s9en15h8Gf9XrH1h/9nr0+vRo/w0fF5n/vc/l+SCiiitjzgooooAKKKKACiiigAooooA8w+M3+r0f6zf8AsleWV6n8Zv8AV6P9Zv8A2SvLK86t/EZ9nlf+6R+f5sKKKKxPSCiiigAr6K8Jf8ibpH/XnF/6CK+da+ivCX/Im6R/15xf+giurDfEzwc6/hR9TYooortPmAooooAKKKKACiiigAooooAKKKKACiiigAooooAKKKKACvKPiP4t8P6hba5pd9r2nWw0y3kVbOW7RJbi6KZX5CclVyMccsf9mvV6p6vpkOs6Nd6bdNIkN3C0LtGQGAYYOMgjP4UAczpdzY6541srmCaC+tYtFElrLGwdCXk2uykcHhAMj+tZVlZXYhuG07TzqFrY32oWcdqkiLsWQjBG9gu1TuBA5APAPSuv1Tw5FqLW00F9eadeWqGOO7tGTzNhxlSHVlIOB1XgjjFPh8PWlt4dfRraS4ihkVg8qyfvXLEl2LEfeYk5PvxigDitH1u50+Rb2S1jvYbOwijaZrjYYrUHZ5qLtO8u6M3JX5FXnPFelViaj4VstQnhYTXFrFHGsMsFuVCXESnKxvlSQoP90qeozjitugAooooAKKKKACsvwv8A8iho/wD14wf+ixWpWX4X/wCRQ0f/AK8YP/RYoA1KKKKACiiigAooooAKKKKACiiigAooooAKKKKACiiigArL8Uf8ihrH/XjP/wCizWpWX4o/5FDWP+vGf/0WaANSiiigAooooAjuP+PaX/cP8q+Ya+nrj/j2l/3D/KvmGuPE9D6PJNqny/UKKKK5D6IKKKKACu/+D/8AyNN5/wBeTf8AoaVwFd/8H/8Akabz/ryb/wBDStaXxo4cf/us/Q9jrwj4mf8AI/33+7F/6LWvd68I+Jn/ACP99/uxf+i1rqxHwHg5N/vD9P1RylFFFcB9YFFFFABWhoH/ACMmmf8AX3F/6GKz60NA/wCRk0z/AK+4v/QxTW5nU+B+h9JV5x8Y/wDkEab/ANd2/wDQa9Hrzj4x/wDII03/AK7t/wCg16Nb4GfG5d/vUP66HklFFFeafbBRRRQAUUUUAfQXgX/kRtK/64/1NWPFv/Im6v8A9ecv/oJqv4F/5EbSv+uP9TVjxb/yJur/APXnL/6Ca9Nfw/kfDS/3t/4v1PnWiiivMPuQooooAKKKKAPU/gz/AKvWPrD/AOz16fXmHwZ/1esfWH/2evT69Gj/AA0fF5n/AL3P5fkgooorY84KKKKACiiigAooooAKKKKAPMPjN/q9H+s3/sleWV6n8Zv9Xo/1m/8AZK8srzq38Rn2eV/7pH5/mwooorE9IKKKKACvorwl/wAibpH/AF5xf+givnWvorwl/wAibpH/AF5xf+giurDfEzwc6/hR9TYooortPmAooooAKKKKACiiigAooooAKKKKACiiigAooooAK8w+JviTV9G8Q20Gl38ltE9qHZUxgnewzyPYV6fXjnxg/wCRps/+vJf/AEN6xrtqGh6eVxjPEpSV1ZmB/wAJ34m/6DE/5L/hR/wnfib/AKDE/wCS/wCFc/RXBzy7n1f1ej/IvuR0H/Cd+Jv+gxP+S/4Uf8J34m/6DE/5L/hXP0Uc8u4fV6P8i+5HQf8ACd+Jv+gxP+S/4Uf8J34m/wCgxP8Akv8AhXP0Uc8u4fV6P8i+5H0/ASbeMk5JUZJ+lPqO3/49ov8AcH8qkr1T4J7hRRRQIKy/C/8AyKGj/wDXjB/6LFalZfhf/kUNH/68YP8A0WKANSiiigAooooAKKKKACiiigAooooAKKKKACiiigAooooAKy/FH/Ioax/14z/+izWpWX4o/wCRQ1j/AK8Z/wD0WaANSiiigAooooAjuP8Aj2l/3D/KvmGvp64/49pf9w/yr5hrjxPQ+jyTap8v1CiiiuQ+iCiiigArv/g//wAjTef9eTf+hpXAV3/wf/5Gm8/68m/9DStaXxo4cf8A7rP0PY68I+Jn/I/33+7F/wCi1r3evCPiZ/yP99/uxf8Aota6sR8B4OTf7w/T9UcpRRRXAfWBRRRQAVoaB/yMmmf9fcX/AKGKz60NA/5GTTP+vuL/ANDFNbmdT4H6H0lXnHxj/wCQRpv/AF3b/wBBr0evOPjH/wAgjTf+u7f+g16Nb4GfG5d/vUP66HklFFFeafbBRRRQAUUUUAfQXgX/AJEbSv8Arj/U1Y8W/wDIm6v/ANecv/oJqv4F/wCRG0r/AK4/1NWPFv8AyJur/wDXnL/6Ca9Nfw/kfDS/3t/4v1PnWiiivMPuQooooAKKKKAPU/gz/q9Y+sP/ALPXp9eYfBn/AFesfWH/ANnr0+vRo/w0fF5n/vc/l+SCiiitjzgooooAKKKKACiiigAooooA8w+M3+r0f6zf+yV5ZXqfxm/1ej/Wb/2SvLK86t/EZ9nlf+6R+f5sKKKKxPSCiiigAr6K8Jf8ibpH/XnF/wCgivnWvorwl/yJukf9ecX/AKCK6sN8TPBzr+FH1Niiiiu0+YCiiigAooooAKKKKACiiigAooooAKKKKACiiigArxz4wf8AI02f/Xkv/ob17HXjnxg/5Gmz/wCvJf8A0N6wr/AerlP+9L0ZwFFFFeefYBRRRQAUUUUAfT1v/wAe0X+4P5VJUdv/AMe0X+4P5VJXrn529wooooEFZfhf/kUNH/68YP8A0WK1Ky/C/wDyKGj/APXjB/6LFAGpRRRQAUUUUAFFFFABRRRQAUUUUAFFFFABRRRQAUUUUAFZfij/AJFDWP8Arxn/APRZrUrL8Uf8ihrH/XjP/wCizQBqUUUUAFFFFAEdx/x7S/7h/lXzDX09cf8AHtL/ALh/lXzDXHieh9Hkm1T5fqFFFFch9EFFFFABXf8Awf8A+RpvP+vJv/Q0rgK7/wCD/wDyNN5/15N/6Gla0vjRw4//AHWfoex14R8TP+R/vv8Adi/9FrXu9eEfEz/kf77/AHYv/Ra11Yj4Dwcm/wB4fp+qOUooorgPrAooooAK0NA/5GTTP+vuL/0MVn1oaB/yMmmf9fcX/oYprczqfA/Q+kq84+Mf/II03/ru3/oNej15x8Y/+QRpv/Xdv/Qa9Gt8DPjcu/3qH9dDySiiivNPtgooooAKKKKAPoLwL/yI2lf9cf6mrHi3/kTdX/685f8A0E1X8C/8iNpX/XH+pqx4t/5E3V/+vOX/ANBNemv4fyPhpf72/wDF+p860UUV5h9yFFFFABRRRQB6n8Gf9XrH1h/9nr0+vMPgz/q9Y+sP/s9en16NH+Gj4vM/97n8vyQUUUVsecFFFFABRRRQAUUUUAFFFFAHmHxm/wBXo/1m/wDZK8sr1P4zf6vR/rN/7JXlledW/iM+zyv/AHSPz/NhRRRWJ6QUUUUAFfRXhL/kTdI/684v/QRXzrX0V4S/5E3SP+vOL/0EV1Yb4meDnX8KPqbFFFFdp8wFFFFABRRRQAUUUUAFFFFABRRRQAUUUUAFFFFABXjnxg/5Gmz/AOvJf/Q3r2OvHPjB/wAjTZ/9eS/+hvWFf4D1cp/3pejOAooorzz7AKKKKACiiigD6et/+PaL/cH8qkqO3/49ov8AcH8qkr1z87e4UUUUCCsvwv8A8iho/wD14wf+ixWpWX4X/wCRQ0f/AK8YP/RYoA1KKKKACiiigAooooAKKKKACiiigAooooAKKKKACiiigArL8Uf8ihrH/XjP/wCizWpWX4o/5FDWP+vGf/0WaANSiiigAooooAjuP+PaX/cP8q+Ya+nrj/j2l/3D/KvmGuPE9D6PJNqny/UKKKK5D6IKKKKACu/+D/8AyNN5/wBeTf8AoaVwFd/8H/8Akabz/ryb/wBDStaXxo4cf/us/Q9jrwj4mf8AI/33+7F/6LWvd68I+Jn/ACP99/uxf+i1rqxHwHg5N/vD9P1RylFFFcB9YFFFFABWhoH/ACMmmf8AX3F/6GKz60NA/wCRk0z/AK+4v/QxTW5nU+B+h9JV5x8Y/wDkEab/ANd2/wDQa9Hrzj4x/wDII03/AK7t/wCg16Nb4GfG5d/vUP66HklFFFeafbBRRRQAUUUUAfQXgX/kRtK/64/1NWPFv/Im6v8A9ecv/oJqv4F/5EbSv+uP9TVjxb/yJur/APXnL/6Ca9Nfw/kfDS/3t/4v1PnWiiivMPuQooooAKKKKAPU/gz/AKvWPrD/AOz16fXmHwZ/1esfWH/2evT69Gj/AA0fF5n/AL3P5fkgooorY84KKKKACiiigAooooAKKKKAPMPjN/q9H+s3/sleWV6n8Zv9Xo/1m/8AZK8srzq38Rn2eV/7pH5/mwooorE9IKKKKACvorwl/wAibpH/AF5xf+givnWvorwl/wAibpH/AF5xf+giurDfEzwc6/hR9TYooortPmAooooAKKKKACiiigAooooAKKKKACiiigAooooAK8c+MH/I02f/AF5L/wChvXsdeOfGD/kabP8A68l/9DesK/wHq5T/AL0vRnAUUUV559gFFFFABRRRQB9PW/8Ax7Rf7g/lUlR2/wDx7Rf7g/lUleufnb3CiiigQVl+F/8AkUNH/wCvGD/0WK1Ky/C//IoaP/14wf8AosUAalFFFABRRRQAUUUUAFFFFABRRRQAUUUUAFFFFABRRRQAVl+KP+RQ1j/rxn/9FmtSsvxR/wAihrH/AF4z/wDos0AalFFFABRRRQBHcf8AHtL/ALh/lXzDX09cf8e0v+4f5V8w1x4nofR5JtU+X6hRRRXIfRBRRRQAV3/wf/5Gm8/68m/9DSuArv8A4P8A/I03n/Xk3/oaVrS+NHDj/wDdZ+h7HXhHxM/5H++/3Yv/AEWte714R8TP+R/vv92L/wBFrXViPgPByb/eH6fqjlKKKK4D6wKKKKACtDQP+Rk0z/r7i/8AQxWfWhoH/IyaZ/19xf8AoYprczqfA/Q+kq84+Mf/ACCNN/67t/6DXo9ecfGP/kEab/13b/0GvRrfAz43Lv8Aeof10PJKKKK80+2CiiigAooooA+gvAv/ACI2lf8AXH+pqx4t/wCRN1f/AK85f/QTVfwL/wAiNpX/AFx/qaseLf8AkTdX/wCvOX/0E16a/h/I+Gl/vb/xfqfOtFFFeYfchRRRQAUUUUAep/Bn/V6x9Yf/AGevT68w+DP+r1j6w/8As9en16NH+Gj4vM/97n8vyQUUUVsecFFFFABRRRQAUUUUAFFFFAHmHxm/1ej/AFm/9kryyvU/jN/q9H+s3/sleWV51b+Iz7PK/wDdI/P82FFFFYnpBRRRQAV9FeEv+RN0j/rzi/8AQRXzrX0V4S/5E3SP+vOL/wBBFdWG+Jng51/Cj6mxRRRXafMBRRRQAUUUUAFFFFABRRRQAUUUUAFFFFABRRRQAV458YP+Rps/+vJf/Q3r2OvHPjB/yNNn/wBeS/8Aob1hX+A9XKf96XozgKKKK88+wCiiigAooooA+nrf/j2i/wBwfyqSo7f/AI9ov9wfyqSvXPzt7hRRRQIKy/C//IoaP/14wf8AosVqVl+F/wDkUNH/AOvGD/0WKANSiiigAooooAKKKKACiiigAooooAKKKKACiiigAooooAKy/FH/ACKGsf8AXjP/AOizWpWX4o/5FDWP+vGf/wBFmgDUooooAKKKKAI7j/j2l/3D/KvmGvp64/49pf8AcP8AKvmGuPE9D6PJNqny/UKKKK5D6IKKKKACu/8Ag/8A8jTef9eTf+hpXAV3/wAH/wDkabz/AK8m/wDQ0rWl8aOHH/7rP0PY68I+Jn/I/wB9/uxf+i1r3evCPiZ/yP8Aff7sX/ota6sR8B4OTf7w/T9UcpRRRXAfWBRRRQAVoaB/yMmmf9fcX/oYrPrQ0D/kZNM/6+4v/QxTW5nU+B+h9JV5x8Y/+QRpv/Xdv/Qa9Hrzj4x/8gjTf+u7f+g16Nb4GfG5d/vUP66HklFFFeafbBRRRQAUUUUAfQXgX/kRtK/64/1NWPFv/Im6v/15y/8AoJqv4F/5EbSv+uP9TVjxb/yJur/9ecv/AKCa9Nfw/kfDS/3t/wCL9T51ooorzD7kKKKKACiiigD1P4M/6vWPrD/7PXp9eYfBn/V6x9Yf/Z69Pr0aP8NHxeZ/73P5fkgooorY84KKKKACiiigAooooAKKKKAPMPjN/q9H+s3/ALJXllep/Gb/AFej/Wb/ANkryyvOrfxGfZ5X/ukfn+bCiiisT0gooooAK+ivCX/Im6R/15xf+givnWvorwl/yJukf9ecX/oIrqw3xM8HOv4UfU2KKKK7T5gKKKKACiiigAooooAKKKKACiiigAooooAKKKKACvHPjB/yNNn/ANeS/wDob17HXjnxg/5Gmz/68l/9DesK/wAB6uU/70vRnAUUUV559gFFFFABRRRQB9PW/wDx7Rf7g/lUlR2//HtF/uD+VSV65+dvcKKKKBBWX4X/AORQ0f8A68YP/RYrUrL8L/8AIoaP/wBeMH/osUAalFFFABRRRQAUUUUAFFFFABRRRQAUUUUAFFFFABRRRQAVl+KP+RQ1j/rxn/8ARZrUrL8Uf8ihrH/XjP8A+izQBqUUUUAFFFFAEdx/x7S/7h/lXzDX09cf8e0v+4f5V8w1x4nofR5JtU+X6hRRRXIfRBRRRQAV3/wf/wCRpvP+vJv/AENK4Cu/+D//ACNN5/15N/6Gla0vjRw4/wD3Wfoex14R8TP+R/vv92L/ANFrXu9eEfEz/kf77/di/wDRa11Yj4Dwcm/3h+n6o5SiiiuA+sCiiigArQ0D/kZNM/6+4v8A0MVn1oaB/wAjJpn/AF9xf+himtzOp8D9D6Srzj4x/wDII03/AK7t/wCg16PXnHxj/wCQRpv/AF3b/wBBr0a3wM+Ny7/eof10PJKKKK80+2CiiigAooooA+gvAv8AyI2lf9cf6mrHi3/kTdX/AOvOX/0E1X8C/wDIjaV/1x/qaseLf+RN1f8A685f/QTXpr+H8j4aX+9v/F+p860UUV5h9yFFFFABRRRQB6n8Gf8AV6x9Yf8A2evT68w+DP8Aq9Y+sP8A7PXp9ejR/ho+LzP/AHufy/JBRRRWx5wUUUUAFFFFABRRRQAUUUUAeYfGb/V6P9Zv/ZK8sr1P4zf6vR/rN/7JXlledW/iM+zyv/dI/P8ANhRRRWJ6QUUUUAFfRXhL/kTdI/684v8A0EV8619FeEv+RN0j/rzi/wDQRXVhviZ4Odfwo+psUUUV2nzAUUUUAFFFFABRRRQAUUUUAFFFFABRRRQAUUUUAFeOfGD/AJGmz/68l/8AQ3r2OvHPjB/yNNn/ANeS/wDob1hX+A9XKf8Ael6M4CiiivPPsAooooAKKKKAPp63/wCPaL/cH8qkqO3/AOPaL/cH8qkr1z87e4UUUUCCsvwv/wAiho//AF4wf+ixWpWX4X/5FDR/+vGD/wBFigDUooooAKKKKACiiigAooooAKKKKACiiigAooooAKKKKACsvxR/yKGsf9eM/wD6LNalZfij/kUNY/68Z/8A0WaANSiiigAooooAjuP+PaX/AHD/ACr5hr6euP8Aj2l/3D/KvmGuPE9D6PJNqny/UKKKK5D6IKKKKACu/wDg/wD8jTef9eTf+hpXAV3/AMH/APkabz/ryb/0NK1pfGjhx/8Aus/Q9jrwj4mf8j/ff7sX/ota93rwj4mf8j/ff7sX/ota6sR8B4OTf7w/T9UcpRRRXAfWBRRRQAVoaB/yMmmf9fcX/oYrPrQ0D/kZNM/6+4v/AEMU1uZ1PgfofSVecfGP/kEab/13b/0GvR684+Mf/II03/ru3/oNejW+BnxuXf71D+uh5JRRRXmn2wUUUUAFFFFAH0F4F/5EbSv+uP8AU1Y8W/8AIm6v/wBecv8A6Car+Bf+RG0r/rj/AFNWPFv/ACJur/8AXnL/AOgmvTX8P5Hw0v8Ae3/i/U+daKKK8w+5CiiigAooooA9T+DP+r1j6w/+z16fXmHwZ/1esfWH/wBnr0+vRo/w0fF5n/vc/l+SCiiitjzgooooAKKKKACiiigAooooA8w+M3+r0f6zf+yV5ZXqfxm/1ej/AFm/9kryyvOrfxGfZ5X/ALpH5/mwooorE9IKKKKACvorwl/yJukf9ecX/oIr51r6K8Jf8ibpH/XnF/6CK6sN8TPBzr+FH1Niiiiu0+YCiiigAooooAKKKKACiiigAooooAKKKKACiiigArxz4wf8jTZ/9eS/+hvXsdeOfGD/AJGmz/68l/8AQ3rCv8B6uU/70vRnAUUUV559gFFFFABRRRQB9PW//HtF/uD+VSVHb/8AHtF/uD+VSV65+dvcKKKKBBWX4X/5FDR/+vGD/wBFitSsvwv/AMiho/8A14wf+ixQBqUUUUAFFFFABRRRQAUUUUAFFFFABRRRQAUUUUAFFI2dp29ccVxmmWsUcGh3dkkcepX4kF3Oow8v7tixcjltrhevTpxQB2lZfij/AJFDWP8Arxn/APRZrkbWC/gnNha2cOnRfaITIsyrIhmEedxVG5yV3feBzsJ6kV1twsuveD5kjCRzX9iyqGJ2qzpjk9cZNAGrRWX9o1//AKBmm/8Agxk/+MUfaNf/AOgZpv8A4MZP/jFAGpRWX9o1/wD6Bmm/+DGT/wCMUfaNf/6Bmm/+DGT/AOMUAaFx/wAe0v8AuH+VfMNfRkkuvyRsn9m6aNwIz/aMn/xivMP+FQa//wA/em/9/ZP/AIiuavCU7cp7WV4qjh1P2rte3fzOCorvf+FQa/8A8/em/wDf2T/4ij/hUGv/APP3pv8A39k/+Irn9jU7Hs/2nhP5/wAH/kcFRXe/8Kg1/wD5+9N/7+yf/EUf8Kg1/wD5+9N/7+yf/EUexqdg/tPCfz/g/wDI4Ku/+D//ACNN5/15N/6GlN/4VBr/APz96b/39k/+Irf8H+CNf8J6pNef8S2782ExbPtMiY+YHOfKPpV06U1JNo5cZmGGqUJQhLV+T/yPRq8I+Jn/ACP99/uxf+i1r2P7Rr//AEDNN/8ABjJ/8Yrg/E3w81/xF4gn1Pfptt5wUeX9okfGFA6+WPT0rorRco2R5OW16dCs5VHZW/yPLaK73/hUGv8A/P3pv/f2T/4ij/hUGv8A/P3pv/f2T/4iuT2NTsfQf2nhP5/wf+RwVFd7/wAKg1//AJ+9N/7+yf8AxFH/AAqDX/8An703/v7J/wDEUexqdg/tPCfz/g/8jgq0NA/5GTTP+vuL/wBDFdb/AMKg1/8A5+9N/wC/sn/xFWLD4Va/Y6lbXf2jTX8iZJdnnSDdtIOM+Xx0pqjUvsTPMsI4tKf4P/I9drzj4x/8gjTf+u7f+g12f2jX/wDoGab/AODGT/4xXN+MvDWv+LbO2g8rTbTyJC+77ZJJuyMY/wBUK7KicoNI+ZwVSNLERnN2SPFaK73/AIVBr/8Az96b/wB/ZP8A4ij/AIVBr/8Az96b/wB/ZP8A4iuL2NTsfUf2nhP5/wAH/kcFRXe/8Kg1/wD5+9N/7+yf/EUf8Kg1/wD5+9N/7+yf/EUexqdg/tPCfz/g/wDI4Kiu9/4VBr//AD96b/39k/8AiKP+FQa//wA/em/9/ZP/AIij2NTsH9p4T+f8H/kei+Bf+RG0r/rj/U1Y8W/8ibq//XnL/wCgmqehWev6Lodrp32LTZ/s6bPM+3SLu5z08k4/OpNXg1/VdGu7D7DpsX2mFovM+3yNtyMZx5IzXdZ8lj5Vzi8Rz9L3/E+faK73/hUGv/8AP3pv/f2T/wCIo/4VBr//AD96b/39k/8AiK4fY1Ox9V/aeE/n/B/5HBUV3v8AwqDX/wDn703/AL+yf/EUf8Kg1/8A5+9N/wC/sn/xFHsanYP7Twn8/wCD/wAjgqK73/hUGv8A/P3pv/f2T/4ij/hUGv8A/P3pv/f2T/4ij2NTsH9p4T+f8H/ka3wZ/wBXrH1h/wDZ69Prg/BnhXX/AAit4PL028+1FD/x9yR7du7/AKZHP3q6j7Rr/wD0DNN/8GMn/wAYrtpRcYJM+Zx1WFXESnB3Tt+SNSisv7Rr/wD0DNN/8GMn/wAYo+0a/wD9AzTf/BjJ/wDGK0OI1KKy/tGv/wDQM03/AMGMn/xij7Rr/wD0DNN/8GMn/wAYoA1KKy/tGv8A/QM03/wYyf8Axij7Rr//AEDNN/8ABjJ/8YoA1KKy/tGv/wDQM03/AMGMn/xij7Rr/wD0DNN/8GMn/wAYoA1KKy/tGv8A/QM03/wYyf8Axij7Rr//AEDNN/8ABjJ/8YoA4T4zf6vR/rN/7JXllezeM/Cuv+Llsx5em2f2Uuf+PuSTdu2/9Mhj7tct/wAKg1//AJ+9N/7+yf8AxFcVWlOU20j6bAY7D0cPGE5Wav0ff0OCorvf+FQa/wD8/em/9/ZP/iKP+FQa/wD8/em/9/ZP/iKz9jU7Hb/aeE/n/B/5HBUV3v8AwqDX/wDn703/AL+yf/EUf8Kg1/8A5+9N/wC/sn/xFHsanYP7Twn8/wCD/wAjgq+ivCX/ACJukf8AXnF/6CK8y/4VBr//AD96b/39k/8AiK9F0iDX9K0a0sPsOmy/ZoVi8z7fIu7AxnHknFb0acot3PJzTF0a8IqnK9n5nQUVl/aNf/6Bmm/+DGT/AOMUfaNf/wCgZpv/AIMZP/jFdR4RqUVl/aNf/wCgZpv/AIMZP/jFH2jX/wDoGab/AODGT/4xQBqUVl/aNf8A+gZpv/gxk/8AjFH2jX/+gZpv/gxk/wDjFAGpRWX9o1//AKBmm/8Agxk/+MUfaNf/AOgZpv8A4MZP/jFAGpRWX9o1/wD6Bmm/+DGT/wCMUfaNf/6Bmm/+DGT/AOMUAalFZf2jX/8AoGab/wCDGT/4xR9o1/8A6Bmm/wDgxk/+MUAalFZf2jX/APoGab/4MZP/AIxR9o1//oGab/4MZP8A4xQBqUVl/aNf/wCgZpv/AIMZP/jFH2jX/wDoGab/AODGT/4xQBqV458YP+Rps/8AryX/ANDevT/tGv8A/QM03/wYyf8AxiuN8YeCNf8AFmqQ3n/EttPKhEWz7TI+fmJznyh61lWi5Rsj0MvrQo11Oo7I8jorvf8AhUGv/wDP3pv/AH9k/wDiKP8AhUGv/wDP3pv/AH9k/wDiK4/Y1Ox9H/aeE/n/AAf+RwVFd7/wqDX/APn703/v7J/8RR/wqDX/APn703/v7J/8RR7Gp2D+08J/P+D/AMjgqK73/hUGv/8AP3pv/f2T/wCIo/4VBr//AD96b/39k/8AiKPY1Owf2nhP5/wf+R7Db/8AHtF/uD+VSVkxy6/HGqf2bpp2gDP9oyf/ABinfaNf/wCgZpv/AIMZP/jFeifGvc1KKy/tGv8A/QM03/wYyf8Axij7Rr//AEDNN/8ABjJ/8YoEalZfhf8A5FDR/wDrxg/9Fij7Rr//AEDNN/8ABjJ/8YqfRrOTTtCsLKYq0ltbRxOUOQSqgHHtxQBdooooAKKKKACiiigAooooAKKKKACiiigAooooAKqwaZYW15Nd21lbw3M/+tmjiVXk/wB5gMn8atUUAV59Osrm2lt7mzt5oJm3SRSRKyueuSCME8Cp1UKoVQAAMAAdKWigAooooAKKKKACiiigAqpqmorpWmy3skMs6RYJSLbuwTjOWIAAzkkkACrdUNbu3stHmnj8sEYBeVC6RqSAXYAjKgEk8jgdR1oAhg1i9mmRH8O6lCjEAyvJbFVHqdsxOPoDWrXH22sQQ3VrHpXiy21h5JEjaxBgf5SQCYxEAy7Rk/NuGBz612FABRRRQAUUUUAFFFFAGINcvFaW5m06MaZHM8RnjuC0qhWKl2j2ABcg5wxIHOOuLmjX7alYNcN5ZHnyopj6FVkZQfyArnpdVtFvLtbnxTa6BKs7gWii3jY4OA8nmgliwAORt4I69a3PDjiTQoWWK3jUs+020XlxyDccOq84Dfe6nr1PWgDUooooAKKKKACiiigDF1jW7rTpp/s1jFcQ2sAnnZ7gxsASwAVdhDfdPUipdIvdQlubiz1eO2W5iRJQ1szFSj5wMNyCCpGe/XjOBR1zUILbWFiu9Yt9DjMAIunWNZJvmPyK8gKgDAJG0n5h07yeHLxLu8vfIv7bVokWMLqEKJuf737t2T5WK9eAMBuncgG/RRRQAUUUUAFFFFAGfrV9e6fYifTrBb5w4Do0pTYndvlRicegBNZ+k61q2oay0E1ppgsxbxzCa2vnlJDFwCMxqGzt9sep6C5r+oPp9lE63MVkkkojku513JAuCdx5AHIABJwCRnPQ4GiPp9t4m36LrttrL6gf9MCmJpEChiJMwhVAycHcuSWHPGKAOzooooAKKKKACiiigBGO1SfQZrA/tnU7+GzbSLe1RpbRbuUXLsRg9IxjGCefmPTH3Tmt9vunjPHT1rz6yk0SzSW6t/EOj6LfSr+9sYre2jRf+mcqEeaxHQ/OuT0A6UAd3Y3a3+n293GCqzxrIAe2Rmp6qaW7PpFoz262zNChMKrtEfA+UDtj0q3QAUUUUAFFFFABRRRQAVmX2pXiagLLSbKG6nWMSym4uDCkakkLyEYkkg8Y7HnpnTrnNcuEsNZjuLTUhZ3ckISZZLGS5iMYY7WfYV8vBLYYsBy3XHABastcnl1Q6Xfae0N8o3v5DmWERkHD+YVXqQV24ByOmOaXxJqE+m21rLDfWlgj3ASW4vE3RIu1jz8y9SAB8w5/KofDssVzeX1x9vGo3LFUkuYbcx24C5wkZJIOCTnDNyeSOgt69cLb2CsdRnsHLgRtbwCZ5GwflEe1i3qQozgHkUAYNr4nuL++jmivYVjgFvHNbRgFZXlcqTk/MMDawAPQ85yMdjWHoj32oyGfXNLiR7Y5tLtoRG0gYckRlnaPjA5bJ7gdK3KACiiigAooooAKKKKACq1899HADptvb3Eu7lbidolA9chG59sVZpGAKkHoRzQBzFt4uebUo7SSfw2HaQRskWub5Ac4wE8kZb2yK6iuKt/s0l1ZQade3Jt18iN2GjXDLJ5THaUmACKDnBbkY7iu1oAKKKKACiiigAooooAKKKKACiiigDA1W81DTHMt34i0PT7eRyIvtlmwP03G4UE49APpV3Q777fYtL/amn6nhyvnWCbUHA+U/O/P49+lM1Wwg1C7WFp/KnktJo1GzPykplvwIXjvml0SN4vtwnvYru4NzmYwQGJEbYvyhSzdsE8nk0AalFFFABRRRQAUUUUAFFFFABRRRQAUUUUAFFFFABRRRQAUUUUAFFFFABRRRQAUUUUAFFFFABRRRQAUUUUAFFFFABUVzcw2drJcXUixQxKXd2PCgd6lrP1u0nvdKeO02GdXSWNZDhXKOG2k9gcYz70ARW/iTTri4jgBuoHlyIzdWM0CscZwGkQAnAJxnPBrShmjuIUmgdZI5FDI6nIYHoQa53Ujd+ILeGwvtCms7Rpo5LiS+kgZNqsG2gI7FiSAOQBgn6HpQAoAAwBwAO1ABRRRQAUUUUAFFFFAGXc+I9PtbqW3b7XNJCcSfZrGedUOM4LIhAOCDjOeRVy11C0vlVrO4jmDRrKNjZ+Vs4P44P5Vj282paM1zbLot1qEbTyTRT2ssIDB2LYYSOpBBJHAIxg57C34d01dN01w0cCXFxNJPceRyPMZiSM98fdz7UAatFFFABRRRQAUUUUAUdQ1iz0ySOO5aZpZQSkVvbyTuQOp2opIHI5xjmks9asL4DyJyrmTyvKmjaKQPt3YKOAwO3np05qrei9sNca/tdPl1CGeBYXjgkjWSMqzEH52UFTuOecggcHPDNLtHuNfutYvrFbO4eFIIYpGR5kjBYksVJA3E9ATwo78AA3KKKKACiiigAooooAr319b6datcXkhSMEDhSzMScABQCSSeAACTVODxJpk8jo0s1syRmU/bLWW2yo6keYq5AyM46ZFLrdvdSJaXNjCLiWznE3kbgplG1lIBPAbDZGcDI6jrVCeOfXdU0/+0NHeytrOYzg3rws0km0hQio7dMlsnHQYz2AOiByMjpRRRQAUUUUAFFFFABWPL4q0qJpNz3TRxMVedLGd4VIODmQIUwDnJzgYOela7DKkdMiubtJ9X03SE0tdBnuZYI/JjuEnhEEgHCscuHAxyRsJHOM9wDoYbmG4LiCVJPLO19jA7TgHB/Ag/jUlZ+habBpOhWllaiLZDEAWiUBXOOW/E5NaFABRRRQAUUUUAFFFFABWHq2iaheXd1LYahbWyXdqLaVJ7RpTgb+VIkXH3z1B6VuUUAUNJtb+ztxDf3VpcJGqpELa1aHaAMc5kbPbpiqWurrrXC/2cT9g8v8AeLZlFuy+eimX93tx15U+h7VuUUAc54NS1TSwBHOmp7E+2m8D/aGbHG4v8zL1AIJXg4ro6KKACiiigAooooAKKKKACo55liVd4c72CDZGz8n1wOB7nipKztcF5/Zm7To5ZZkmify4XVGdRIpYAsQOVB6kZoAwNHv9QtntbH7e8sCOIwH8NXkZ254XzC20YHG4jtk5rsK5/TtQ1X+07r7VoWpJBcTKYmea3ZYV2KDkCYkDIJ4BroKACiiigAooooAKKKKACiiigAooooA5rxBo1nqWtWqDTNKkvJonJur+zE4CLt+XblSx+YY54APrV/w6ogs57EW9pB9jmMX+hQ+VE2QGyqZO373IyeQeazbq5bUL7UrHUPDs2t2tvcr5XyWzIn7pDjEjqc5YnOO/WtnR1SPTxFDpL6RFGxCWzLEAB1yBGzKBk+tAF+iiigAooooAKKKKACiiigAooooAKKKKACiiigAooooAKKKKACiiigAooooAKKKKACiiigAooooAKKKKACiiigArL8R2811okkNvbPdFpI/MgRlBljDqXX5iByuRgkZ6VqUUAcZpumCPWi83hS9htFlVrOJpbfyLQ4G5xGsxAO7JyASO3U57OiigAooooAKKKKACiiigDhLnSbv7Szjw5ftdPeyNcX1rcQRyT25ZsIH81XxjYMHGMcYxXX6TDFb6XDFb6cdNjUELakICnP8AsErz14J61cooAKKKKACiiigAooooA5PxJp091qlxL/YU2pn7Gq2UyND/AKNNlyWHmOpU/cOV9PatHw1aLbQyl9IurG5cKZ7i7kjkkuWx1Lq7k49DgDOAMVt0UAFFFFABRRRQAUUUUAYvia0ku4LNf7NfVLZbjdcWimP94uxsZEjKpAYqcE9qzPDunNBqXmXnh29hdZJBazTzQPHaRc7URVlYpxwdq+xOAMdbRQAUUUUAFFFFABRRRQAjZ2Hb1xxXn8GjTotkk3hTUAPKI1LyJ7ZPtr8YLkTAyDO4nd1zg8EivQaKAIbRVSzhWO3+yoqALBhR5Yx93CkjjpwcVNRRQAUUUUAFFFFABRRRQAUUUUAFFFFABRRRQAUUUUAFFFFABRRRQAUUUUAFFFFABRRRQAUUUUAFFFFABRRRQAUUUUAMSKONnaONVaRtzlVwWOAMn1OAB+FPoooAKKKKACiiigAooooAKKKKACiiigAooooAKKKKACiiigAooooAKKKKACiiigAooooAKKKKACiiigAooooAKKKKACiiigAooooAKKKKACiiigAooooAKKKKACiiigAooooAKKKKACiiigAooooAKKKKACiiigAooooAKKKKACiiigAooooAKKKKACiiigAooooAKKKKACiiigAooooAKKKKACiiigAooooAKKKKACiiigAooooAKKKKACiiigAooooAKKKKACiiigAooooAKKKKACiiigAooooAKKKKACiiigAooooA/9k=)"
      ],
      "metadata": {
        "id": "3yrKUf8Nqg46"
      }
    },
    {
      "cell_type": "markdown",
      "source": [],
      "metadata": {
        "id": "4HrNqF41qkrb"
      }
    }
  ]
}